{
 "cells": [
  {
   "cell_type": "code",
   "execution_count": 1,
   "id": "5e20cb36",
   "metadata": {},
   "outputs": [],
   "source": [
    "import pandas as pd"
   ]
  },
  {
   "cell_type": "markdown",
   "id": "f51cfc9c",
   "metadata": {},
   "source": [
    "# 3/19"
   ]
  },
  {
   "cell_type": "code",
   "execution_count": 2,
   "id": "a297a403",
   "metadata": {},
   "outputs": [],
   "source": [
    "df_custom = pd.read_csv('아웃소싱데이터/Customer_data.csv')\n",
    "df_expert = pd.read_csv('아웃소싱데이터/Expert_Data.csv')\n",
    "df_log = pd.read_csv('아웃소싱데이터/Log_Data02.csv')\n",
    "df_service = pd.read_csv('아웃소싱데이터/Service_Data.csv')"
   ]
  },
  {
   "cell_type": "code",
   "execution_count": 20,
   "id": "b6827e93",
   "metadata": {
    "collapsed": true
   },
   "outputs": [
    {
     "data": {
      "text/plain": [
       "서비스총구매수\n",
       "1          71281\n",
       "2          29640\n",
       "3          14635\n",
       "4           7706\n",
       "5           4426\n",
       "           ...  \n",
       "88             1\n",
       "90             1\n",
       "91             1\n",
       "94             1\n",
       "96             1\n",
       "Name: count, Length: 90, dtype: int64"
      ]
     },
     "execution_count": 20,
     "metadata": {},
     "output_type": "execute_result"
    }
   ],
   "source": [
    "df_custom.pivot_table(index='고객ID', values='서비스총구매수',\n",
    "                     aggfunc='sum').value_counts()"
   ]
  },
  {
   "cell_type": "code",
   "execution_count": null,
   "id": "c67ed53a",
   "metadata": {},
   "outputs": [],
   "source": [
    "df_custom.pivot_table()"
   ]
  },
  {
   "cell_type": "code",
   "execution_count": 5,
   "id": "d2b71904",
   "metadata": {},
   "outputs": [
    {
     "data": {
      "text/html": [
       "<div>\n",
       "<style scoped>\n",
       "    .dataframe tbody tr th:only-of-type {\n",
       "        vertical-align: middle;\n",
       "    }\n",
       "\n",
       "    .dataframe tbody tr th {\n",
       "        vertical-align: top;\n",
       "    }\n",
       "\n",
       "    .dataframe thead th {\n",
       "        text-align: right;\n",
       "    }\n",
       "</style>\n",
       "<table border=\"1\" class=\"dataframe\">\n",
       "  <thead>\n",
       "    <tr style=\"text-align: right;\">\n",
       "      <th></th>\n",
       "      <th>판매자ID</th>\n",
       "      <th>판매자</th>\n",
       "      <th>판매 서비스 수</th>\n",
       "      <th>총 판매 금액</th>\n",
       "      <th>프리미엄 서비스 가입여부</th>\n",
       "      <th>신속 알람 서비스 사용여부</th>\n",
       "    </tr>\n",
       "  </thead>\n",
       "  <tbody>\n",
       "    <tr>\n",
       "      <th>0</th>\n",
       "      <td>V2_0</td>\n",
       "      <td>김러그</td>\n",
       "      <td>326</td>\n",
       "      <td>147927420</td>\n",
       "      <td>가입</td>\n",
       "      <td>미사용</td>\n",
       "    </tr>\n",
       "    <tr>\n",
       "      <th>1</th>\n",
       "      <td>V2_1</td>\n",
       "      <td>디프라이</td>\n",
       "      <td>43</td>\n",
       "      <td>146832200</td>\n",
       "      <td>가입</td>\n",
       "      <td>미사용</td>\n",
       "    </tr>\n",
       "    <tr>\n",
       "      <th>2</th>\n",
       "      <td>V2_2</td>\n",
       "      <td>Sailorkr</td>\n",
       "      <td>14</td>\n",
       "      <td>140029000</td>\n",
       "      <td>가입</td>\n",
       "      <td>미사용</td>\n",
       "    </tr>\n",
       "  </tbody>\n",
       "</table>\n",
       "</div>"
      ],
      "text/plain": [
       "  판매자ID       판매자  판매 서비스 수    총 판매 금액 프리미엄 서비스 가입여부 신속 알람 서비스 사용여부\n",
       "0  V2_0       김러그       326  147927420            가입            미사용\n",
       "1  V2_1      디프라이        43  146832200            가입            미사용\n",
       "2  V2_2  Sailorkr        14  140029000            가입            미사용"
      ]
     },
     "execution_count": 5,
     "metadata": {},
     "output_type": "execute_result"
    }
   ],
   "source": [
    "df_expert.head(3) #전문가 데이터(아웃소싱 판매자 데이터)"
   ]
  },
  {
   "cell_type": "code",
   "execution_count": 29,
   "id": "91634d2d",
   "metadata": {},
   "outputs": [
    {
     "data": {
      "text/plain": [
       "프리미엄 서비스 가입여부\n",
       "미가입    1774\n",
       "가입      292\n",
       "Name: count, dtype: int64"
      ]
     },
     "execution_count": 29,
     "metadata": {},
     "output_type": "execute_result"
    }
   ],
   "source": [
    "df_expert['프리미엄 서비스 가입여부'].value_counts()"
   ]
  },
  {
   "cell_type": "code",
   "execution_count": 33,
   "id": "5e02125a",
   "metadata": {},
   "outputs": [
    {
     "data": {
      "text/plain": [
       "Index(['거래일자', '수수료율', '고객ID', '프로그램수정횟수', '추가결제금액', '거래취소여부', '거래취소일자',\n",
       "       '서비스명', '판매자', '판매금액', '서비스가격', '평점', '이용자수', '대분류', '서비스번호'],\n",
       "      dtype='object')"
      ]
     },
     "execution_count": 33,
     "metadata": {},
     "output_type": "execute_result"
    }
   ],
   "source": [
    "df_log.columns"
   ]
  },
  {
   "cell_type": "code",
   "execution_count": 25,
   "id": "eaea1b4f",
   "metadata": {},
   "outputs": [
    {
     "data": {
      "text/plain": [
       "수수료율\n",
       "6.5    241009\n",
       "7.5     68860\n",
       "9.0     34430\n",
       "Name: count, dtype: int64"
      ]
     },
     "execution_count": 25,
     "metadata": {},
     "output_type": "execute_result"
    }
   ],
   "source": [
    "df_log['수수료율'].value_counts()"
   ]
  },
  {
   "cell_type": "code",
   "execution_count": null,
   "id": "93fc0c3f",
   "metadata": {},
   "outputs": [],
   "source": [
    "### expert 데이터랑 "
   ]
  },
  {
   "cell_type": "code",
   "execution_count": 62,
   "id": "d428f3fe",
   "metadata": {},
   "outputs": [
    {
     "data": {
      "text/plain": [
       "Index(['거래일자', '수수료율', '고객ID', '프로그램수정횟수', '추가결제금액', '거래취소여부', '거래취소일자',\n",
       "       '서비스명', '판매자', '판매금액', '서비스가격', '평점', '이용자수', '대분류', '서비스번호'],\n",
       "      dtype='object')"
      ]
     },
     "execution_count": 62,
     "metadata": {},
     "output_type": "execute_result"
    }
   ],
   "source": [
    "df_log.columns"
   ]
  },
  {
   "cell_type": "code",
   "execution_count": 74,
   "id": "57fb8dcf",
   "metadata": {
    "collapsed": true
   },
   "outputs": [
    {
     "data": {
      "text/plain": [
       "프로그램수정횟수\n",
       " 0.0      289280\n",
       " 1.0       36825\n",
       "-1.0        7738\n",
       " 2.0        6101\n",
       " 3.0        2262\n",
       " 4.0        1096\n",
       " 5.0         455\n",
       " 9.0         146\n",
       " 6.0         124\n",
       " 7.0         105\n",
       " 8.0          30\n",
       " 11.0         21\n",
       " 14.0         18\n",
       " 19.0         16\n",
       " 12.0         11\n",
       " 13.0         11\n",
       " 10.0          8\n",
       " 15.0          6\n",
       " 0.5           6\n",
       " 16.0          5\n",
       " 20.0          5\n",
       " 0.1           3\n",
       " 39.0          2\n",
       " 17.0          2\n",
       " 23.0          2\n",
       " 25.0          2\n",
       " 44.0          1\n",
       " 22.0          1\n",
       " 1.5           1\n",
       " 1.1           1\n",
       " 119.0         1\n",
       " 1.2           1\n",
       " 0.2           1\n",
       " 24.0          1\n",
       " 2.8           1\n",
       " 27.0          1\n",
       " 4.2           1\n",
       " 3.5           1\n",
       " 21.0          1\n",
       " 29.0          1\n",
       " 1.6           1\n",
       " 0.3           1\n",
       " 34.0          1\n",
       " 37.0          1\n",
       " 0.8           1\n",
       "Name: count, dtype: int64"
      ]
     },
     "execution_count": 74,
     "metadata": {},
     "output_type": "execute_result"
    }
   ],
   "source": [
    "df_log['프로그램수정횟수'].value_counts()"
   ]
  },
  {
   "cell_type": "code",
   "execution_count": null,
   "id": "46870862",
   "metadata": {},
   "outputs": [],
   "source": [
    "df_log['프로그램수정횟수']"
   ]
  },
  {
   "cell_type": "code",
   "execution_count": 65,
   "id": "83b6a56d",
   "metadata": {},
   "outputs": [],
   "source": [
    "cond1 = (df_log['프로그램수정횟수'] < 0)\n",
    "dd = df_log.loc[cond1]"
   ]
  },
  {
   "cell_type": "code",
   "execution_count": 72,
   "id": "06a3f20f",
   "metadata": {
    "collapsed": true
   },
   "outputs": [
    {
     "data": {
      "text/html": [
       "<div>\n",
       "<style scoped>\n",
       "    .dataframe tbody tr th:only-of-type {\n",
       "        vertical-align: middle;\n",
       "    }\n",
       "\n",
       "    .dataframe tbody tr th {\n",
       "        vertical-align: top;\n",
       "    }\n",
       "\n",
       "    .dataframe thead th {\n",
       "        text-align: right;\n",
       "    }\n",
       "</style>\n",
       "<table border=\"1\" class=\"dataframe\">\n",
       "  <thead>\n",
       "    <tr style=\"text-align: right;\">\n",
       "      <th></th>\n",
       "      <th>거래일자</th>\n",
       "      <th>수수료율</th>\n",
       "      <th>고객ID</th>\n",
       "      <th>프로그램수정횟수</th>\n",
       "      <th>추가결제금액</th>\n",
       "      <th>거래취소여부</th>\n",
       "      <th>거래취소일자</th>\n",
       "      <th>서비스명</th>\n",
       "      <th>판매자</th>\n",
       "      <th>판매금액</th>\n",
       "      <th>서비스가격</th>\n",
       "      <th>평점</th>\n",
       "      <th>이용자수</th>\n",
       "      <th>대분류</th>\n",
       "      <th>서비스번호</th>\n",
       "    </tr>\n",
       "  </thead>\n",
       "  <tbody>\n",
       "    <tr>\n",
       "      <th>52</th>\n",
       "      <td>20210201</td>\n",
       "      <td>6.5</td>\n",
       "      <td>80103012142</td>\n",
       "      <td>-1.0</td>\n",
       "      <td>3895</td>\n",
       "      <td>NaN</td>\n",
       "      <td>NaN</td>\n",
       "      <td>주말작업가능 24시상담 쇼핑몰 상품등록,배너제작 해 드립니다.</td>\n",
       "      <td>궁봇</td>\n",
       "      <td>0.0</td>\n",
       "      <td>5000.0</td>\n",
       "      <td>4.9</td>\n",
       "      <td>394.0</td>\n",
       "      <td>커머스</td>\n",
       "      <td>2118.0</td>\n",
       "    </tr>\n",
       "    <tr>\n",
       "      <th>96</th>\n",
       "      <td>20210201</td>\n",
       "      <td>6.5</td>\n",
       "      <td>40116219200</td>\n",
       "      <td>-1.0</td>\n",
       "      <td>9300</td>\n",
       "      <td>NaN</td>\n",
       "      <td>NaN</td>\n",
       "      <td>웹사이트 기능추가, 오류수정 개발 작업해 드립니다.</td>\n",
       "      <td>greydoll</td>\n",
       "      <td>0.0</td>\n",
       "      <td>10000.0</td>\n",
       "      <td>5.0</td>\n",
       "      <td>293.0</td>\n",
       "      <td>홈페이지</td>\n",
       "      <td>2126.0</td>\n",
       "    </tr>\n",
       "    <tr>\n",
       "      <th>174</th>\n",
       "      <td>20210201</td>\n",
       "      <td>7.5</td>\n",
       "      <td>10020100522</td>\n",
       "      <td>-1.0</td>\n",
       "      <td>0</td>\n",
       "      <td>1.0</td>\n",
       "      <td>20210201.0</td>\n",
       "      <td>고퀄리티 반응형 홈페이지를 드립니다.</td>\n",
       "      <td>포인원</td>\n",
       "      <td>0.0</td>\n",
       "      <td>270000.0</td>\n",
       "      <td>5.0</td>\n",
       "      <td>207.0</td>\n",
       "      <td>홈페이지</td>\n",
       "      <td>2146.0</td>\n",
       "    </tr>\n",
       "    <tr>\n",
       "      <th>246</th>\n",
       "      <td>20210201</td>\n",
       "      <td>9.0</td>\n",
       "      <td>130202005142</td>\n",
       "      <td>-1.0</td>\n",
       "      <td>0</td>\n",
       "      <td>1.0</td>\n",
       "      <td>20210201.0</td>\n",
       "      <td>사람 일을 대신하는 메크로 프로그램 개발해 드립니다.</td>\n",
       "      <td>오토프로메이커</td>\n",
       "      <td>0.0</td>\n",
       "      <td>33000.0</td>\n",
       "      <td>5.0</td>\n",
       "      <td>179.0</td>\n",
       "      <td>프로그램</td>\n",
       "      <td>2168.0</td>\n",
       "    </tr>\n",
       "    <tr>\n",
       "      <th>248</th>\n",
       "      <td>20210201</td>\n",
       "      <td>6.5</td>\n",
       "      <td>13020200731</td>\n",
       "      <td>-1.0</td>\n",
       "      <td>0</td>\n",
       "      <td>1.0</td>\n",
       "      <td>20210201.0</td>\n",
       "      <td>사람 일을 대신하는 메크로 프로그램 개발해 드립니다.</td>\n",
       "      <td>오토프로메이커</td>\n",
       "      <td>0.0</td>\n",
       "      <td>33000.0</td>\n",
       "      <td>5.0</td>\n",
       "      <td>179.0</td>\n",
       "      <td>프로그램</td>\n",
       "      <td>2168.0</td>\n",
       "    </tr>\n",
       "    <tr>\n",
       "      <th>...</th>\n",
       "      <td>...</td>\n",
       "      <td>...</td>\n",
       "      <td>...</td>\n",
       "      <td>...</td>\n",
       "      <td>...</td>\n",
       "      <td>...</td>\n",
       "      <td>...</td>\n",
       "      <td>...</td>\n",
       "      <td>...</td>\n",
       "      <td>...</td>\n",
       "      <td>...</td>\n",
       "      <td>...</td>\n",
       "      <td>...</td>\n",
       "      <td>...</td>\n",
       "      <td>...</td>\n",
       "    </tr>\n",
       "    <tr>\n",
       "      <th>343856</th>\n",
       "      <td>20210630</td>\n",
       "      <td>6.5</td>\n",
       "      <td>10020100551</td>\n",
       "      <td>-1.0</td>\n",
       "      <td>0</td>\n",
       "      <td>1.0</td>\n",
       "      <td>20210630.0</td>\n",
       "      <td>퍼블리싱 웹퍼블리싱 반응형 js간단한 애니메이션 작업해 드립니다.</td>\n",
       "      <td>토드로</td>\n",
       "      <td>0.0</td>\n",
       "      <td>50000.0</td>\n",
       "      <td>5.0</td>\n",
       "      <td>18.0</td>\n",
       "      <td>홈페이지</td>\n",
       "      <td>2911.0</td>\n",
       "    </tr>\n",
       "    <tr>\n",
       "      <th>343950</th>\n",
       "      <td>20210630</td>\n",
       "      <td>6.5</td>\n",
       "      <td>100302007105</td>\n",
       "      <td>-1.0</td>\n",
       "      <td>0</td>\n",
       "      <td>NaN</td>\n",
       "      <td>NaN</td>\n",
       "      <td>생산,재고,급여,데이터 엑셀화로 업무의 효율을 높여 드립니다.</td>\n",
       "      <td>이지엑셀</td>\n",
       "      <td>0.0</td>\n",
       "      <td>10000.0</td>\n",
       "      <td>5.0</td>\n",
       "      <td>129.0</td>\n",
       "      <td>데이터</td>\n",
       "      <td>2214.0</td>\n",
       "    </tr>\n",
       "    <tr>\n",
       "      <th>343953</th>\n",
       "      <td>20210630</td>\n",
       "      <td>6.5</td>\n",
       "      <td>10050203427</td>\n",
       "      <td>-1.0</td>\n",
       "      <td>0</td>\n",
       "      <td>NaN</td>\n",
       "      <td>NaN</td>\n",
       "      <td>생산,재고,급여,데이터 엑셀화로 업무의 효율을 높여 드립니다.</td>\n",
       "      <td>이지엑셀</td>\n",
       "      <td>0.0</td>\n",
       "      <td>10000.0</td>\n",
       "      <td>5.0</td>\n",
       "      <td>129.0</td>\n",
       "      <td>데이터</td>\n",
       "      <td>2214.0</td>\n",
       "    </tr>\n",
       "    <tr>\n",
       "      <th>344148</th>\n",
       "      <td>20210630</td>\n",
       "      <td>6.5</td>\n",
       "      <td>11010103013</td>\n",
       "      <td>-1.0</td>\n",
       "      <td>0</td>\n",
       "      <td>NaN</td>\n",
       "      <td>NaN</td>\n",
       "      <td>테마 주문제작 가능한 워드프레스 블로그 제작</td>\n",
       "      <td>위그마</td>\n",
       "      <td>0.0</td>\n",
       "      <td>58000.0</td>\n",
       "      <td>5.0</td>\n",
       "      <td>2.0</td>\n",
       "      <td>홈페이지</td>\n",
       "      <td>4579.0</td>\n",
       "    </tr>\n",
       "    <tr>\n",
       "      <th>344189</th>\n",
       "      <td>20210630</td>\n",
       "      <td>7.5</td>\n",
       "      <td>90501003185</td>\n",
       "      <td>-1.0</td>\n",
       "      <td>0</td>\n",
       "      <td>NaN</td>\n",
       "      <td>NaN</td>\n",
       "      <td>방탈출 행사 박물관 등의 장치 만들어 드립니다.</td>\n",
       "      <td>임베디드펌웨어개발</td>\n",
       "      <td>0.0</td>\n",
       "      <td>500000.0</td>\n",
       "      <td>0.0</td>\n",
       "      <td>0.0</td>\n",
       "      <td>기타</td>\n",
       "      <td>6219.0</td>\n",
       "    </tr>\n",
       "  </tbody>\n",
       "</table>\n",
       "<p>7738 rows × 15 columns</p>\n",
       "</div>"
      ],
      "text/plain": [
       "            거래일자  수수료율          고객ID  프로그램수정횟수  추가결제금액  거래취소여부      거래취소일자  \\\n",
       "52      20210201   6.5   80103012142      -1.0    3895     NaN         NaN   \n",
       "96      20210201   6.5   40116219200      -1.0    9300     NaN         NaN   \n",
       "174     20210201   7.5   10020100522      -1.0       0     1.0  20210201.0   \n",
       "246     20210201   9.0  130202005142      -1.0       0     1.0  20210201.0   \n",
       "248     20210201   6.5   13020200731      -1.0       0     1.0  20210201.0   \n",
       "...          ...   ...           ...       ...     ...     ...         ...   \n",
       "343856  20210630   6.5   10020100551      -1.0       0     1.0  20210630.0   \n",
       "343950  20210630   6.5  100302007105      -1.0       0     NaN         NaN   \n",
       "343953  20210630   6.5   10050203427      -1.0       0     NaN         NaN   \n",
       "344148  20210630   6.5   11010103013      -1.0       0     NaN         NaN   \n",
       "344189  20210630   7.5   90501003185      -1.0       0     NaN         NaN   \n",
       "\n",
       "                                        서비스명        판매자  판매금액     서비스가격   평점  \\\n",
       "52        주말작업가능 24시상담 쇼핑몰 상품등록,배너제작 해 드립니다.         궁봇   0.0    5000.0  4.9   \n",
       "96              웹사이트 기능추가, 오류수정 개발 작업해 드립니다.   greydoll   0.0   10000.0  5.0   \n",
       "174                     고퀄리티 반응형 홈페이지를 드립니다.        포인원   0.0  270000.0  5.0   \n",
       "246            사람 일을 대신하는 메크로 프로그램 개발해 드립니다.    오토프로메이커   0.0   33000.0  5.0   \n",
       "248            사람 일을 대신하는 메크로 프로그램 개발해 드립니다.    오토프로메이커   0.0   33000.0  5.0   \n",
       "...                                      ...        ...   ...       ...  ...   \n",
       "343856  퍼블리싱 웹퍼블리싱 반응형 js간단한 애니메이션 작업해 드립니다.        토드로   0.0   50000.0  5.0   \n",
       "343950    생산,재고,급여,데이터 엑셀화로 업무의 효율을 높여 드립니다.       이지엑셀   0.0   10000.0  5.0   \n",
       "343953    생산,재고,급여,데이터 엑셀화로 업무의 효율을 높여 드립니다.       이지엑셀   0.0   10000.0  5.0   \n",
       "344148              테마 주문제작 가능한 워드프레스 블로그 제작        위그마   0.0   58000.0  5.0   \n",
       "344189            방탈출 행사 박물관 등의 장치 만들어 드립니다.  임베디드펌웨어개발   0.0  500000.0  0.0   \n",
       "\n",
       "         이용자수   대분류   서비스번호  \n",
       "52      394.0   커머스  2118.0  \n",
       "96      293.0  홈페이지  2126.0  \n",
       "174     207.0  홈페이지  2146.0  \n",
       "246     179.0  프로그램  2168.0  \n",
       "248     179.0  프로그램  2168.0  \n",
       "...       ...   ...     ...  \n",
       "343856   18.0  홈페이지  2911.0  \n",
       "343950  129.0   데이터  2214.0  \n",
       "343953  129.0   데이터  2214.0  \n",
       "344148    2.0  홈페이지  4579.0  \n",
       "344189    0.0    기타  6219.0  \n",
       "\n",
       "[7738 rows x 15 columns]"
      ]
     },
     "execution_count": 72,
     "metadata": {},
     "output_type": "execute_result"
    }
   ],
   "source": [
    "dd"
   ]
  },
  {
   "cell_type": "code",
   "execution_count": 79,
   "id": "3f4fc0e2",
   "metadata": {},
   "outputs": [
    {
     "data": {
      "text/plain": [
       "프로그램수정횟수\n",
       "-1.0    4591\n",
       " 0.0       4\n",
       " 1.0       2\n",
       "Name: count, dtype: int64"
      ]
     },
     "execution_count": 79,
     "metadata": {},
     "output_type": "execute_result"
    }
   ],
   "source": [
    "q = df_log[(df_log['거래취소여부']==1)]\n",
    "q['프로그램수정횟수'].value_counts()"
   ]
  },
  {
   "cell_type": "code",
   "execution_count": 80,
   "id": "07edfc61",
   "metadata": {
    "collapsed": true
   },
   "outputs": [
    {
     "data": {
      "text/html": [
       "<div>\n",
       "<style scoped>\n",
       "    .dataframe tbody tr th:only-of-type {\n",
       "        vertical-align: middle;\n",
       "    }\n",
       "\n",
       "    .dataframe tbody tr th {\n",
       "        vertical-align: top;\n",
       "    }\n",
       "\n",
       "    .dataframe thead th {\n",
       "        text-align: right;\n",
       "    }\n",
       "</style>\n",
       "<table border=\"1\" class=\"dataframe\">\n",
       "  <thead>\n",
       "    <tr style=\"text-align: right;\">\n",
       "      <th></th>\n",
       "      <th>거래일자</th>\n",
       "      <th>수수료율</th>\n",
       "      <th>고객ID</th>\n",
       "      <th>프로그램수정횟수</th>\n",
       "      <th>추가결제금액</th>\n",
       "      <th>거래취소여부</th>\n",
       "      <th>거래취소일자</th>\n",
       "      <th>서비스명</th>\n",
       "      <th>판매자</th>\n",
       "      <th>판매금액</th>\n",
       "      <th>서비스가격</th>\n",
       "      <th>평점</th>\n",
       "      <th>이용자수</th>\n",
       "      <th>대분류</th>\n",
       "      <th>서비스번호</th>\n",
       "    </tr>\n",
       "  </thead>\n",
       "  <tbody>\n",
       "    <tr>\n",
       "      <th>73811</th>\n",
       "      <td>20210112</td>\n",
       "      <td>7.5</td>\n",
       "      <td>40113052150</td>\n",
       "      <td>1.0</td>\n",
       "      <td>12800</td>\n",
       "      <td>1.0</td>\n",
       "      <td>20210111.0</td>\n",
       "      <td>홈페이지 유지보수 및 추가기능 개발해 드립니다.</td>\n",
       "      <td>코딩팝</td>\n",
       "      <td>22800.0</td>\n",
       "      <td>10000.0</td>\n",
       "      <td>5.0</td>\n",
       "      <td>13.0</td>\n",
       "      <td>홈페이지</td>\n",
       "      <td>3072.0</td>\n",
       "    </tr>\n",
       "    <tr>\n",
       "      <th>257704</th>\n",
       "      <td>20210518</td>\n",
       "      <td>6.5</td>\n",
       "      <td>50421001142</td>\n",
       "      <td>1.0</td>\n",
       "      <td>3700</td>\n",
       "      <td>1.0</td>\n",
       "      <td>20210518.0</td>\n",
       "      <td>카페24,고도몰,메이크샵 쇼핑몰 수정 및 유지보수 전문</td>\n",
       "      <td>STUDIOVIE</td>\n",
       "      <td>8700.0</td>\n",
       "      <td>5000.0</td>\n",
       "      <td>5.0</td>\n",
       "      <td>61.0</td>\n",
       "      <td>커머스</td>\n",
       "      <td>2381.0</td>\n",
       "    </tr>\n",
       "  </tbody>\n",
       "</table>\n",
       "</div>"
      ],
      "text/plain": [
       "            거래일자  수수료율         고객ID  프로그램수정횟수  추가결제금액  거래취소여부      거래취소일자  \\\n",
       "73811   20210112   7.5  40113052150       1.0   12800     1.0  20210111.0   \n",
       "257704  20210518   6.5  50421001142       1.0    3700     1.0  20210518.0   \n",
       "\n",
       "                                  서비스명        판매자     판매금액    서비스가격   평점  \\\n",
       "73811       홈페이지 유지보수 및 추가기능 개발해 드립니다.        코딩팝  22800.0  10000.0  5.0   \n",
       "257704  카페24,고도몰,메이크샵 쇼핑몰 수정 및 유지보수 전문  STUDIOVIE   8700.0   5000.0  5.0   \n",
       "\n",
       "        이용자수   대분류   서비스번호  \n",
       "73811   13.0  홈페이지  3072.0  \n",
       "257704  61.0   커머스  2381.0  "
      ]
     },
     "execution_count": 80,
     "metadata": {},
     "output_type": "execute_result"
    }
   ],
   "source": [
    "q[q['프로그램수정횟수'] == 1]"
   ]
  },
  {
   "cell_type": "code",
   "execution_count": 81,
   "id": "17005cb0",
   "metadata": {},
   "outputs": [
    {
     "data": {
      "text/plain": [
       "판매금액\n",
       "0.0         4591\n",
       "50000.0        1\n",
       "22800.0        1\n",
       "36200.0        1\n",
       "37800.0        1\n",
       "8700.0         1\n",
       "100000.0       1\n",
       "Name: count, dtype: int64"
      ]
     },
     "execution_count": 81,
     "metadata": {},
     "output_type": "execute_result"
    }
   ],
   "source": [
    "q['판매금액'].value_counts()"
   ]
  },
  {
   "cell_type": "code",
   "execution_count": 82,
   "id": "655527dd",
   "metadata": {
    "collapsed": true
   },
   "outputs": [
    {
     "data": {
      "text/html": [
       "<div>\n",
       "<style scoped>\n",
       "    .dataframe tbody tr th:only-of-type {\n",
       "        vertical-align: middle;\n",
       "    }\n",
       "\n",
       "    .dataframe tbody tr th {\n",
       "        vertical-align: top;\n",
       "    }\n",
       "\n",
       "    .dataframe thead th {\n",
       "        text-align: right;\n",
       "    }\n",
       "</style>\n",
       "<table border=\"1\" class=\"dataframe\">\n",
       "  <thead>\n",
       "    <tr style=\"text-align: right;\">\n",
       "      <th></th>\n",
       "      <th>거래일자</th>\n",
       "      <th>수수료율</th>\n",
       "      <th>고객ID</th>\n",
       "      <th>프로그램수정횟수</th>\n",
       "      <th>추가결제금액</th>\n",
       "      <th>거래취소여부</th>\n",
       "      <th>거래취소일자</th>\n",
       "      <th>서비스명</th>\n",
       "      <th>판매자</th>\n",
       "      <th>판매금액</th>\n",
       "      <th>서비스가격</th>\n",
       "      <th>평점</th>\n",
       "      <th>이용자수</th>\n",
       "      <th>대분류</th>\n",
       "      <th>서비스번호</th>\n",
       "    </tr>\n",
       "  </thead>\n",
       "  <tbody>\n",
       "    <tr>\n",
       "      <th>64873</th>\n",
       "      <td>20210108</td>\n",
       "      <td>6.5</td>\n",
       "      <td>30203005155</td>\n",
       "      <td>0.0</td>\n",
       "      <td>0</td>\n",
       "      <td>1.0</td>\n",
       "      <td>20210108.0</td>\n",
       "      <td>간단한 아두이노 장치 제작해 드립니다.</td>\n",
       "      <td>수제비1</td>\n",
       "      <td>50000.0</td>\n",
       "      <td>50000.0</td>\n",
       "      <td>4.9</td>\n",
       "      <td>269.0</td>\n",
       "      <td>프로그래밍</td>\n",
       "      <td>2130.0</td>\n",
       "    </tr>\n",
       "    <tr>\n",
       "      <th>73811</th>\n",
       "      <td>20210112</td>\n",
       "      <td>7.5</td>\n",
       "      <td>40113052150</td>\n",
       "      <td>1.0</td>\n",
       "      <td>12800</td>\n",
       "      <td>1.0</td>\n",
       "      <td>20210111.0</td>\n",
       "      <td>홈페이지 유지보수 및 추가기능 개발해 드립니다.</td>\n",
       "      <td>코딩팝</td>\n",
       "      <td>22800.0</td>\n",
       "      <td>10000.0</td>\n",
       "      <td>5.0</td>\n",
       "      <td>13.0</td>\n",
       "      <td>홈페이지</td>\n",
       "      <td>3072.0</td>\n",
       "    </tr>\n",
       "    <tr>\n",
       "      <th>119703</th>\n",
       "      <td>20210305</td>\n",
       "      <td>6.5</td>\n",
       "      <td>705010014</td>\n",
       "      <td>0.0</td>\n",
       "      <td>6200</td>\n",
       "      <td>1.0</td>\n",
       "      <td>20210305.0</td>\n",
       "      <td>반응형 퍼블리싱 랜딩페이지 코딩해 드립니다.</td>\n",
       "      <td>씽씽패밀리</td>\n",
       "      <td>36200.0</td>\n",
       "      <td>30000.0</td>\n",
       "      <td>5.0</td>\n",
       "      <td>22.0</td>\n",
       "      <td>홈페이지</td>\n",
       "      <td>2803.0</td>\n",
       "    </tr>\n",
       "    <tr>\n",
       "      <th>120722</th>\n",
       "      <td>20210306</td>\n",
       "      <td>9.0</td>\n",
       "      <td>5030100120</td>\n",
       "      <td>0.0</td>\n",
       "      <td>7800</td>\n",
       "      <td>1.0</td>\n",
       "      <td>20210306.0</td>\n",
       "      <td>경력 17년 VBA 크롤링, 데이터관리를 위해 만들어 드립니다.</td>\n",
       "      <td>EBConsulting</td>\n",
       "      <td>37800.0</td>\n",
       "      <td>30000.0</td>\n",
       "      <td>5.0</td>\n",
       "      <td>27.0</td>\n",
       "      <td>데이터</td>\n",
       "      <td>2685.0</td>\n",
       "    </tr>\n",
       "    <tr>\n",
       "      <th>257704</th>\n",
       "      <td>20210518</td>\n",
       "      <td>6.5</td>\n",
       "      <td>50421001142</td>\n",
       "      <td>1.0</td>\n",
       "      <td>3700</td>\n",
       "      <td>1.0</td>\n",
       "      <td>20210518.0</td>\n",
       "      <td>카페24,고도몰,메이크샵 쇼핑몰 수정 및 유지보수 전문</td>\n",
       "      <td>STUDIOVIE</td>\n",
       "      <td>8700.0</td>\n",
       "      <td>5000.0</td>\n",
       "      <td>5.0</td>\n",
       "      <td>61.0</td>\n",
       "      <td>커머스</td>\n",
       "      <td>2381.0</td>\n",
       "    </tr>\n",
       "    <tr>\n",
       "      <th>325024</th>\n",
       "      <td>20210621</td>\n",
       "      <td>6.5</td>\n",
       "      <td>6040133988</td>\n",
       "      <td>0.0</td>\n",
       "      <td>0</td>\n",
       "      <td>1.0</td>\n",
       "      <td>20210620.0</td>\n",
       "      <td>React, Html 웹 페이지 제작 전문 프론트엔드</td>\n",
       "      <td>임쁘띠</td>\n",
       "      <td>100000.0</td>\n",
       "      <td>100000.0</td>\n",
       "      <td>5.0</td>\n",
       "      <td>57.0</td>\n",
       "      <td>홈페이지</td>\n",
       "      <td>2399.0</td>\n",
       "    </tr>\n",
       "  </tbody>\n",
       "</table>\n",
       "</div>"
      ],
      "text/plain": [
       "            거래일자  수수료율         고객ID  프로그램수정횟수  추가결제금액  거래취소여부      거래취소일자  \\\n",
       "64873   20210108   6.5  30203005155       0.0       0     1.0  20210108.0   \n",
       "73811   20210112   7.5  40113052150       1.0   12800     1.0  20210111.0   \n",
       "119703  20210305   6.5    705010014       0.0    6200     1.0  20210305.0   \n",
       "120722  20210306   9.0   5030100120       0.0    7800     1.0  20210306.0   \n",
       "257704  20210518   6.5  50421001142       1.0    3700     1.0  20210518.0   \n",
       "325024  20210621   6.5   6040133988       0.0       0     1.0  20210620.0   \n",
       "\n",
       "                                       서비스명           판매자      판매금액     서비스가격  \\\n",
       "64873                 간단한 아두이노 장치 제작해 드립니다.          수제비1   50000.0   50000.0   \n",
       "73811            홈페이지 유지보수 및 추가기능 개발해 드립니다.           코딩팝   22800.0   10000.0   \n",
       "119703             반응형 퍼블리싱 랜딩페이지 코딩해 드립니다.         씽씽패밀리   36200.0   30000.0   \n",
       "120722  경력 17년 VBA 크롤링, 데이터관리를 위해 만들어 드립니다.  EBConsulting   37800.0   30000.0   \n",
       "257704       카페24,고도몰,메이크샵 쇼핑몰 수정 및 유지보수 전문     STUDIOVIE    8700.0    5000.0   \n",
       "325024        React, Html 웹 페이지 제작 전문 프론트엔드           임쁘띠  100000.0  100000.0   \n",
       "\n",
       "         평점   이용자수    대분류   서비스번호  \n",
       "64873   4.9  269.0  프로그래밍  2130.0  \n",
       "73811   5.0   13.0   홈페이지  3072.0  \n",
       "119703  5.0   22.0   홈페이지  2803.0  \n",
       "120722  5.0   27.0    데이터  2685.0  \n",
       "257704  5.0   61.0    커머스  2381.0  \n",
       "325024  5.0   57.0   홈페이지  2399.0  "
      ]
     },
     "execution_count": 82,
     "metadata": {},
     "output_type": "execute_result"
    }
   ],
   "source": [
    "q[q['판매금액']!=0]"
   ]
  },
  {
   "cell_type": "code",
   "execution_count": 76,
   "id": "c3a04d76",
   "metadata": {},
   "outputs": [
    {
     "data": {
      "text/plain": [
       "7738"
      ]
     },
     "execution_count": 76,
     "metadata": {},
     "output_type": "execute_result"
    }
   ],
   "source": [
    "len(df_log[df_log['판매금액']==0])"
   ]
  },
  {
   "cell_type": "code",
   "execution_count": 67,
   "id": "1253d63a",
   "metadata": {},
   "outputs": [
    {
     "data": {
      "text/plain": [
       "7738"
      ]
     },
     "execution_count": 67,
     "metadata": {},
     "output_type": "execute_result"
    }
   ],
   "source": [
    "len(dd)"
   ]
  },
  {
   "cell_type": "code",
   "execution_count": 71,
   "id": "1299a980",
   "metadata": {
    "collapsed": true
   },
   "outputs": [
    {
     "data": {
      "text/plain": [
       "거래취소여부\n",
       "1.0    4591\n",
       "Name: count, dtype: int64"
      ]
     },
     "execution_count": 71,
     "metadata": {},
     "output_type": "execute_result"
    }
   ],
   "source": [
    "dd['거래취소여부'].value_counts()"
   ]
  },
  {
   "cell_type": "code",
   "execution_count": 22,
   "id": "70874500",
   "metadata": {},
   "outputs": [
    {
     "data": {
      "text/plain": [
       "4.832185710924635"
      ]
     },
     "execution_count": 22,
     "metadata": {},
     "output_type": "execute_result"
    }
   ],
   "source": [
    "df_log['평점'].mean()"
   ]
  },
  {
   "cell_type": "code",
   "execution_count": 12,
   "id": "f15ba10c",
   "metadata": {
    "scrolled": true
   },
   "outputs": [
    {
     "data": {
      "text/plain": [
       "거래취소여부\n",
       "1.0    4597\n",
       "Name: count, dtype: int64"
      ]
     },
     "execution_count": 12,
     "metadata": {},
     "output_type": "execute_result"
    }
   ],
   "source": [
    "df_log['거래취소여부'].value_counts()"
   ]
  },
  {
   "cell_type": "code",
   "execution_count": 13,
   "id": "154b3a90",
   "metadata": {},
   "outputs": [
    {
     "data": {
      "text/plain": [
       "344299"
      ]
     },
     "execution_count": 13,
     "metadata": {},
     "output_type": "execute_result"
    }
   ],
   "source": [
    "len(df_log['거래취소여부'])"
   ]
  },
  {
   "cell_type": "code",
   "execution_count": 15,
   "id": "1991ceec",
   "metadata": {},
   "outputs": [
    {
     "data": {
      "text/plain": [
       "1.3175846097404385"
      ]
     },
     "execution_count": 15,
     "metadata": {},
     "output_type": "execute_result"
    }
   ],
   "source": [
    "4597/(344299+4597) * 100"
   ]
  },
  {
   "cell_type": "code",
   "execution_count": 18,
   "id": "6c04c005",
   "metadata": {},
   "outputs": [
    {
     "data": {
      "text/plain": [
       "98.68241539025956"
      ]
     },
     "execution_count": 18,
     "metadata": {},
     "output_type": "execute_result"
    }
   ],
   "source": [
    "344299/(344299+4597) * 100"
   ]
  },
  {
   "cell_type": "code",
   "execution_count": 10,
   "id": "acc1ec68",
   "metadata": {
    "collapsed": true
   },
   "outputs": [
    {
     "data": {
      "text/html": [
       "<div>\n",
       "<style scoped>\n",
       "    .dataframe tbody tr th:only-of-type {\n",
       "        vertical-align: middle;\n",
       "    }\n",
       "\n",
       "    .dataframe tbody tr th {\n",
       "        vertical-align: top;\n",
       "    }\n",
       "\n",
       "    .dataframe thead th {\n",
       "        text-align: right;\n",
       "    }\n",
       "</style>\n",
       "<table border=\"1\" class=\"dataframe\">\n",
       "  <thead>\n",
       "    <tr style=\"text-align: right;\">\n",
       "      <th></th>\n",
       "      <th>서비스명</th>\n",
       "      <th>판매자</th>\n",
       "      <th>서비스가격</th>\n",
       "      <th>평점</th>\n",
       "      <th>대분류</th>\n",
       "      <th>서비스번호</th>\n",
       "      <th>판매수</th>\n",
       "    </tr>\n",
       "  </thead>\n",
       "  <tbody>\n",
       "    <tr>\n",
       "      <th>0</th>\n",
       "      <td>\"P2P 대출\" 서비스를 위한 기획을 해 드립니다.</td>\n",
       "      <td>디자인쇼크리더</td>\n",
       "      <td>400000.0</td>\n",
       "      <td>0.0</td>\n",
       "      <td>기획</td>\n",
       "      <td>5651.0</td>\n",
       "      <td>6</td>\n",
       "    </tr>\n",
       "    <tr>\n",
       "      <th>1</th>\n",
       "      <td>\"반응형 웹 퍼블리싱\" 모든 퍼블리싱 작업 맞춤 진행</td>\n",
       "      <td>ThunDesign</td>\n",
       "      <td>15000.0</td>\n",
       "      <td>0.0</td>\n",
       "      <td>홈페이지</td>\n",
       "      <td>6122.0</td>\n",
       "      <td>1</td>\n",
       "    </tr>\n",
       "    <tr>\n",
       "      <th>2</th>\n",
       "      <td>\"이커머스 웹 사이트개발 경력자\"의 쇼핑몰 제작</td>\n",
       "      <td>IAMTRY</td>\n",
       "      <td>500000.0</td>\n",
       "      <td>0.0</td>\n",
       "      <td>커머스</td>\n",
       "      <td>6152.0</td>\n",
       "      <td>3</td>\n",
       "    </tr>\n",
       "  </tbody>\n",
       "</table>\n",
       "</div>"
      ],
      "text/plain": [
       "                            서비스명         판매자     서비스가격   평점   대분류   서비스번호  판매수\n",
       "0   \"P2P 대출\" 서비스를 위한 기획을 해 드립니다.     디자인쇼크리더  400000.0  0.0    기획  5651.0    6\n",
       "1  \"반응형 웹 퍼블리싱\" 모든 퍼블리싱 작업 맞춤 진행  ThunDesign   15000.0  0.0  홈페이지  6122.0    1\n",
       "2     \"이커머스 웹 사이트개발 경력자\"의 쇼핑몰 제작      IAMTRY  500000.0  0.0   커머스  6152.0    3"
      ]
     },
     "execution_count": 10,
     "metadata": {},
     "output_type": "execute_result"
    }
   ],
   "source": [
    "df_service.head(3) # 서비스(프로젝트)에 관한 데이터"
   ]
  },
  {
   "cell_type": "code",
   "execution_count": 35,
   "id": "b8b46645",
   "metadata": {
    "collapsed": true
   },
   "outputs": [
    {
     "data": {
      "text/plain": [
       "Index(['판매자ID', '판매자', '판매 서비스 수', '총 판매 금액', '프리미엄 서비스 가입여부',\n",
       "       '신속 알람 서비스 사용여부'],\n",
       "      dtype='object')"
      ]
     },
     "execution_count": 35,
     "metadata": {},
     "output_type": "execute_result"
    }
   ],
   "source": [
    "df_expert.columns"
   ]
  },
  {
   "cell_type": "code",
   "execution_count": 37,
   "id": "690c1fe7",
   "metadata": {
    "collapsed": true
   },
   "outputs": [
    {
     "data": {
      "text/plain": [
       "Index(['고객ID', '사용기기', '사용OS', '유입경로', '회원상태', '거주지', '연령', '성별', '서비스총구매수',\n",
       "       '총구매금액', '총수정요청수', '총추가결제금액'],\n",
       "      dtype='object')"
      ]
     },
     "execution_count": 37,
     "metadata": {},
     "output_type": "execute_result"
    }
   ],
   "source": [
    "df_custom.columns"
   ]
  },
  {
   "cell_type": "code",
   "execution_count": 38,
   "id": "ac73d2cd",
   "metadata": {
    "collapsed": true
   },
   "outputs": [
    {
     "data": {
      "text/plain": [
       "Index(['거래일자', '수수료율', '고객ID', '프로그램수정횟수', '추가결제금액', '거래취소여부', '거래취소일자',\n",
       "       '서비스명', '판매자', '판매금액', '서비스가격', '평점', '이용자수', '대분류', '서비스번호'],\n",
       "      dtype='object')"
      ]
     },
     "execution_count": 38,
     "metadata": {},
     "output_type": "execute_result"
    }
   ],
   "source": [
    "df_log.columns"
   ]
  },
  {
   "cell_type": "code",
   "execution_count": 39,
   "id": "eaffad99",
   "metadata": {},
   "outputs": [
    {
     "data": {
      "text/plain": [
       "Index(['서비스명', '판매자', '서비스가격', '평점', '대분류', '서비스번호', '판매수'], dtype='object')"
      ]
     },
     "execution_count": 39,
     "metadata": {},
     "output_type": "execute_result"
    }
   ],
   "source": [
    "df_service.columns"
   ]
  },
  {
   "cell_type": "code",
   "execution_count": 41,
   "id": "4130976e",
   "metadata": {},
   "outputs": [],
   "source": [
    "#### 판매자 정보와 거래로그 결합\n",
    "df2 = pd.merge(df_expert, df_log, on='판매자')"
   ]
  },
  {
   "cell_type": "code",
   "execution_count": 52,
   "id": "898998ba",
   "metadata": {
    "collapsed": true
   },
   "outputs": [
    {
     "data": {
      "text/html": [
       "<div>\n",
       "<style scoped>\n",
       "    .dataframe tbody tr th:only-of-type {\n",
       "        vertical-align: middle;\n",
       "    }\n",
       "\n",
       "    .dataframe tbody tr th {\n",
       "        vertical-align: top;\n",
       "    }\n",
       "\n",
       "    .dataframe thead th {\n",
       "        text-align: right;\n",
       "    }\n",
       "</style>\n",
       "<table border=\"1\" class=\"dataframe\">\n",
       "  <thead>\n",
       "    <tr style=\"text-align: right;\">\n",
       "      <th></th>\n",
       "      <th>판매 서비스 수</th>\n",
       "    </tr>\n",
       "    <tr>\n",
       "      <th>판매자</th>\n",
       "      <th></th>\n",
       "    </tr>\n",
       "  </thead>\n",
       "  <tbody>\n",
       "    <tr>\n",
       "      <th>시스픽스</th>\n",
       "      <td>17472400</td>\n",
       "    </tr>\n",
       "    <tr>\n",
       "      <th>스마트dda</th>\n",
       "      <td>13972644</td>\n",
       "    </tr>\n",
       "    <tr>\n",
       "      <th>개밥그릇</th>\n",
       "      <td>8549776</td>\n",
       "    </tr>\n",
       "    <tr>\n",
       "      <th>오즈의해결사</th>\n",
       "      <td>8128201</td>\n",
       "    </tr>\n",
       "    <tr>\n",
       "      <th>이지엑셀</th>\n",
       "      <td>7447441</td>\n",
       "    </tr>\n",
       "    <tr>\n",
       "      <th>...</th>\n",
       "      <td>...</td>\n",
       "    </tr>\n",
       "    <tr>\n",
       "      <th>Mojangcam</th>\n",
       "      <td>1</td>\n",
       "    </tr>\n",
       "    <tr>\n",
       "      <th>DevWorker</th>\n",
       "      <td>1</td>\n",
       "    </tr>\n",
       "    <tr>\n",
       "      <th>southouse</th>\n",
       "      <td>1</td>\n",
       "    </tr>\n",
       "    <tr>\n",
       "      <th>뉴리치마인드</th>\n",
       "      <td>1</td>\n",
       "    </tr>\n",
       "    <tr>\n",
       "      <th>센스코더</th>\n",
       "      <td>1</td>\n",
       "    </tr>\n",
       "  </tbody>\n",
       "</table>\n",
       "<p>2066 rows × 1 columns</p>\n",
       "</div>"
      ],
      "text/plain": [
       "           판매 서비스 수\n",
       "판매자                \n",
       "시스픽스       17472400\n",
       "스마트dda     13972644\n",
       "개밥그릇        8549776\n",
       "오즈의해결사      8128201\n",
       "이지엑셀        7447441\n",
       "...             ...\n",
       "Mojangcam         1\n",
       "DevWorker         1\n",
       "southouse         1\n",
       "뉴리치마인드            1\n",
       "센스코더              1\n",
       "\n",
       "[2066 rows x 1 columns]"
      ]
     },
     "execution_count": 52,
     "metadata": {},
     "output_type": "execute_result"
    }
   ],
   "source": [
    "df2.pivot_table(index='판매자', values='판매 서비스 수',\n",
    "                aggfunc='sum').sort_values(by='판매 서비스 수', ascending=False)"
   ]
  },
  {
   "cell_type": "code",
   "execution_count": 58,
   "id": "99d90f73",
   "metadata": {
    "collapsed": true
   },
   "outputs": [
    {
     "data": {
      "text/html": [
       "<div>\n",
       "<style scoped>\n",
       "    .dataframe tbody tr th:only-of-type {\n",
       "        vertical-align: middle;\n",
       "    }\n",
       "\n",
       "    .dataframe tbody tr th {\n",
       "        vertical-align: top;\n",
       "    }\n",
       "\n",
       "    .dataframe thead th {\n",
       "        text-align: right;\n",
       "    }\n",
       "</style>\n",
       "<table border=\"1\" class=\"dataframe\">\n",
       "  <thead>\n",
       "    <tr style=\"text-align: right;\">\n",
       "      <th></th>\n",
       "      <th>서비스명</th>\n",
       "    </tr>\n",
       "    <tr>\n",
       "      <th>판매자</th>\n",
       "      <th></th>\n",
       "    </tr>\n",
       "  </thead>\n",
       "  <tbody>\n",
       "    <tr>\n",
       "      <th>시스픽스</th>\n",
       "      <td>4180</td>\n",
       "    </tr>\n",
       "    <tr>\n",
       "      <th>스마트dda</th>\n",
       "      <td>3738</td>\n",
       "    </tr>\n",
       "    <tr>\n",
       "      <th>개밥그릇</th>\n",
       "      <td>2924</td>\n",
       "    </tr>\n",
       "    <tr>\n",
       "      <th>오즈의해결사</th>\n",
       "      <td>2851</td>\n",
       "    </tr>\n",
       "    <tr>\n",
       "      <th>이지엑셀</th>\n",
       "      <td>2729</td>\n",
       "    </tr>\n",
       "    <tr>\n",
       "      <th>...</th>\n",
       "      <td>...</td>\n",
       "    </tr>\n",
       "    <tr>\n",
       "      <th>Mojangcam</th>\n",
       "      <td>1</td>\n",
       "    </tr>\n",
       "    <tr>\n",
       "      <th>DevWorker</th>\n",
       "      <td>1</td>\n",
       "    </tr>\n",
       "    <tr>\n",
       "      <th>southouse</th>\n",
       "      <td>1</td>\n",
       "    </tr>\n",
       "    <tr>\n",
       "      <th>뉴리치마인드</th>\n",
       "      <td>1</td>\n",
       "    </tr>\n",
       "    <tr>\n",
       "      <th>센스코더</th>\n",
       "      <td>1</td>\n",
       "    </tr>\n",
       "  </tbody>\n",
       "</table>\n",
       "<p>2066 rows × 1 columns</p>\n",
       "</div>"
      ],
      "text/plain": [
       "           서비스명\n",
       "판매자            \n",
       "시스픽스       4180\n",
       "스마트dda     3738\n",
       "개밥그릇       2924\n",
       "오즈의해결사     2851\n",
       "이지엑셀       2729\n",
       "...         ...\n",
       "Mojangcam     1\n",
       "DevWorker     1\n",
       "southouse     1\n",
       "뉴리치마인드        1\n",
       "센스코더          1\n",
       "\n",
       "[2066 rows x 1 columns]"
      ]
     },
     "execution_count": 58,
     "metadata": {},
     "output_type": "execute_result"
    }
   ],
   "source": [
    "df2.pivot_table(index='판매자', values='서비스명',\n",
    "                aggfunc='count').sort_values(by='서비스명', ascending=False)\n",
    "### 판매자 별로 '서비스 개수' 라는 거를 만들까?"
   ]
  },
  {
   "cell_type": "code",
   "execution_count": 61,
   "id": "2750be7a",
   "metadata": {},
   "outputs": [],
   "source": [
    "# customer데이터에서 '총수정요청수'가 마이너스 -> 거절(환불)된것!\n",
    "# 소수점은 할인?.. 이 된 것\n",
    "# 로그 데이터에도 프로그램수정횟수가 마이너스인 것이 있다!"
   ]
  },
  {
   "cell_type": "code",
   "execution_count": 84,
   "id": "efc29ef7",
   "metadata": {},
   "outputs": [],
   "source": [
    "# customer log -> join 고객들이 다 매칭되는지 확인\n",
    "# 파일 저장해서 공유"
   ]
  },
  {
   "cell_type": "code",
   "execution_count": 89,
   "id": "f1312e75",
   "metadata": {},
   "outputs": [
    {
     "data": {
      "text/plain": [
       "Index(['고객ID', '사용기기', '사용OS', '유입경로', '회원상태', '거주지', '연령', '성별', '서비스총구매수',\n",
       "       '총구매금액', '총수정요청수', '총추가결제금액'],\n",
       "      dtype='object')"
      ]
     },
     "execution_count": 89,
     "metadata": {},
     "output_type": "execute_result"
    }
   ],
   "source": [
    "df_custom.columns"
   ]
  },
  {
   "cell_type": "code",
   "execution_count": 88,
   "id": "3beeacef",
   "metadata": {},
   "outputs": [
    {
     "data": {
      "text/plain": [
       "Index(['거래일자', '수수료율', '고객ID', '프로그램수정횟수', '추가결제금액', '거래취소여부', '거래취소일자',\n",
       "       '서비스명', '판매자', '판매금액', '서비스가격', '평점', '이용자수', '대분류', '서비스번호'],\n",
       "      dtype='object')"
      ]
     },
     "execution_count": 88,
     "metadata": {},
     "output_type": "execute_result"
    }
   ],
   "source": [
    "df_log.columns"
   ]
  },
  {
   "cell_type": "code",
   "execution_count": 99,
   "id": "857c4006",
   "metadata": {},
   "outputs": [],
   "source": [
    "merged_df = pd.merge(df_custom, df_log, on='고객ID', how='inner')"
   ]
  },
  {
   "cell_type": "code",
   "execution_count": 100,
   "id": "18e2aab0",
   "metadata": {},
   "outputs": [
    {
     "data": {
      "text/plain": [
       "344299"
      ]
     },
     "execution_count": 100,
     "metadata": {},
     "output_type": "execute_result"
    }
   ],
   "source": [
    "len(merged_df)"
   ]
  },
  {
   "cell_type": "code",
   "execution_count": 101,
   "id": "d2cdf43d",
   "metadata": {},
   "outputs": [
    {
     "data": {
      "text/plain": [
       "137526"
      ]
     },
     "execution_count": 101,
     "metadata": {},
     "output_type": "execute_result"
    }
   ],
   "source": [
    "len(df_custom)"
   ]
  },
  {
   "cell_type": "code",
   "execution_count": 102,
   "id": "32fcf82e",
   "metadata": {
    "collapsed": true
   },
   "outputs": [
    {
     "data": {
      "text/html": [
       "<div>\n",
       "<style scoped>\n",
       "    .dataframe tbody tr th:only-of-type {\n",
       "        vertical-align: middle;\n",
       "    }\n",
       "\n",
       "    .dataframe tbody tr th {\n",
       "        vertical-align: top;\n",
       "    }\n",
       "\n",
       "    .dataframe thead th {\n",
       "        text-align: right;\n",
       "    }\n",
       "</style>\n",
       "<table border=\"1\" class=\"dataframe\">\n",
       "  <thead>\n",
       "    <tr style=\"text-align: right;\">\n",
       "      <th></th>\n",
       "      <th>거래일자</th>\n",
       "      <th>수수료율</th>\n",
       "      <th>고객ID</th>\n",
       "      <th>프로그램수정횟수</th>\n",
       "      <th>추가결제금액</th>\n",
       "      <th>거래취소여부</th>\n",
       "      <th>거래취소일자</th>\n",
       "      <th>서비스명</th>\n",
       "      <th>판매자</th>\n",
       "      <th>판매금액</th>\n",
       "      <th>서비스가격</th>\n",
       "      <th>평점</th>\n",
       "      <th>이용자수</th>\n",
       "      <th>대분류</th>\n",
       "      <th>서비스번호</th>\n",
       "    </tr>\n",
       "  </thead>\n",
       "  <tbody>\n",
       "    <tr>\n",
       "      <th>0</th>\n",
       "      <td>20210201</td>\n",
       "      <td>6.5</td>\n",
       "      <td>5030100140</td>\n",
       "      <td>0.0</td>\n",
       "      <td>9800</td>\n",
       "      <td>NaN</td>\n",
       "      <td>NaN</td>\n",
       "      <td>카페24,고도몰,메이크샵등 쇼핑몰 수정,코딩,유지보수</td>\n",
       "      <td>logf1</td>\n",
       "      <td>14800.0</td>\n",
       "      <td>5000.0</td>\n",
       "      <td>5.0</td>\n",
       "      <td>584.0</td>\n",
       "      <td>커머스</td>\n",
       "      <td>2102.0</td>\n",
       "    </tr>\n",
       "    <tr>\n",
       "      <th>1</th>\n",
       "      <td>20210201</td>\n",
       "      <td>6.5</td>\n",
       "      <td>8020105385</td>\n",
       "      <td>0.0</td>\n",
       "      <td>0</td>\n",
       "      <td>NaN</td>\n",
       "      <td>NaN</td>\n",
       "      <td>카페24,고도몰,메이크샵등 쇼핑몰 수정,코딩,유지보수</td>\n",
       "      <td>logf1</td>\n",
       "      <td>5000.0</td>\n",
       "      <td>5000.0</td>\n",
       "      <td>5.0</td>\n",
       "      <td>584.0</td>\n",
       "      <td>커머스</td>\n",
       "      <td>2102.0</td>\n",
       "    </tr>\n",
       "    <tr>\n",
       "      <th>2</th>\n",
       "      <td>20210201</td>\n",
       "      <td>6.5</td>\n",
       "      <td>110104033157</td>\n",
       "      <td>0.0</td>\n",
       "      <td>9200</td>\n",
       "      <td>NaN</td>\n",
       "      <td>NaN</td>\n",
       "      <td>엑셀 VBA, 매크로, ERP 프로그램 개발해 드립니다.</td>\n",
       "      <td>엑셀의신</td>\n",
       "      <td>19200.0</td>\n",
       "      <td>10000.0</td>\n",
       "      <td>5.0</td>\n",
       "      <td>583.0</td>\n",
       "      <td>데이터</td>\n",
       "      <td>2103.0</td>\n",
       "    </tr>\n",
       "    <tr>\n",
       "      <th>3</th>\n",
       "      <td>20210201</td>\n",
       "      <td>7.5</td>\n",
       "      <td>40203001176</td>\n",
       "      <td>0.0</td>\n",
       "      <td>11000</td>\n",
       "      <td>NaN</td>\n",
       "      <td>NaN</td>\n",
       "      <td>엑셀을 이용 서식과 집계, 분석 및 VBA 프로그래밍</td>\n",
       "      <td>태구리</td>\n",
       "      <td>61000.0</td>\n",
       "      <td>50000.0</td>\n",
       "      <td>5.0</td>\n",
       "      <td>504.0</td>\n",
       "      <td>데이터</td>\n",
       "      <td>2105.0</td>\n",
       "    </tr>\n",
       "    <tr>\n",
       "      <th>4</th>\n",
       "      <td>20210201</td>\n",
       "      <td>6.5</td>\n",
       "      <td>5041700297</td>\n",
       "      <td>0.0</td>\n",
       "      <td>0</td>\n",
       "      <td>NaN</td>\n",
       "      <td>NaN</td>\n",
       "      <td>엑셀을 이용 서식과 집계, 분석 및 VBA 프로그래밍</td>\n",
       "      <td>태구리</td>\n",
       "      <td>50000.0</td>\n",
       "      <td>50000.0</td>\n",
       "      <td>5.0</td>\n",
       "      <td>504.0</td>\n",
       "      <td>데이터</td>\n",
       "      <td>2105.0</td>\n",
       "    </tr>\n",
       "    <tr>\n",
       "      <th>...</th>\n",
       "      <td>...</td>\n",
       "      <td>...</td>\n",
       "      <td>...</td>\n",
       "      <td>...</td>\n",
       "      <td>...</td>\n",
       "      <td>...</td>\n",
       "      <td>...</td>\n",
       "      <td>...</td>\n",
       "      <td>...</td>\n",
       "      <td>...</td>\n",
       "      <td>...</td>\n",
       "      <td>...</td>\n",
       "      <td>...</td>\n",
       "      <td>...</td>\n",
       "      <td>...</td>\n",
       "    </tr>\n",
       "    <tr>\n",
       "      <th>344294</th>\n",
       "      <td>20210630</td>\n",
       "      <td>9.0</td>\n",
       "      <td>50150001196</td>\n",
       "      <td>0.0</td>\n",
       "      <td>0</td>\n",
       "      <td>NaN</td>\n",
       "      <td>NaN</td>\n",
       "      <td>데이터 분석 및 시각화 제공해 드립니다.</td>\n",
       "      <td>전문가오리</td>\n",
       "      <td>20000.0</td>\n",
       "      <td>20000.0</td>\n",
       "      <td>4.6</td>\n",
       "      <td>33.0</td>\n",
       "      <td>데이터</td>\n",
       "      <td>2600.0</td>\n",
       "    </tr>\n",
       "    <tr>\n",
       "      <th>344295</th>\n",
       "      <td>20210630</td>\n",
       "      <td>7.5</td>\n",
       "      <td>60107010137</td>\n",
       "      <td>0.0</td>\n",
       "      <td>0</td>\n",
       "      <td>NaN</td>\n",
       "      <td>NaN</td>\n",
       "      <td>데이터 분석 및 시각화 제공해 드립니다.</td>\n",
       "      <td>전문가오리</td>\n",
       "      <td>20000.0</td>\n",
       "      <td>20000.0</td>\n",
       "      <td>4.6</td>\n",
       "      <td>33.0</td>\n",
       "      <td>데이터</td>\n",
       "      <td>2600.0</td>\n",
       "    </tr>\n",
       "    <tr>\n",
       "      <th>344296</th>\n",
       "      <td>20210630</td>\n",
       "      <td>9.0</td>\n",
       "      <td>70406002101</td>\n",
       "      <td>0.0</td>\n",
       "      <td>0</td>\n",
       "      <td>NaN</td>\n",
       "      <td>NaN</td>\n",
       "      <td>데이터 분석 및 시각화 제공해 드립니다.</td>\n",
       "      <td>전문가오리</td>\n",
       "      <td>20000.0</td>\n",
       "      <td>20000.0</td>\n",
       "      <td>4.6</td>\n",
       "      <td>33.0</td>\n",
       "      <td>데이터</td>\n",
       "      <td>2600.0</td>\n",
       "    </tr>\n",
       "    <tr>\n",
       "      <th>344297</th>\n",
       "      <td>20210630</td>\n",
       "      <td>6.5</td>\n",
       "      <td>9010306354</td>\n",
       "      <td>0.0</td>\n",
       "      <td>0</td>\n",
       "      <td>NaN</td>\n",
       "      <td>NaN</td>\n",
       "      <td>데이터 분석 및 시각화 제공해 드립니다.</td>\n",
       "      <td>전문가오리</td>\n",
       "      <td>20000.0</td>\n",
       "      <td>20000.0</td>\n",
       "      <td>4.6</td>\n",
       "      <td>33.0</td>\n",
       "      <td>데이터</td>\n",
       "      <td>2600.0</td>\n",
       "    </tr>\n",
       "    <tr>\n",
       "      <th>344298</th>\n",
       "      <td>20210630</td>\n",
       "      <td>7.5</td>\n",
       "      <td>9030200780</td>\n",
       "      <td>0.0</td>\n",
       "      <td>10000</td>\n",
       "      <td>NaN</td>\n",
       "      <td>NaN</td>\n",
       "      <td>데이터 분석 및 시각화 제공해 드립니다.</td>\n",
       "      <td>전문가오리</td>\n",
       "      <td>30000.0</td>\n",
       "      <td>20000.0</td>\n",
       "      <td>4.6</td>\n",
       "      <td>33.0</td>\n",
       "      <td>데이터</td>\n",
       "      <td>2600.0</td>\n",
       "    </tr>\n",
       "  </tbody>\n",
       "</table>\n",
       "<p>344299 rows × 15 columns</p>\n",
       "</div>"
      ],
      "text/plain": [
       "            거래일자  수수료율          고객ID  프로그램수정횟수  추가결제금액  거래취소여부  거래취소일자  \\\n",
       "0       20210201   6.5    5030100140       0.0    9800     NaN     NaN   \n",
       "1       20210201   6.5    8020105385       0.0       0     NaN     NaN   \n",
       "2       20210201   6.5  110104033157       0.0    9200     NaN     NaN   \n",
       "3       20210201   7.5   40203001176       0.0   11000     NaN     NaN   \n",
       "4       20210201   6.5    5041700297       0.0       0     NaN     NaN   \n",
       "...          ...   ...           ...       ...     ...     ...     ...   \n",
       "344294  20210630   9.0   50150001196       0.0       0     NaN     NaN   \n",
       "344295  20210630   7.5   60107010137       0.0       0     NaN     NaN   \n",
       "344296  20210630   9.0   70406002101       0.0       0     NaN     NaN   \n",
       "344297  20210630   6.5    9010306354       0.0       0     NaN     NaN   \n",
       "344298  20210630   7.5    9030200780       0.0   10000     NaN     NaN   \n",
       "\n",
       "                                   서비스명    판매자     판매금액    서비스가격   평점   이용자수  \\\n",
       "0         카페24,고도몰,메이크샵등 쇼핑몰 수정,코딩,유지보수  logf1  14800.0   5000.0  5.0  584.0   \n",
       "1         카페24,고도몰,메이크샵등 쇼핑몰 수정,코딩,유지보수  logf1   5000.0   5000.0  5.0  584.0   \n",
       "2       엑셀 VBA, 매크로, ERP 프로그램 개발해 드립니다.   엑셀의신  19200.0  10000.0  5.0  583.0   \n",
       "3         엑셀을 이용 서식과 집계, 분석 및 VBA 프로그래밍    태구리  61000.0  50000.0  5.0  504.0   \n",
       "4         엑셀을 이용 서식과 집계, 분석 및 VBA 프로그래밍    태구리  50000.0  50000.0  5.0  504.0   \n",
       "...                                 ...    ...      ...      ...  ...    ...   \n",
       "344294           데이터 분석 및 시각화 제공해 드립니다.  전문가오리  20000.0  20000.0  4.6   33.0   \n",
       "344295           데이터 분석 및 시각화 제공해 드립니다.  전문가오리  20000.0  20000.0  4.6   33.0   \n",
       "344296           데이터 분석 및 시각화 제공해 드립니다.  전문가오리  20000.0  20000.0  4.6   33.0   \n",
       "344297           데이터 분석 및 시각화 제공해 드립니다.  전문가오리  20000.0  20000.0  4.6   33.0   \n",
       "344298           데이터 분석 및 시각화 제공해 드립니다.  전문가오리  30000.0  20000.0  4.6   33.0   \n",
       "\n",
       "        대분류   서비스번호  \n",
       "0       커머스  2102.0  \n",
       "1       커머스  2102.0  \n",
       "2       데이터  2103.0  \n",
       "3       데이터  2105.0  \n",
       "4       데이터  2105.0  \n",
       "...     ...     ...  \n",
       "344294  데이터  2600.0  \n",
       "344295  데이터  2600.0  \n",
       "344296  데이터  2600.0  \n",
       "344297  데이터  2600.0  \n",
       "344298  데이터  2600.0  \n",
       "\n",
       "[344299 rows x 15 columns]"
      ]
     },
     "execution_count": 102,
     "metadata": {},
     "output_type": "execute_result"
    }
   ],
   "source": [
    "df_log"
   ]
  },
  {
   "cell_type": "code",
   "execution_count": 103,
   "id": "14f1adb7",
   "metadata": {},
   "outputs": [],
   "source": [
    "custom_counts = df_custom['고객ID'].value_counts()\n",
    "merged_counts = merged_df['고객ID'].value_counts()"
   ]
  },
  {
   "cell_type": "code",
   "execution_count": 105,
   "id": "88ee1b6e",
   "metadata": {},
   "outputs": [
    {
     "data": {
      "text/plain": [
       "137526"
      ]
     },
     "execution_count": 105,
     "metadata": {},
     "output_type": "execute_result"
    }
   ],
   "source": [
    "len(custom_counts)"
   ]
  },
  {
   "cell_type": "code",
   "execution_count": 107,
   "id": "ec186095",
   "metadata": {},
   "outputs": [
    {
     "data": {
      "text/plain": [
       "137526"
      ]
     },
     "execution_count": 107,
     "metadata": {},
     "output_type": "execute_result"
    }
   ],
   "source": [
    "len(merged_counts)"
   ]
  },
  {
   "cell_type": "code",
   "execution_count": 109,
   "id": "de8998ea",
   "metadata": {},
   "outputs": [
    {
     "data": {
      "text/plain": [
       "344299"
      ]
     },
     "execution_count": 109,
     "metadata": {},
     "output_type": "execute_result"
    }
   ],
   "source": [
    "len(merged_df)"
   ]
  },
  {
   "cell_type": "code",
   "execution_count": 110,
   "id": "58a3f21b",
   "metadata": {},
   "outputs": [],
   "source": [
    "merged_df.to_csv('log3.csv')"
   ]
  },
  {
   "cell_type": "code",
   "execution_count": null,
   "id": "35c2e49c",
   "metadata": {},
   "outputs": [],
   "source": [
    "# 프로그램 총 수정횟수 / 거래 취소 여부\n",
    "# 판매금액"
   ]
  },
  {
   "cell_type": "code",
   "execution_count": 111,
   "id": "6a9cacac",
   "metadata": {},
   "outputs": [],
   "source": [
    "df2 = merged_df"
   ]
  },
  {
   "cell_type": "code",
   "execution_count": 112,
   "id": "d1514ed6",
   "metadata": {
    "collapsed": true
   },
   "outputs": [
    {
     "data": {
      "text/plain": [
       "Index(['고객ID', '사용기기', '사용OS', '유입경로', '회원상태', '거주지', '연령', '성별', '서비스총구매수',\n",
       "       '총구매금액', '총수정요청수', '총추가결제금액', '거래일자', '수수료율', '프로그램수정횟수', '추가결제금액',\n",
       "       '거래취소여부', '거래취소일자', '서비스명', '판매자', '판매금액', '서비스가격', '평점', '이용자수', '대분류',\n",
       "       '서비스번호'],\n",
       "      dtype='object')"
      ]
     },
     "execution_count": 112,
     "metadata": {},
     "output_type": "execute_result"
    }
   ],
   "source": [
    "df2.columns"
   ]
  },
  {
   "cell_type": "code",
   "execution_count": 114,
   "id": "bcc51dad",
   "metadata": {
    "collapsed": true
   },
   "outputs": [
    {
     "data": {
      "text/plain": [
       "프로그램수정횟수\n",
       " 0.0      289280\n",
       " 1.0       36825\n",
       "-1.0        7738\n",
       " 2.0        6101\n",
       " 3.0        2262\n",
       " 4.0        1096\n",
       " 5.0         455\n",
       " 9.0         146\n",
       " 6.0         124\n",
       " 7.0         105\n",
       " 8.0          30\n",
       " 11.0         21\n",
       " 14.0         18\n",
       " 19.0         16\n",
       " 12.0         11\n",
       " 13.0         11\n",
       " 10.0          8\n",
       " 15.0          6\n",
       " 0.5           6\n",
       " 16.0          5\n",
       " 20.0          5\n",
       " 0.1           3\n",
       " 23.0          2\n",
       " 25.0          2\n",
       " 39.0          2\n",
       " 17.0          2\n",
       " 119.0         1\n",
       " 21.0          1\n",
       " 37.0          1\n",
       " 44.0          1\n",
       " 1.1           1\n",
       " 0.3           1\n",
       " 4.2           1\n",
       " 34.0          1\n",
       " 24.0          1\n",
       " 27.0          1\n",
       " 1.5           1\n",
       " 0.8           1\n",
       " 3.5           1\n",
       " 29.0          1\n",
       " 22.0          1\n",
       " 1.6           1\n",
       " 2.8           1\n",
       " 0.2           1\n",
       " 1.2           1\n",
       "Name: count, dtype: int64"
      ]
     },
     "execution_count": 114,
     "metadata": {},
     "output_type": "execute_result"
    }
   ],
   "source": [
    "df2['프로그램수정횟수'].value_counts()"
   ]
  },
  {
   "cell_type": "code",
   "execution_count": 115,
   "id": "79d0ee29",
   "metadata": {
    "collapsed": true
   },
   "outputs": [
    {
     "data": {
      "text/plain": [
       "총수정요청수\n",
       " 0.0      189011\n",
       " 1.0       56914\n",
       " 2.0       24571\n",
       " 3.0       14217\n",
       "-1.0       12320\n",
       " 4.0        9594\n",
       " 5.0        7076\n",
       " 6.0        4777\n",
       " 7.0        3781\n",
       " 8.0        2796\n",
       " 10.0       2005\n",
       " 9.0        1997\n",
       " 11.0       1374\n",
       " 12.0       1164\n",
       "-2.0        1150\n",
       " 22.0        832\n",
       " 30.0        792\n",
       " 13.0        790\n",
       " 24.0        769\n",
       " 19.0        727\n",
       " 26.0        695\n",
       " 14.0        577\n",
       " 21.0        543\n",
       " 15.0        520\n",
       " 29.0        503\n",
       " 17.0        484\n",
       " 25.0        469\n",
       " 23.0        446\n",
       " 20.0        410\n",
       "-3.0         380\n",
       " 27.0        373\n",
       " 18.0        342\n",
       " 28.0        325\n",
       " 16.0        279\n",
       " 31.0        278\n",
       " 38.0        171\n",
       " 37.0        160\n",
       " 32.0        153\n",
       "-4.0         119\n",
       " 36.0         87\n",
       " 33.0         84\n",
       " 40.0         79\n",
       " 46.0         77\n",
       "-5.0          26\n",
       " 0.5          10\n",
       " 120.0         9\n",
       " 35.0          7\n",
       "-6.0           7\n",
       " 0.2           7\n",
       " 0.8           4\n",
       " 44.0          4\n",
       " 3.1           3\n",
       " 0.1           2\n",
       " 4.2           2\n",
       "-0.9           2\n",
       " 1.6           1\n",
       " 3.5           1\n",
       " 2.8           1\n",
       " 0.3           1\n",
       " 1.5           1\n",
       "Name: count, dtype: int64"
      ]
     },
     "execution_count": 115,
     "metadata": {},
     "output_type": "execute_result"
    }
   ],
   "source": [
    "df2['총수정요청수'].value_counts()"
   ]
  },
  {
   "cell_type": "code",
   "execution_count": 130,
   "id": "b4ec86a8",
   "metadata": {
    "collapsed": true
   },
   "outputs": [
    {
     "data": {
      "text/plain": [
       "Index(['고객ID', '사용기기', '사용OS', '유입경로', '회원상태', '거주지', '연령', '성별', '서비스총구매수',\n",
       "       '총구매금액', '총수정요청수', '총추가결제금액', '거래일자', '수수료율', '프로그램수정횟수', '추가결제금액',\n",
       "       '거래취소여부', '거래취소일자', '서비스명', '판매자', '판매금액', '서비스가격', '평점', '이용자수', '대분류',\n",
       "       '서비스번호'],\n",
       "      dtype='object')"
      ]
     },
     "execution_count": 130,
     "metadata": {},
     "output_type": "execute_result"
    }
   ],
   "source": [
    "df2.columns"
   ]
  },
  {
   "cell_type": "code",
   "execution_count": 119,
   "id": "91784555",
   "metadata": {},
   "outputs": [],
   "source": [
    "# 거래를 취소한 사람\n",
    "cancel = df2[df2['거래취소여부']==1]"
   ]
  },
  {
   "cell_type": "code",
   "execution_count": 120,
   "id": "1b097608",
   "metadata": {},
   "outputs": [
    {
     "data": {
      "text/plain": [
       "프로그램수정횟수\n",
       "-1.0    4591\n",
       " 0.0       4\n",
       " 1.0       2\n",
       "Name: count, dtype: int64"
      ]
     },
     "execution_count": 120,
     "metadata": {},
     "output_type": "execute_result"
    }
   ],
   "source": [
    "cancel['프로그램수정횟수'].value_counts() # 프로그램수정횟수 :  "
   ]
  },
  {
   "cell_type": "code",
   "execution_count": 121,
   "id": "ee15b5c7",
   "metadata": {
    "collapsed": true
   },
   "outputs": [
    {
     "data": {
      "text/plain": [
       "총수정요청수\n",
       " 0.0      189011\n",
       " 1.0       56914\n",
       " 2.0       24571\n",
       " 3.0       14217\n",
       "-1.0       12320\n",
       " 4.0        9594\n",
       " 5.0        7076\n",
       " 6.0        4777\n",
       " 7.0        3781\n",
       " 8.0        2796\n",
       " 10.0       2005\n",
       " 9.0        1997\n",
       " 11.0       1374\n",
       " 12.0       1164\n",
       "-2.0        1150\n",
       " 22.0        832\n",
       " 30.0        792\n",
       " 13.0        790\n",
       " 24.0        769\n",
       " 19.0        727\n",
       " 26.0        695\n",
       " 14.0        577\n",
       " 21.0        543\n",
       " 15.0        520\n",
       " 29.0        503\n",
       " 17.0        484\n",
       " 25.0        469\n",
       " 23.0        446\n",
       " 20.0        410\n",
       "-3.0         380\n",
       " 27.0        373\n",
       " 18.0        342\n",
       " 28.0        325\n",
       " 16.0        279\n",
       " 31.0        278\n",
       " 38.0        171\n",
       " 37.0        160\n",
       " 32.0        153\n",
       "-4.0         119\n",
       " 36.0         87\n",
       " 33.0         84\n",
       " 40.0         79\n",
       " 46.0         77\n",
       "-5.0          26\n",
       " 0.5          10\n",
       " 120.0         9\n",
       " 35.0          7\n",
       "-6.0           7\n",
       " 0.2           7\n",
       " 0.8           4\n",
       " 44.0          4\n",
       " 3.1           3\n",
       " 0.1           2\n",
       " 4.2           2\n",
       "-0.9           2\n",
       " 1.6           1\n",
       " 3.5           1\n",
       " 2.8           1\n",
       " 0.3           1\n",
       " 1.5           1\n",
       "Name: count, dtype: int64"
      ]
     },
     "execution_count": 121,
     "metadata": {},
     "output_type": "execute_result"
    }
   ],
   "source": [
    "df2['총수정요청수'].value_counts()"
   ]
  },
  {
   "cell_type": "code",
   "execution_count": 123,
   "id": "b78971b7",
   "metadata": {},
   "outputs": [],
   "source": [
    "notcancel = df2[df2['거래취소여부']!=1]"
   ]
  },
  {
   "cell_type": "code",
   "execution_count": 124,
   "id": "86a4fcdb",
   "metadata": {
    "collapsed": true
   },
   "outputs": [
    {
     "data": {
      "text/plain": [
       "총수정요청수\n",
       " 0.0      188418\n",
       " 1.0       56684\n",
       " 2.0       24387\n",
       " 3.0       14127\n",
       " 4.0        9529\n",
       "-1.0        9342\n",
       " 5.0        7008\n",
       " 6.0        4741\n",
       " 7.0        3750\n",
       " 8.0        2774\n",
       " 10.0       1985\n",
       " 9.0        1978\n",
       " 11.0       1364\n",
       " 12.0       1156\n",
       "-2.0        1043\n",
       " 22.0        825\n",
       " 13.0        782\n",
       " 30.0        781\n",
       " 24.0        760\n",
       " 19.0        718\n",
       " 26.0        693\n",
       " 14.0        571\n",
       " 21.0        537\n",
       " 15.0        514\n",
       " 29.0        500\n",
       " 17.0        477\n",
       " 25.0        465\n",
       " 23.0        440\n",
       " 20.0        402\n",
       " 27.0        370\n",
       "-3.0         365\n",
       " 18.0        339\n",
       " 28.0        322\n",
       " 31.0        277\n",
       " 16.0        275\n",
       " 38.0        166\n",
       " 37.0        160\n",
       " 32.0        151\n",
       "-4.0         116\n",
       " 36.0         85\n",
       " 33.0         82\n",
       " 40.0         79\n",
       " 46.0         77\n",
       "-5.0          26\n",
       " 0.5          10\n",
       " 120.0         9\n",
       " 35.0          7\n",
       "-6.0           7\n",
       " 0.2           6\n",
       " 0.8           4\n",
       " 44.0          4\n",
       " 3.1           3\n",
       " 0.1           2\n",
       " 4.2           2\n",
       "-0.9           2\n",
       " 1.6           1\n",
       " 3.5           1\n",
       " 2.8           1\n",
       " 0.3           1\n",
       " 1.5           1\n",
       "Name: count, dtype: int64"
      ]
     },
     "execution_count": 124,
     "metadata": {},
     "output_type": "execute_result"
    }
   ],
   "source": [
    "notcancel['총수정요청수'].value_counts()"
   ]
  },
  {
   "cell_type": "code",
   "execution_count": 126,
   "id": "1b6fdb6d",
   "metadata": {},
   "outputs": [
    {
     "data": {
      "text/plain": [
       "판매금액\n",
       "0.0         4591\n",
       "50000.0        1\n",
       "22800.0        1\n",
       "37800.0        1\n",
       "8700.0         1\n",
       "100000.0       1\n",
       "36200.0        1\n",
       "Name: count, dtype: int64"
      ]
     },
     "execution_count": 126,
     "metadata": {},
     "output_type": "execute_result"
    }
   ],
   "source": [
    "cancel['판매금액'].value_counts()"
   ]
  },
  {
   "cell_type": "code",
   "execution_count": 131,
   "id": "c73e4706",
   "metadata": {},
   "outputs": [
    {
     "data": {
      "text/plain": [
       "83770     20210108\n",
       "87476     20210112\n",
       "135980    20210306\n",
       "150533    20210518\n",
       "236961    20210621\n",
       "270282    20210305\n",
       "Name: 거래일자, dtype: int64"
      ]
     },
     "execution_count": 131,
     "metadata": {},
     "output_type": "execute_result"
    }
   ],
   "source": [
    "cancel[cancel['판매금액']!=0]['거래일자']"
   ]
  },
  {
   "cell_type": "code",
   "execution_count": 132,
   "id": "01459c62",
   "metadata": {},
   "outputs": [
    {
     "data": {
      "text/plain": [
       "83770     20210108.0\n",
       "87476     20210111.0\n",
       "135980    20210306.0\n",
       "150533    20210518.0\n",
       "236961    20210620.0\n",
       "270282    20210305.0\n",
       "Name: 거래취소일자, dtype: float64"
      ]
     },
     "execution_count": 132,
     "metadata": {},
     "output_type": "execute_result"
    }
   ],
   "source": [
    "cancel[cancel['판매금액']!=0]['거래취소일자']"
   ]
  },
  {
   "cell_type": "code",
   "execution_count": 133,
   "id": "c38c6a45",
   "metadata": {},
   "outputs": [],
   "source": [
    "### 프로그램 수정횟횟수와 고객 만족도 간의 관계 파악?"
   ]
  },
  {
   "cell_type": "code",
   "execution_count": 134,
   "id": "ae6ddd95",
   "metadata": {},
   "outputs": [],
   "source": [
    "# 고객의 유입경로 분석해서 가장 효과적인 마케팅 채널 파악"
   ]
  },
  {
   "cell_type": "code",
   "execution_count": null,
   "id": "57659b36",
   "metadata": {},
   "outputs": [],
   "source": [
    "# 프리미엄 서비스 가입여부 분석 : 광고 마케팅 서비스 가입여부와 판매성과의 상관관계 분석"
   ]
  },
  {
   "cell_type": "code",
   "execution_count": 138,
   "id": "61d17a71",
   "metadata": {},
   "outputs": [],
   "source": [
    "refund = df2[(df2['프로그램수정횟수'] < 0)]"
   ]
  },
  {
   "cell_type": "code",
   "execution_count": 139,
   "id": "576036ed",
   "metadata": {},
   "outputs": [
    {
     "data": {
      "text/plain": [
       "Index(['고객ID', '사용기기', '사용OS', '유입경로', '회원상태', '거주지', '연령', '성별', '서비스총구매수',\n",
       "       '총구매금액', '총수정요청수', '총추가결제금액', '거래일자', '수수료율', '프로그램수정횟수', '추가결제금액',\n",
       "       '거래취소여부', '거래취소일자', '서비스명', '판매자', '판매금액', '서비스가격', '평점', '이용자수', '대분류',\n",
       "       '서비스번호'],\n",
       "      dtype='object')"
      ]
     },
     "execution_count": 139,
     "metadata": {},
     "output_type": "execute_result"
    }
   ],
   "source": [
    "refund.columns"
   ]
  },
  {
   "cell_type": "code",
   "execution_count": 148,
   "id": "5830a7b4",
   "metadata": {},
   "outputs": [
    {
     "data": {
      "text/plain": [
       "60724.764120460124"
      ]
     },
     "execution_count": 148,
     "metadata": {},
     "output_type": "execute_result"
    }
   ],
   "source": [
    "refund['서비스가격'].mean()"
   ]
  },
  {
   "cell_type": "code",
   "execution_count": 151,
   "id": "2f39bcc0",
   "metadata": {},
   "outputs": [
    {
     "data": {
      "text/plain": [
       "Index(['고객ID', '사용기기', '사용OS', '유입경로', '회원상태', '거주지', '연령', '성별', '서비스총구매수',\n",
       "       '총구매금액', '총수정요청수', '총추가결제금액', '거래일자', '수수료율', '프로그램수정횟수', '추가결제금액',\n",
       "       '거래취소여부', '거래취소일자', '서비스명', '판매자', '판매금액', '서비스가격', '평점', '이용자수', '대분류',\n",
       "       '서비스번호'],\n",
       "      dtype='object')"
      ]
     },
     "execution_count": 151,
     "metadata": {},
     "output_type": "execute_result"
    }
   ],
   "source": [
    "df2.columns"
   ]
  },
  {
   "cell_type": "code",
   "execution_count": 152,
   "id": "b3bd1bd8",
   "metadata": {
    "collapsed": true
   },
   "outputs": [
    {
     "name": "stdout",
     "output_type": "stream",
     "text": [
      "고객ID\n",
      "101010181        True\n",
      "101010183       False\n",
      "101010185        True\n",
      "101010186        True\n",
      "101010187       False\n",
      "                ...  \n",
      "150104182161     True\n",
      "150104182169     True\n",
      "150104182179     True\n",
      "150104182182     True\n",
      "150104182193     True\n",
      "Name: 평점, Length: 137526, dtype: bool\n"
     ]
    }
   ],
   "source": [
    "# 고객 ID가 같은 경우에 해당하는 평점이 같은지 확인\n",
    "ratings_same = df2.groupby('고객ID')['평점'].apply(lambda x: x.nunique() == 1)\n",
    "\n",
    "# 결과 출력\n",
    "print(ratings_same)"
   ]
  },
  {
   "cell_type": "code",
   "execution_count": 153,
   "id": "5cd16ea9",
   "metadata": {
    "collapsed": true
   },
   "outputs": [
    {
     "data": {
      "text/plain": [
       "평점\n",
       "True     106319\n",
       "False     31207\n",
       "Name: count, dtype: int64"
      ]
     },
     "execution_count": 153,
     "metadata": {},
     "output_type": "execute_result"
    }
   ],
   "source": [
    "ratings_same.value_counts()"
   ]
  },
  {
   "cell_type": "code",
   "execution_count": 154,
   "id": "b5b902eb",
   "metadata": {
    "collapsed": true
   },
   "outputs": [
    {
     "name": "stdout",
     "output_type": "stream",
     "text": [
      "서비스명\n",
      "\"P2P 대출\" 서비스를 위한 기획을 해 드립니다.              True\n",
      "\"개발 공부 전 필독\" IT 서비스 기본 개념 Ebook을 드립니다.    True\n",
      "\"디자인 에이전시\" UXUI 화면 설계, 기획안 제작해 드립니다.      True\n",
      "\"디자인적인\" 퍼블리싱 제작해 드립니다.                    True\n",
      "\"반응형 웹 퍼블리싱\" 모든 퍼블리싱 작업 맞춤 진행             True\n",
      "                                          ... \n",
      "회로설계 및 PCB 설계 및 제작 해 드립니다.                True\n",
      "회사 도메인으로 그룹웨어 메일 수신 설정 도와 드립니다.           True\n",
      "회사업무관리 ERP, MES,WMS 프로그램 개발               True\n",
      "효과적인 연락처 수집용 랜딩페이지 제작해 드립니다.              True\n",
      "희망하는 웹사이트의 정보를 수집웹크롤링해 드립니다.              True\n",
      "Name: 평점, Length: 2787, dtype: bool\n"
     ]
    }
   ],
   "source": [
    "# 서비스명이 같은 경우에 해당하는 평점이 같은지 확인\n",
    "ratings_same = df2.groupby('서비스명')['평점'].apply(lambda x: x.nunique() == 1)\n",
    "\n",
    "# 결과 출력\n",
    "print(ratings_same)"
   ]
  },
  {
   "cell_type": "code",
   "execution_count": 156,
   "id": "521e51a6",
   "metadata": {
    "collapsed": true
   },
   "outputs": [
    {
     "data": {
      "text/plain": [
       "평점\n",
       "True     2769\n",
       "False      18\n",
       "Name: count, dtype: int64"
      ]
     },
     "execution_count": 156,
     "metadata": {},
     "output_type": "execute_result"
    }
   ],
   "source": [
    "ratings_same.value_counts()"
   ]
  },
  {
   "cell_type": "code",
   "execution_count": 157,
   "id": "2d99dedf",
   "metadata": {},
   "outputs": [],
   "source": [
    "# customer 데이터에서 판매금액과 수수로율 사이에 관계가 있는가?"
   ]
  },
  {
   "cell_type": "code",
   "execution_count": 159,
   "id": "196a8bb5",
   "metadata": {},
   "outputs": [
    {
     "data": {
      "text/plain": [
       "-0.0005378034440212213"
      ]
     },
     "execution_count": 159,
     "metadata": {},
     "output_type": "execute_result"
    }
   ],
   "source": [
    "df_log['판매금액'].corr(df_log['수수료율'])\n",
    "# 거의 없음"
   ]
  },
  {
   "cell_type": "code",
   "execution_count": 160,
   "id": "9f8f3e41",
   "metadata": {
    "collapsed": true
   },
   "outputs": [
    {
     "data": {
      "text/plain": [
       "<Axes: xlabel='수수료율', ylabel='판매금액'>"
      ]
     },
     "execution_count": 160,
     "metadata": {},
     "output_type": "execute_result"
    },
    {
     "name": "stderr",
     "output_type": "stream",
     "text": [
      "/Users/sinhyelim/anaconda3/lib/python3.11/site-packages/IPython/core/events.py:93: UserWarning: Glyph 49688 (\\N{HANGUL SYLLABLE SU}) missing from current font.\n",
      "  func(*args, **kwargs)\n",
      "/Users/sinhyelim/anaconda3/lib/python3.11/site-packages/IPython/core/events.py:93: UserWarning: Glyph 47308 (\\N{HANGUL SYLLABLE RYO}) missing from current font.\n",
      "  func(*args, **kwargs)\n",
      "/Users/sinhyelim/anaconda3/lib/python3.11/site-packages/IPython/core/events.py:93: UserWarning: Glyph 50984 (\\N{HANGUL SYLLABLE YUL}) missing from current font.\n",
      "  func(*args, **kwargs)\n",
      "/Users/sinhyelim/anaconda3/lib/python3.11/site-packages/IPython/core/events.py:93: UserWarning: Glyph 54032 (\\N{HANGUL SYLLABLE PAN}) missing from current font.\n",
      "  func(*args, **kwargs)\n",
      "/Users/sinhyelim/anaconda3/lib/python3.11/site-packages/IPython/core/events.py:93: UserWarning: Glyph 47588 (\\N{HANGUL SYLLABLE MAE}) missing from current font.\n",
      "  func(*args, **kwargs)\n",
      "/Users/sinhyelim/anaconda3/lib/python3.11/site-packages/IPython/core/events.py:93: UserWarning: Glyph 44552 (\\N{HANGUL SYLLABLE GEUM}) missing from current font.\n",
      "  func(*args, **kwargs)\n",
      "/Users/sinhyelim/anaconda3/lib/python3.11/site-packages/IPython/core/events.py:93: UserWarning: Glyph 50529 (\\N{HANGUL SYLLABLE AEG}) missing from current font.\n",
      "  func(*args, **kwargs)\n",
      "/Users/sinhyelim/anaconda3/lib/python3.11/site-packages/IPython/core/pylabtools.py:152: UserWarning: Glyph 49688 (\\N{HANGUL SYLLABLE SU}) missing from current font.\n",
      "  fig.canvas.print_figure(bytes_io, **kw)\n",
      "/Users/sinhyelim/anaconda3/lib/python3.11/site-packages/IPython/core/pylabtools.py:152: UserWarning: Glyph 47308 (\\N{HANGUL SYLLABLE RYO}) missing from current font.\n",
      "  fig.canvas.print_figure(bytes_io, **kw)\n",
      "/Users/sinhyelim/anaconda3/lib/python3.11/site-packages/IPython/core/pylabtools.py:152: UserWarning: Glyph 50984 (\\N{HANGUL SYLLABLE YUL}) missing from current font.\n",
      "  fig.canvas.print_figure(bytes_io, **kw)\n",
      "/Users/sinhyelim/anaconda3/lib/python3.11/site-packages/IPython/core/pylabtools.py:152: UserWarning: Glyph 54032 (\\N{HANGUL SYLLABLE PAN}) missing from current font.\n",
      "  fig.canvas.print_figure(bytes_io, **kw)\n",
      "/Users/sinhyelim/anaconda3/lib/python3.11/site-packages/IPython/core/pylabtools.py:152: UserWarning: Glyph 47588 (\\N{HANGUL SYLLABLE MAE}) missing from current font.\n",
      "  fig.canvas.print_figure(bytes_io, **kw)\n",
      "/Users/sinhyelim/anaconda3/lib/python3.11/site-packages/IPython/core/pylabtools.py:152: UserWarning: Glyph 44552 (\\N{HANGUL SYLLABLE GEUM}) missing from current font.\n",
      "  fig.canvas.print_figure(bytes_io, **kw)\n",
      "/Users/sinhyelim/anaconda3/lib/python3.11/site-packages/IPython/core/pylabtools.py:152: UserWarning: Glyph 50529 (\\N{HANGUL SYLLABLE AEG}) missing from current font.\n",
      "  fig.canvas.print_figure(bytes_io, **kw)\n"
     ]
    },
    {
     "data": {
      "image/png": "[encoded data removed]",
      "text/plain": [
       "<Figure size 640x480 with 1 Axes>"
      ]
     },
     "metadata": {},
     "output_type": "display_data"
    }
   ],
   "source": [
    "import seaborn as sns\n",
    "import matplotlib.pyplot as plt\n",
    "\n",
    "sns.boxplot(x='수수료율', y='판매금액', data=df_log)"
   ]
  },
  {
   "cell_type": "code",
   "execution_count": 162,
   "id": "2284843c",
   "metadata": {},
   "outputs": [
    {
     "data": {
      "text/plain": [
       "Index(['고객ID', '사용기기', '사용OS', '유입경로', '회원상태', '거주지', '연령', '성별', '서비스총구매수',\n",
       "       '총구매금액', '총수정요청수', '총추가결제금액', '거래일자', '수수료율', '프로그램수정횟수', '추가결제금액',\n",
       "       '거래취소여부', '거래취소일자', '서비스명', '판매자', '판매금액', '서비스가격', '평점', '이용자수', '대분류',\n",
       "       '서비스번호'],\n",
       "      dtype='object')"
      ]
     },
     "execution_count": 162,
     "metadata": {},
     "output_type": "execute_result"
    }
   ],
   "source": [
    "df2.columns"
   ]
  },
  {
   "cell_type": "code",
   "execution_count": 163,
   "id": "448fa091",
   "metadata": {},
   "outputs": [
    {
     "data": {
      "text/plain": [
       "0.0014073734359885792"
      ]
     },
     "execution_count": 163,
     "metadata": {},
     "output_type": "execute_result"
    }
   ],
   "source": [
    "df2['총구매금액'].corr(df2['수수료율'])"
   ]
  },
  {
   "cell_type": "code",
   "execution_count": null,
   "id": "8342ce2b",
   "metadata": {},
   "outputs": [],
   "source": [
    "df2['거래취소여부']"
   ]
  },
  {
   "cell_type": "code",
   "execution_count": 167,
   "id": "abd00cb3",
   "metadata": {},
   "outputs": [
    {
     "data": {
      "text/plain": [
       "0.0022918506557160047"
      ]
     },
     "execution_count": 167,
     "metadata": {},
     "output_type": "execute_result"
    }
   ],
   "source": [
    "df2['이용자수'].corr(df2['수수료율'])"
   ]
  },
  {
   "cell_type": "code",
   "execution_count": 168,
   "id": "3f75bae3",
   "metadata": {},
   "outputs": [
    {
     "data": {
      "text/plain": [
       "2.9811591352720335e-05"
      ]
     },
     "execution_count": 168,
     "metadata": {},
     "output_type": "execute_result"
    }
   ],
   "source": [
    "df2['총수정요청수'].corr(df2['수수료율'])\n",
    "# 아예 xxxxx"
   ]
  },
  {
   "cell_type": "code",
   "execution_count": 169,
   "id": "f650e8c4",
   "metadata": {},
   "outputs": [
    {
     "data": {
      "text/plain": [
       "0.0009478233804271595"
      ]
     },
     "execution_count": 169,
     "metadata": {},
     "output_type": "execute_result"
    }
   ],
   "source": [
    "df2['서비스총구매수'].corr(df2['수수료율'])"
   ]
  },
  {
   "cell_type": "code",
   "execution_count": 170,
   "id": "bc2869ec",
   "metadata": {},
   "outputs": [
    {
     "data": {
      "text/plain": [
       "0.0023246729970416414"
      ]
     },
     "execution_count": 170,
     "metadata": {},
     "output_type": "execute_result"
    }
   ],
   "source": [
    "df2['프로그램수정횟수'].corr(df2['수수료율'])"
   ]
  },
  {
   "cell_type": "code",
   "execution_count": 174,
   "id": "72d3855a",
   "metadata": {
    "collapsed": true
   },
   "outputs": [
    {
     "data": {
      "text/plain": [
       "대분류\n",
       "홈페이지      124007\n",
       "데이터        61680\n",
       "기타         44769\n",
       "프로그래밍      32758\n",
       "커머스        26802\n",
       "프로그램       24973\n",
       "모바일        15972\n",
       "디자인         4235\n",
       "기획          3930\n",
       "게임          3026\n",
       "인공지능        1412\n",
       "UnReal       713\n",
       "Name: count, dtype: int64"
      ]
     },
     "execution_count": 174,
     "metadata": {},
     "output_type": "execute_result"
    }
   ],
   "source": [
    "# 대분류에 따라 수수료율에 차이가 있는가?\n",
    "df2['대분류'].value_counts()"
   ]
  },
  {
   "cell_type": "code",
   "execution_count": 177,
   "id": "22a9efc8",
   "metadata": {
    "collapsed": true
   },
   "outputs": [
    {
     "data": {
      "text/html": [
       "<div>\n",
       "<style scoped>\n",
       "    .dataframe tbody tr th:only-of-type {\n",
       "        vertical-align: middle;\n",
       "    }\n",
       "\n",
       "    .dataframe tbody tr th {\n",
       "        vertical-align: top;\n",
       "    }\n",
       "\n",
       "    .dataframe thead th {\n",
       "        text-align: right;\n",
       "    }\n",
       "</style>\n",
       "<table border=\"1\" class=\"dataframe\">\n",
       "  <thead>\n",
       "    <tr style=\"text-align: right;\">\n",
       "      <th>수수료율</th>\n",
       "      <th>6.5</th>\n",
       "      <th>7.5</th>\n",
       "      <th>9.0</th>\n",
       "    </tr>\n",
       "    <tr>\n",
       "      <th>대분류</th>\n",
       "      <th></th>\n",
       "      <th></th>\n",
       "      <th></th>\n",
       "    </tr>\n",
       "  </thead>\n",
       "  <tbody>\n",
       "    <tr>\n",
       "      <th>UnReal</th>\n",
       "      <td>487</td>\n",
       "      <td>158</td>\n",
       "      <td>68</td>\n",
       "    </tr>\n",
       "    <tr>\n",
       "      <th>게임</th>\n",
       "      <td>2113</td>\n",
       "      <td>572</td>\n",
       "      <td>341</td>\n",
       "    </tr>\n",
       "    <tr>\n",
       "      <th>기타</th>\n",
       "      <td>31157</td>\n",
       "      <td>9156</td>\n",
       "      <td>4456</td>\n",
       "    </tr>\n",
       "    <tr>\n",
       "      <th>기획</th>\n",
       "      <td>2725</td>\n",
       "      <td>821</td>\n",
       "      <td>384</td>\n",
       "    </tr>\n",
       "    <tr>\n",
       "      <th>데이터</th>\n",
       "      <td>43197</td>\n",
       "      <td>12374</td>\n",
       "      <td>6109</td>\n",
       "    </tr>\n",
       "    <tr>\n",
       "      <th>디자인</th>\n",
       "      <td>3004</td>\n",
       "      <td>834</td>\n",
       "      <td>397</td>\n",
       "    </tr>\n",
       "    <tr>\n",
       "      <th>모바일</th>\n",
       "      <td>11147</td>\n",
       "      <td>3190</td>\n",
       "      <td>1635</td>\n",
       "    </tr>\n",
       "    <tr>\n",
       "      <th>인공지능</th>\n",
       "      <td>979</td>\n",
       "      <td>283</td>\n",
       "      <td>150</td>\n",
       "    </tr>\n",
       "    <tr>\n",
       "      <th>커머스</th>\n",
       "      <td>18729</td>\n",
       "      <td>5368</td>\n",
       "      <td>2705</td>\n",
       "    </tr>\n",
       "    <tr>\n",
       "      <th>프로그래밍</th>\n",
       "      <td>22982</td>\n",
       "      <td>6462</td>\n",
       "      <td>3314</td>\n",
       "    </tr>\n",
       "    <tr>\n",
       "      <th>프로그램</th>\n",
       "      <td>17535</td>\n",
       "      <td>4966</td>\n",
       "      <td>2472</td>\n",
       "    </tr>\n",
       "    <tr>\n",
       "      <th>홈페이지</th>\n",
       "      <td>86935</td>\n",
       "      <td>24674</td>\n",
       "      <td>12398</td>\n",
       "    </tr>\n",
       "  </tbody>\n",
       "</table>\n",
       "</div>"
      ],
      "text/plain": [
       "수수료율      6.5    7.5    9.0\n",
       "대분류                        \n",
       "UnReal    487    158     68\n",
       "게임       2113    572    341\n",
       "기타      31157   9156   4456\n",
       "기획       2725    821    384\n",
       "데이터     43197  12374   6109\n",
       "디자인      3004    834    397\n",
       "모바일     11147   3190   1635\n",
       "인공지능      979    283    150\n",
       "커머스     18729   5368   2705\n",
       "프로그래밍   22982   6462   3314\n",
       "프로그램    17535   4966   2472\n",
       "홈페이지    86935  24674  12398"
      ]
     },
     "execution_count": 177,
     "metadata": {},
     "output_type": "execute_result"
    }
   ],
   "source": [
    "df2.pivot_table(index='대분류', columns='수수료율', aggfunc='size')"
   ]
  },
  {
   "cell_type": "code",
   "execution_count": 178,
   "id": "d39c4518",
   "metadata": {
    "collapsed": true
   },
   "outputs": [
    {
     "data": {
      "text/plain": [
       "대분류\n",
       "홈페이지      124007\n",
       "데이터        61680\n",
       "기타         44769\n",
       "프로그래밍      32758\n",
       "커머스        26802\n",
       "프로그램       24973\n",
       "모바일        15972\n",
       "디자인         4235\n",
       "기획          3930\n",
       "게임          3026\n",
       "인공지능        1412\n",
       "UnReal       713\n",
       "Name: count, dtype: int64"
      ]
     },
     "execution_count": 178,
     "metadata": {},
     "output_type": "execute_result"
    }
   ],
   "source": [
    "df2['대분류'].value_counts()"
   ]
  },
  {
   "cell_type": "code",
   "execution_count": 180,
   "id": "4ae9bf96",
   "metadata": {},
   "outputs": [],
   "source": [
    "df3 = pd.read_csv('merge_all.csv')"
   ]
  },
  {
   "cell_type": "code",
   "execution_count": 181,
   "id": "8ad90b23",
   "metadata": {
    "collapsed": true
   },
   "outputs": [
    {
     "data": {
      "text/plain": [
       "Index(['Unnamed: 0', '거래일자', '수수료율', '고객ID', '프로그램수정횟수', '추가결제금액', '거래취소여부',\n",
       "       '거래취소일자', '서비스명', '판매자', '판매금액', '서비스가격', '평점', '이용자수', '대분류', '서비스번호',\n",
       "       '사용기기', '사용OS', '유입경로', '회원상태', '거주지', '연령', '성별', '서비스총구매수', '총구매금액',\n",
       "       '총수정요청수', '총추가결제금액', '서비스명_duplicated', '판매자_duplicated',\n",
       "       '서비스가격_duplicated', '평점_duplicated', '대분류_duplicated', '판매자ID',\n",
       "       '판매 서비스 수', '총 판매 금액', '프리미엄 서비스 가입여부', '신속 알람 서비스 사용여부'],\n",
       "      dtype='object')"
      ]
     },
     "execution_count": 181,
     "metadata": {},
     "output_type": "execute_result"
    }
   ],
   "source": [
    "df3.columns"
   ]
  },
  {
   "cell_type": "code",
   "execution_count": 186,
   "id": "916e8367",
   "metadata": {},
   "outputs": [],
   "source": [
    "df3 = df3.drop(columns=['서비스명_duplicated', '판매자_duplicated',\n",
    "       '서비스가격_duplicated', '평점_duplicated', '대분류_duplicated'])"
   ]
  },
  {
   "cell_type": "code",
   "execution_count": 189,
   "id": "4b75a97d",
   "metadata": {},
   "outputs": [],
   "source": [
    "df3 = df3.drop(columns=['Unnamed: 0'])"
   ]
  },
  {
   "cell_type": "code",
   "execution_count": 192,
   "id": "34d21c27",
   "metadata": {},
   "outputs": [
    {
     "data": {
      "text/plain": [
       "수수료율\n",
       "6.5    240990\n",
       "7.5     68858\n",
       "9.0     34429\n",
       "Name: count, dtype: int64"
      ]
     },
     "execution_count": 192,
     "metadata": {},
     "output_type": "execute_result"
    }
   ],
   "source": [
    "df3['수수료율'].value_counts()"
   ]
  },
  {
   "cell_type": "code",
   "execution_count": 193,
   "id": "98da9c9c",
   "metadata": {},
   "outputs": [
    {
     "data": {
      "text/plain": [
       "Index(['거래일자', '수수료율', '고객ID', '프로그램수정횟수', '추가결제금액', '거래취소여부', '거래취소일자',\n",
       "       '서비스명', '판매자', '판매금액', '서비스가격', '평점', '이용자수', '대분류', '서비스번호', '사용기기',\n",
       "       '사용OS', '유입경로', '회원상태', '거주지', '연령', '성별', '서비스총구매수', '총구매금액', '총수정요청수',\n",
       "       '총추가결제금액', '판매자ID', '판매 서비스 수', '총 판매 금액', '프리미엄 서비스 가입여부',\n",
       "       '신속 알람 서비스 사용여부'],\n",
       "      dtype='object')"
      ]
     },
     "execution_count": 193,
     "metadata": {},
     "output_type": "execute_result"
    }
   ],
   "source": [
    "df3.columns"
   ]
  },
  {
   "cell_type": "code",
   "execution_count": 195,
   "id": "8dc87782",
   "metadata": {},
   "outputs": [],
   "source": [
    "import scipy.stats as stats"
   ]
  },
  {
   "cell_type": "code",
   "execution_count": 196,
   "id": "201918a9",
   "metadata": {},
   "outputs": [
    {
     "name": "stdout",
     "output_type": "stream",
     "text": [
      "ANOVA 결과 - F-statistic: 0.7490153336332367 p-value: 0.6917319334986918\n"
     ]
    }
   ],
   "source": [
    "df3_anova = df3[['대분류', '수수료율']]\n",
    "\n",
    "# ANOVA 검정 수행\n",
    "anova_result = stats.f_oneway(*(df3_anova[df3_anova['대분류'] == category]['수수료율'] for category in df3_anova['대분류'].unique()))\n",
    "print(\"ANOVA 결과 - F-statistic:\", anova_result.statistic, \"p-value:\", anova_result.pvalue)\n",
    "\n",
    "# 대분류와 수수료율 사이에 관계 xxxxxx"
   ]
  },
  {
   "cell_type": "code",
   "execution_count": 198,
   "id": "debf21db",
   "metadata": {},
   "outputs": [
    {
     "name": "stdout",
     "output_type": "stream",
     "text": [
      "ANOVA 결과 - F-statistic: 1.0300130002954864 p-value: 0.16796454579649678\n"
     ]
    }
   ],
   "source": [
    "df3_anova = df3[['판매자ID', '수수료율']]\n",
    "\n",
    "# ANOVA 검정 수행\n",
    "anova_result = stats.f_oneway(*(df3_anova[df3_anova['판매자ID'] == category]['수수료율'] for category in df3_anova['판매자ID'].unique()))\n",
    "print(\"ANOVA 결과 - F-statistic:\", anova_result.statistic, \"p-value:\", anova_result.pvalue)\n",
    "\n",
    "# 대분류와 수수료율 사이에 관계 xxxxxx"
   ]
  },
  {
   "cell_type": "code",
   "execution_count": 201,
   "id": "c4f40fdd",
   "metadata": {},
   "outputs": [
    {
     "name": "stdout",
     "output_type": "stream",
     "text": [
      "ANOVA 결과 - F-statistic: 1.016757321868123 p-value: 0.26492593766447586\n"
     ]
    }
   ],
   "source": [
    "df3_anova = df3[['서비스명', '수수료율']]\n",
    "\n",
    "# ANOVA 검정 수행\n",
    "anova_result = stats.f_oneway(*(df3_anova[df3_anova['서비스명'] == category]['수수료율'] for category in df3_anova['서비스명'].unique()))\n",
    "print(\"ANOVA 결과 - F-statistic:\", anova_result.statistic, \"p-value:\", anova_result.pvalue)\n",
    "\n",
    "# 서비스명과 수수료율 사이에 관계 xxxxxx"
   ]
  },
  {
   "cell_type": "code",
   "execution_count": 205,
   "id": "fb186320",
   "metadata": {},
   "outputs": [
    {
     "name": "stdout",
     "output_type": "stream",
     "text": [
      "ANOVA 결과 - F-statistic: 0.06828252508857437 p-value: 0.7938541887220312\n"
     ]
    }
   ],
   "source": [
    "df3_anova = df3[['프리미엄 서비스 가입여부', '수수료율']]\n",
    "\n",
    "# ANOVA 검정 수행\n",
    "anova_result = stats.f_oneway(*(df3_anova[df3_anova['프리미엄 서비스 가입여부'] == category]['수수료율'] for category in df3_anova['프리미엄 서비스 가입여부'].unique()))\n",
    "print(\"ANOVA 결과 - F-statistic:\", anova_result.statistic, \"p-value:\", anova_result.pvalue)\n",
    "\n",
    "# 프리미엄 서비스 가입여부와 수수료율 사이에 관계 xxxxxx"
   ]
  },
  {
   "cell_type": "code",
   "execution_count": 222,
   "id": "ce10a175",
   "metadata": {},
   "outputs": [
    {
     "data": {
      "text/plain": [
       "0.0009415476851149291"
      ]
     },
     "execution_count": 222,
     "metadata": {},
     "output_type": "execute_result"
    }
   ],
   "source": [
    "df3['서비스총구매수'].corr(df3['수수료율'])"
   ]
  },
  {
   "cell_type": "code",
   "execution_count": 221,
   "id": "6afa2861",
   "metadata": {},
   "outputs": [
    {
     "data": {
      "text/plain": [
       "0.002317160083602299"
      ]
     },
     "execution_count": 221,
     "metadata": {},
     "output_type": "execute_result"
    }
   ],
   "source": [
    "df3['프로그램수정횟수'].corr(df3['수수료율'])"
   ]
  },
  {
   "cell_type": "code",
   "execution_count": 220,
   "id": "aeb80f3b",
   "metadata": {},
   "outputs": [
    {
     "data": {
      "text/plain": [
       "-0.001115706247008982"
      ]
     },
     "execution_count": 220,
     "metadata": {},
     "output_type": "execute_result"
    }
   ],
   "source": [
    "df3['총 판매 금액'].corr(df3['수수료율'])"
   ]
  },
  {
   "cell_type": "code",
   "execution_count": 219,
   "id": "94699738",
   "metadata": {},
   "outputs": [
    {
     "data": {
      "text/plain": [
       "0.0014042563025677822"
      ]
     },
     "execution_count": 219,
     "metadata": {},
     "output_type": "execute_result"
    }
   ],
   "source": [
    "df3['총구매금액'].corr(df3['수수료율'])"
   ]
  },
  {
   "cell_type": "code",
   "execution_count": 218,
   "id": "1f004ac6",
   "metadata": {},
   "outputs": [
    {
     "data": {
      "text/plain": [
       "0.0022918506557160112"
      ]
     },
     "execution_count": 218,
     "metadata": {},
     "output_type": "execute_result"
    }
   ],
   "source": [
    "df3['이용자수'].corr(df3['수수료율'])"
   ]
  },
  {
   "cell_type": "code",
   "execution_count": 217,
   "id": "e25892b1",
   "metadata": {},
   "outputs": [
    {
     "data": {
      "text/plain": [
       "0.0018558063811235346"
      ]
     },
     "execution_count": 217,
     "metadata": {},
     "output_type": "execute_result"
    }
   ],
   "source": [
    "df3['평점'].corr(df3['수수료율'])"
   ]
  },
  {
   "cell_type": "code",
   "execution_count": 216,
   "id": "5648ee29",
   "metadata": {},
   "outputs": [
    {
     "data": {
      "text/plain": [
       "-0.0007669135881742692"
      ]
     },
     "execution_count": 216,
     "metadata": {},
     "output_type": "execute_result"
    }
   ],
   "source": [
    "df3['판매 서비스 수'].corr(df3['수수료율'])"
   ]
  },
  {
   "cell_type": "code",
   "execution_count": 223,
   "id": "7e072aef",
   "metadata": {},
   "outputs": [
    {
     "data": {
      "text/plain": [
       "-0.000899059155663222"
      ]
     },
     "execution_count": 223,
     "metadata": {},
     "output_type": "execute_result"
    }
   ],
   "source": [
    "df3['총추가결제금액'].corr(df3['수수료율'])"
   ]
  },
  {
   "cell_type": "code",
   "execution_count": 224,
   "id": "a503d614",
   "metadata": {},
   "outputs": [
    {
     "data": {
      "text/plain": [
       "2.573448538999908e-05"
      ]
     },
     "execution_count": 224,
     "metadata": {},
     "output_type": "execute_result"
    }
   ],
   "source": [
    "df3['총수정요청수'].corr(df3['수수료율'])"
   ]
  },
  {
   "cell_type": "code",
   "execution_count": 225,
   "id": "f517cac5",
   "metadata": {},
   "outputs": [
    {
     "data": {
      "text/plain": [
       "-0.000786036219760084"
      ]
     },
     "execution_count": 225,
     "metadata": {},
     "output_type": "execute_result"
    }
   ],
   "source": [
    "df3['서비스가격'].corr(df3['수수료율'])"
   ]
  },
  {
   "cell_type": "code",
   "execution_count": 210,
   "id": "cb34441e",
   "metadata": {},
   "outputs": [
    {
     "data": {
      "text/plain": [
       "Index(['거래일자', '수수료율', '고객ID', '프로그램수정횟수', '추가결제금액', '거래취소여부', '거래취소일자',\n",
       "       '서비스명', '판매자', '판매금액', '서비스가격', '평점', '이용자수', '대분류', '서비스번호', '사용기기',\n",
       "       '사용OS', '유입경로', '회원상태', '거주지', '연령', '성별', '서비스총구매수', '총구매금액', '총수정요청수',\n",
       "       '총추가결제금액', '판매자ID', '판매 서비스 수', '총 판매 금액', '프리미엄 서비스 가입여부',\n",
       "       '신속 알람 서비스 사용여부'],\n",
       "      dtype='object')"
      ]
     },
     "execution_count": 210,
     "metadata": {},
     "output_type": "execute_result"
    }
   ],
   "source": [
    "df3.columns"
   ]
  },
  {
   "cell_type": "code",
   "execution_count": 227,
   "id": "cf752c59",
   "metadata": {},
   "outputs": [
    {
     "data": {
      "text/plain": [
       "20210102"
      ]
     },
     "execution_count": 227,
     "metadata": {},
     "output_type": "execute_result"
    }
   ],
   "source": [
    "df3['거래일자'].min()"
   ]
  },
  {
   "cell_type": "code",
   "execution_count": 228,
   "id": "29ad9224",
   "metadata": {},
   "outputs": [
    {
     "data": {
      "text/plain": [
       "20210630"
      ]
     },
     "execution_count": 228,
     "metadata": {},
     "output_type": "execute_result"
    }
   ],
   "source": [
    "df3['거래일자'].max()"
   ]
  },
  {
   "cell_type": "code",
   "execution_count": 230,
   "id": "559418c5",
   "metadata": {
    "collapsed": true
   },
   "outputs": [
    {
     "data": {
      "text/plain": [
       "평점\n",
       "5.0    281710\n",
       "4.9     31964\n",
       "0.0      9175\n",
       "4.8      7142\n",
       "4.7      6422\n",
       "4.6      2686\n",
       "4.0      2027\n",
       "4.5      1635\n",
       "4.3       392\n",
       "4.4       387\n",
       "4.2       381\n",
       "3.4       117\n",
       "2.8        61\n",
       "3.5        57\n",
       "3.9        39\n",
       "3.3        36\n",
       "3.0        12\n",
       "3.7        11\n",
       "1.0        10\n",
       "2.3         8\n",
       "3.6         5\n",
       "Name: count, dtype: int64"
      ]
     },
     "execution_count": 230,
     "metadata": {},
     "output_type": "execute_result"
    }
   ],
   "source": [
    "df3['평점'].value_counts()"
   ]
  },
  {
   "cell_type": "code",
   "execution_count": 237,
   "id": "518b18cf",
   "metadata": {},
   "outputs": [
    {
     "data": {
      "text/plain": [
       "4.788600232648313"
      ]
     },
     "execution_count": 237,
     "metadata": {},
     "output_type": "execute_result"
    }
   ],
   "source": [
    "df3[(df3['프로그램수정횟수']==-1)]['평점'].mean()"
   ]
  },
  {
   "cell_type": "code",
   "execution_count": null,
   "id": "09eae5d6",
   "metadata": {},
   "outputs": [],
   "source": []
  },
  {
   "cell_type": "code",
   "execution_count": 238,
   "id": "2b692676",
   "metadata": {
    "collapsed": true
   },
   "outputs": [
    {
     "data": {
      "text/html": [
       "<div>\n",
       "<style scoped>\n",
       "    .dataframe tbody tr th:only-of-type {\n",
       "        vertical-align: middle;\n",
       "    }\n",
       "\n",
       "    .dataframe tbody tr th {\n",
       "        vertical-align: top;\n",
       "    }\n",
       "\n",
       "    .dataframe thead th {\n",
       "        text-align: right;\n",
       "    }\n",
       "</style>\n",
       "<table border=\"1\" class=\"dataframe\">\n",
       "  <thead>\n",
       "    <tr style=\"text-align: right;\">\n",
       "      <th></th>\n",
       "      <th>거래일자</th>\n",
       "      <th>수수료율</th>\n",
       "      <th>고객ID</th>\n",
       "      <th>프로그램수정횟수</th>\n",
       "      <th>추가결제금액</th>\n",
       "      <th>거래취소여부</th>\n",
       "      <th>거래취소일자</th>\n",
       "      <th>서비스명</th>\n",
       "      <th>판매자</th>\n",
       "      <th>판매금액</th>\n",
       "      <th>...</th>\n",
       "      <th>성별</th>\n",
       "      <th>서비스총구매수</th>\n",
       "      <th>총구매금액</th>\n",
       "      <th>총수정요청수</th>\n",
       "      <th>총추가결제금액</th>\n",
       "      <th>판매자ID</th>\n",
       "      <th>판매 서비스 수</th>\n",
       "      <th>총 판매 금액</th>\n",
       "      <th>프리미엄 서비스 가입여부</th>\n",
       "      <th>신속 알람 서비스 사용여부</th>\n",
       "    </tr>\n",
       "  </thead>\n",
       "  <tbody>\n",
       "    <tr>\n",
       "      <th>0</th>\n",
       "      <td>20210201</td>\n",
       "      <td>6.5</td>\n",
       "      <td>5030100140</td>\n",
       "      <td>0.0</td>\n",
       "      <td>9800</td>\n",
       "      <td>NaN</td>\n",
       "      <td>NaN</td>\n",
       "      <td>카페24,고도몰,메이크샵등 쇼핑몰 수정,코딩,유지보수</td>\n",
       "      <td>logf1</td>\n",
       "      <td>14800.0</td>\n",
       "      <td>...</td>\n",
       "      <td>남성</td>\n",
       "      <td>8</td>\n",
       "      <td>250400.0</td>\n",
       "      <td>0.0</td>\n",
       "      <td>72400</td>\n",
       "      <td>V2_1008</td>\n",
       "      <td>402</td>\n",
       "      <td>4497380</td>\n",
       "      <td>미가입</td>\n",
       "      <td>미사용</td>\n",
       "    </tr>\n",
       "    <tr>\n",
       "      <th>1</th>\n",
       "      <td>20210201</td>\n",
       "      <td>6.5</td>\n",
       "      <td>8020105385</td>\n",
       "      <td>0.0</td>\n",
       "      <td>0</td>\n",
       "      <td>NaN</td>\n",
       "      <td>NaN</td>\n",
       "      <td>카페24,고도몰,메이크샵등 쇼핑몰 수정,코딩,유지보수</td>\n",
       "      <td>logf1</td>\n",
       "      <td>5000.0</td>\n",
       "      <td>...</td>\n",
       "      <td>남성</td>\n",
       "      <td>3</td>\n",
       "      <td>60000.0</td>\n",
       "      <td>0.0</td>\n",
       "      <td>0</td>\n",
       "      <td>V2_1008</td>\n",
       "      <td>402</td>\n",
       "      <td>4497380</td>\n",
       "      <td>미가입</td>\n",
       "      <td>미사용</td>\n",
       "    </tr>\n",
       "    <tr>\n",
       "      <th>2</th>\n",
       "      <td>20210613</td>\n",
       "      <td>6.5</td>\n",
       "      <td>8020105385</td>\n",
       "      <td>0.0</td>\n",
       "      <td>0</td>\n",
       "      <td>NaN</td>\n",
       "      <td>NaN</td>\n",
       "      <td>카페24,고도몰,메이크샵등 쇼핑몰 수정,코딩,유지보수</td>\n",
       "      <td>logf1</td>\n",
       "      <td>5000.0</td>\n",
       "      <td>...</td>\n",
       "      <td>남성</td>\n",
       "      <td>3</td>\n",
       "      <td>60000.0</td>\n",
       "      <td>0.0</td>\n",
       "      <td>0</td>\n",
       "      <td>V2_1008</td>\n",
       "      <td>402</td>\n",
       "      <td>4497380</td>\n",
       "      <td>미가입</td>\n",
       "      <td>미사용</td>\n",
       "    </tr>\n",
       "    <tr>\n",
       "      <th>3</th>\n",
       "      <td>20210125</td>\n",
       "      <td>7.5</td>\n",
       "      <td>50132017199</td>\n",
       "      <td>0.0</td>\n",
       "      <td>0</td>\n",
       "      <td>NaN</td>\n",
       "      <td>NaN</td>\n",
       "      <td>카페24,고도몰,메이크샵등 쇼핑몰 수정,코딩,유지보수</td>\n",
       "      <td>logf1</td>\n",
       "      <td>5000.0</td>\n",
       "      <td>...</td>\n",
       "      <td>남성</td>\n",
       "      <td>17</td>\n",
       "      <td>513600.0</td>\n",
       "      <td>1.0</td>\n",
       "      <td>3600</td>\n",
       "      <td>V2_1008</td>\n",
       "      <td>402</td>\n",
       "      <td>4497380</td>\n",
       "      <td>미가입</td>\n",
       "      <td>미사용</td>\n",
       "    </tr>\n",
       "    <tr>\n",
       "      <th>4</th>\n",
       "      <td>20210327</td>\n",
       "      <td>7.5</td>\n",
       "      <td>1002010039</td>\n",
       "      <td>1.0</td>\n",
       "      <td>10000</td>\n",
       "      <td>NaN</td>\n",
       "      <td>NaN</td>\n",
       "      <td>카페24,고도몰,메이크샵등 쇼핑몰 수정,코딩,유지보수</td>\n",
       "      <td>logf1</td>\n",
       "      <td>15000.0</td>\n",
       "      <td>...</td>\n",
       "      <td>남성</td>\n",
       "      <td>65</td>\n",
       "      <td>4889750.0</td>\n",
       "      <td>25.0</td>\n",
       "      <td>153250</td>\n",
       "      <td>V2_1008</td>\n",
       "      <td>402</td>\n",
       "      <td>4497380</td>\n",
       "      <td>미가입</td>\n",
       "      <td>미사용</td>\n",
       "    </tr>\n",
       "    <tr>\n",
       "      <th>...</th>\n",
       "      <td>...</td>\n",
       "      <td>...</td>\n",
       "      <td>...</td>\n",
       "      <td>...</td>\n",
       "      <td>...</td>\n",
       "      <td>...</td>\n",
       "      <td>...</td>\n",
       "      <td>...</td>\n",
       "      <td>...</td>\n",
       "      <td>...</td>\n",
       "      <td>...</td>\n",
       "      <td>...</td>\n",
       "      <td>...</td>\n",
       "      <td>...</td>\n",
       "      <td>...</td>\n",
       "      <td>...</td>\n",
       "      <td>...</td>\n",
       "      <td>...</td>\n",
       "      <td>...</td>\n",
       "      <td>...</td>\n",
       "      <td>...</td>\n",
       "    </tr>\n",
       "    <tr>\n",
       "      <th>344272</th>\n",
       "      <td>20210627</td>\n",
       "      <td>6.5</td>\n",
       "      <td>90502062148</td>\n",
       "      <td>0.0</td>\n",
       "      <td>10900</td>\n",
       "      <td>NaN</td>\n",
       "      <td>NaN</td>\n",
       "      <td>HTML, CSS, Jquery 웹사이트 수정해드립니다</td>\n",
       "      <td>JinPro</td>\n",
       "      <td>25900.0</td>\n",
       "      <td>...</td>\n",
       "      <td>여성</td>\n",
       "      <td>1</td>\n",
       "      <td>25900.0</td>\n",
       "      <td>0.0</td>\n",
       "      <td>10900</td>\n",
       "      <td>V2_1958</td>\n",
       "      <td>3</td>\n",
       "      <td>101600</td>\n",
       "      <td>미가입</td>\n",
       "      <td>미사용</td>\n",
       "    </tr>\n",
       "    <tr>\n",
       "      <th>344273</th>\n",
       "      <td>20210627</td>\n",
       "      <td>7.5</td>\n",
       "      <td>90502068113</td>\n",
       "      <td>0.0</td>\n",
       "      <td>7400</td>\n",
       "      <td>NaN</td>\n",
       "      <td>NaN</td>\n",
       "      <td>HTML, CSS, Jquery 웹사이트 수정해드립니다</td>\n",
       "      <td>JinPro</td>\n",
       "      <td>22400.0</td>\n",
       "      <td>...</td>\n",
       "      <td>남성</td>\n",
       "      <td>1</td>\n",
       "      <td>22400.0</td>\n",
       "      <td>0.0</td>\n",
       "      <td>7400</td>\n",
       "      <td>V2_1958</td>\n",
       "      <td>3</td>\n",
       "      <td>101600</td>\n",
       "      <td>미가입</td>\n",
       "      <td>미사용</td>\n",
       "    </tr>\n",
       "    <tr>\n",
       "      <th>344274</th>\n",
       "      <td>20210627</td>\n",
       "      <td>7.5</td>\n",
       "      <td>9050206939</td>\n",
       "      <td>0.0</td>\n",
       "      <td>10000</td>\n",
       "      <td>NaN</td>\n",
       "      <td>NaN</td>\n",
       "      <td>HTML, CSS, Jquery 웹사이트 수정해드립니다</td>\n",
       "      <td>JinPro</td>\n",
       "      <td>25000.0</td>\n",
       "      <td>...</td>\n",
       "      <td>여성</td>\n",
       "      <td>1</td>\n",
       "      <td>25000.0</td>\n",
       "      <td>0.0</td>\n",
       "      <td>10000</td>\n",
       "      <td>V2_1958</td>\n",
       "      <td>3</td>\n",
       "      <td>101600</td>\n",
       "      <td>미가입</td>\n",
       "      <td>미사용</td>\n",
       "    </tr>\n",
       "    <tr>\n",
       "      <th>344275</th>\n",
       "      <td>20210627</td>\n",
       "      <td>7.5</td>\n",
       "      <td>40106001180</td>\n",
       "      <td>0.0</td>\n",
       "      <td>8800</td>\n",
       "      <td>NaN</td>\n",
       "      <td>NaN</td>\n",
       "      <td>카페24 의류 쇼핑몰 홈페이지 제작 및 플랫폼 연동</td>\n",
       "      <td>쇼핑몰운영도와드려요101</td>\n",
       "      <td>998800.0</td>\n",
       "      <td>...</td>\n",
       "      <td>NaN</td>\n",
       "      <td>1</td>\n",
       "      <td>998800.0</td>\n",
       "      <td>0.0</td>\n",
       "      <td>8800</td>\n",
       "      <td>V2_1527</td>\n",
       "      <td>1</td>\n",
       "      <td>1007600</td>\n",
       "      <td>미가입</td>\n",
       "      <td>미사용</td>\n",
       "    </tr>\n",
       "    <tr>\n",
       "      <th>344276</th>\n",
       "      <td>20210628</td>\n",
       "      <td>6.5</td>\n",
       "      <td>11010203380</td>\n",
       "      <td>1.0</td>\n",
       "      <td>1600</td>\n",
       "      <td>NaN</td>\n",
       "      <td>NaN</td>\n",
       "      <td>아임웹 쇼핑몰 홈페이지 제작</td>\n",
       "      <td>달콤한나의도시</td>\n",
       "      <td>201600.0</td>\n",
       "      <td>...</td>\n",
       "      <td>남성</td>\n",
       "      <td>1</td>\n",
       "      <td>201600.0</td>\n",
       "      <td>1.0</td>\n",
       "      <td>1600</td>\n",
       "      <td>V2_1866</td>\n",
       "      <td>1</td>\n",
       "      <td>203200</td>\n",
       "      <td>미가입</td>\n",
       "      <td>미사용</td>\n",
       "    </tr>\n",
       "  </tbody>\n",
       "</table>\n",
       "<p>344277 rows × 31 columns</p>\n",
       "</div>"
      ],
      "text/plain": [
       "            거래일자  수수료율         고객ID  프로그램수정횟수  추가결제금액  거래취소여부  거래취소일자  \\\n",
       "0       20210201   6.5   5030100140       0.0    9800     NaN     NaN   \n",
       "1       20210201   6.5   8020105385       0.0       0     NaN     NaN   \n",
       "2       20210613   6.5   8020105385       0.0       0     NaN     NaN   \n",
       "3       20210125   7.5  50132017199       0.0       0     NaN     NaN   \n",
       "4       20210327   7.5   1002010039       1.0   10000     NaN     NaN   \n",
       "...          ...   ...          ...       ...     ...     ...     ...   \n",
       "344272  20210627   6.5  90502062148       0.0   10900     NaN     NaN   \n",
       "344273  20210627   7.5  90502068113       0.0    7400     NaN     NaN   \n",
       "344274  20210627   7.5   9050206939       0.0   10000     NaN     NaN   \n",
       "344275  20210627   7.5  40106001180       0.0    8800     NaN     NaN   \n",
       "344276  20210628   6.5  11010203380       1.0    1600     NaN     NaN   \n",
       "\n",
       "                                  서비스명            판매자      판매금액  ...   성별  \\\n",
       "0        카페24,고도몰,메이크샵등 쇼핑몰 수정,코딩,유지보수          logf1   14800.0  ...   남성   \n",
       "1        카페24,고도몰,메이크샵등 쇼핑몰 수정,코딩,유지보수          logf1    5000.0  ...   남성   \n",
       "2        카페24,고도몰,메이크샵등 쇼핑몰 수정,코딩,유지보수          logf1    5000.0  ...   남성   \n",
       "3        카페24,고도몰,메이크샵등 쇼핑몰 수정,코딩,유지보수          logf1    5000.0  ...   남성   \n",
       "4        카페24,고도몰,메이크샵등 쇼핑몰 수정,코딩,유지보수          logf1   15000.0  ...   남성   \n",
       "...                                ...            ...       ...  ...  ...   \n",
       "344272  HTML, CSS, Jquery 웹사이트 수정해드립니다         JinPro   25900.0  ...   여성   \n",
       "344273  HTML, CSS, Jquery 웹사이트 수정해드립니다         JinPro   22400.0  ...   남성   \n",
       "344274  HTML, CSS, Jquery 웹사이트 수정해드립니다         JinPro   25000.0  ...   여성   \n",
       "344275    카페24 의류 쇼핑몰 홈페이지 제작 및 플랫폼 연동  쇼핑몰운영도와드려요101  998800.0  ...  NaN   \n",
       "344276                 아임웹 쇼핑몰 홈페이지 제작        달콤한나의도시  201600.0  ...   남성   \n",
       "\n",
       "        서비스총구매수      총구매금액 총수정요청수  총추가결제금액    판매자ID 판매 서비스 수  총 판매 금액  \\\n",
       "0             8   250400.0    0.0    72400  V2_1008      402  4497380   \n",
       "1             3    60000.0    0.0        0  V2_1008      402  4497380   \n",
       "2             3    60000.0    0.0        0  V2_1008      402  4497380   \n",
       "3            17   513600.0    1.0     3600  V2_1008      402  4497380   \n",
       "4            65  4889750.0   25.0   153250  V2_1008      402  4497380   \n",
       "...         ...        ...    ...      ...      ...      ...      ...   \n",
       "344272        1    25900.0    0.0    10900  V2_1958        3   101600   \n",
       "344273        1    22400.0    0.0     7400  V2_1958        3   101600   \n",
       "344274        1    25000.0    0.0    10000  V2_1958        3   101600   \n",
       "344275        1   998800.0    0.0     8800  V2_1527        1  1007600   \n",
       "344276        1   201600.0    1.0     1600  V2_1866        1   203200   \n",
       "\n",
       "       프리미엄 서비스 가입여부 신속 알람 서비스 사용여부  \n",
       "0                미가입            미사용  \n",
       "1                미가입            미사용  \n",
       "2                미가입            미사용  \n",
       "3                미가입            미사용  \n",
       "4                미가입            미사용  \n",
       "...              ...            ...  \n",
       "344272           미가입            미사용  \n",
       "344273           미가입            미사용  \n",
       "344274           미가입            미사용  \n",
       "344275           미가입            미사용  \n",
       "344276           미가입            미사용  \n",
       "\n",
       "[344277 rows x 31 columns]"
      ]
     },
     "execution_count": 238,
     "metadata": {},
     "output_type": "execute_result"
    }
   ],
   "source": [
    "df3"
   ]
  },
  {
   "cell_type": "code",
   "execution_count": 243,
   "id": "f599683b",
   "metadata": {},
   "outputs": [
    {
     "data": {
      "text/plain": [
       "2066"
      ]
     },
     "execution_count": 243,
     "metadata": {},
     "output_type": "execute_result"
    }
   ],
   "source": [
    "len(df3['판매자ID'].value_counts())"
   ]
  },
  {
   "cell_type": "code",
   "execution_count": 245,
   "id": "951aa579",
   "metadata": {},
   "outputs": [
    {
     "data": {
      "text/plain": [
       "137521"
      ]
     },
     "execution_count": 245,
     "metadata": {},
     "output_type": "execute_result"
    }
   ],
   "source": [
    "len(df3['고객ID'].value_counts())"
   ]
  },
  {
   "cell_type": "code",
   "execution_count": 249,
   "id": "cd07700b",
   "metadata": {},
   "outputs": [
    {
     "data": {
      "text/plain": [
       "2787"
      ]
     },
     "execution_count": 249,
     "metadata": {},
     "output_type": "execute_result"
    }
   ],
   "source": [
    "len(df3['서비스명'].value_counts())"
   ]
  },
  {
   "cell_type": "markdown",
   "id": "3085a5b1",
   "metadata": {},
   "source": [
    "# 3/20"
   ]
  },
  {
   "cell_type": "code",
   "execution_count": 4,
   "id": "abfc12c7",
   "metadata": {},
   "outputs": [],
   "source": [
    "import matplotlib.pyplot as plt\n",
    "plt.rcParams['font.family'] = 'AppleGothic'"
   ]
  },
  {
   "cell_type": "code",
   "execution_count": 3,
   "id": "6e7bbff4",
   "metadata": {},
   "outputs": [],
   "source": [
    "df1 = pd.read_csv('log4.csv')"
   ]
  },
  {
   "cell_type": "code",
   "execution_count": 143,
   "id": "542ee50f",
   "metadata": {},
   "outputs": [],
   "source": [
    "df1 = df1.drop(columns='Unnamed: 0')"
   ]
  },
  {
   "cell_type": "code",
   "execution_count": 7,
   "id": "2799044a",
   "metadata": {},
   "outputs": [
    {
     "data": {
      "text/plain": [
       "Index(['거래일자', '수수료율', '고객ID', '프로그램수정횟수', '추가결제금액', '거래취소여부', '거래취소일자',\n",
       "       '서비스명', '판매자', '판매금액', '서비스가격', '평점', '이용자수', '대분류', '서비스번호', '환불여부',\n",
       "       '판매금액2', '환불금액', '거래일자_dt', '거래월', '거래분기', '수수료'],\n",
       "      dtype='object')"
      ]
     },
     "execution_count": 7,
     "metadata": {},
     "output_type": "execute_result"
    }
   ],
   "source": [
    "df1.columns"
   ]
  },
  {
   "cell_type": "code",
   "execution_count": 9,
   "id": "c3b799b8",
   "metadata": {
    "collapsed": true
   },
   "outputs": [
    {
     "data": {
      "text/html": [
       "<div>\n",
       "<style scoped>\n",
       "    .dataframe tbody tr th:only-of-type {\n",
       "        vertical-align: middle;\n",
       "    }\n",
       "\n",
       "    .dataframe tbody tr th {\n",
       "        vertical-align: top;\n",
       "    }\n",
       "\n",
       "    .dataframe thead th {\n",
       "        text-align: right;\n",
       "    }\n",
       "</style>\n",
       "<table border=\"1\" class=\"dataframe\">\n",
       "  <thead>\n",
       "    <tr style=\"text-align: right;\">\n",
       "      <th>수수료율</th>\n",
       "      <th>6.5</th>\n",
       "      <th>7.5</th>\n",
       "      <th>9.0</th>\n",
       "    </tr>\n",
       "    <tr>\n",
       "      <th>거래월</th>\n",
       "      <th></th>\n",
       "      <th></th>\n",
       "      <th></th>\n",
       "    </tr>\n",
       "  </thead>\n",
       "  <tbody>\n",
       "    <tr>\n",
       "      <th>1</th>\n",
       "      <td>40456</td>\n",
       "      <td>11666</td>\n",
       "      <td>5769</td>\n",
       "    </tr>\n",
       "    <tr>\n",
       "      <th>2</th>\n",
       "      <td>37352</td>\n",
       "      <td>10507</td>\n",
       "      <td>5196</td>\n",
       "    </tr>\n",
       "    <tr>\n",
       "      <th>3</th>\n",
       "      <td>42586</td>\n",
       "      <td>12136</td>\n",
       "      <td>5928</td>\n",
       "    </tr>\n",
       "    <tr>\n",
       "      <th>4</th>\n",
       "      <td>38571</td>\n",
       "      <td>11142</td>\n",
       "      <td>5804</td>\n",
       "    </tr>\n",
       "    <tr>\n",
       "      <th>5</th>\n",
       "      <td>39915</td>\n",
       "      <td>11347</td>\n",
       "      <td>5650</td>\n",
       "    </tr>\n",
       "    <tr>\n",
       "      <th>6</th>\n",
       "      <td>42110</td>\n",
       "      <td>12060</td>\n",
       "      <td>6082</td>\n",
       "    </tr>\n",
       "  </tbody>\n",
       "</table>\n",
       "</div>"
      ],
      "text/plain": [
       "수수료율    6.5    7.5   9.0\n",
       "거래월                     \n",
       "1     40456  11666  5769\n",
       "2     37352  10507  5196\n",
       "3     42586  12136  5928\n",
       "4     38571  11142  5804\n",
       "5     39915  11347  5650\n",
       "6     42110  12060  6082"
      ]
     },
     "execution_count": 9,
     "metadata": {},
     "output_type": "execute_result"
    }
   ],
   "source": [
    "df1.pivot_table(index='거래월', columns='수수료율', aggfunc='size')"
   ]
  },
  {
   "cell_type": "code",
   "execution_count": 12,
   "id": "73d4e41d",
   "metadata": {
    "collapsed": true
   },
   "outputs": [
    {
     "data": {
      "text/plain": [
       "count    344277.000000\n",
       "mean          6.950017\n",
       "std           0.788998\n",
       "min           6.500000\n",
       "25%           6.500000\n",
       "50%           6.500000\n",
       "75%           7.500000\n",
       "max           9.000000\n",
       "Name: 수수료율, dtype: float64"
      ]
     },
     "execution_count": 12,
     "metadata": {},
     "output_type": "execute_result"
    }
   ],
   "source": [
    "df1['수수료율'].describe()"
   ]
  },
  {
   "cell_type": "markdown",
   "id": "d9a3b5d4",
   "metadata": {},
   "source": [
    "## 대분류에 따른 타겟"
   ]
  },
  {
   "cell_type": "code",
   "execution_count": 14,
   "id": "f07b17d5",
   "metadata": {},
   "outputs": [
    {
     "data": {
      "text/plain": [
       "array(['커머스', '데이터', '홈페이지', '기타', '프로그램', '프로그래밍', '모바일', '디자인', '게임',\n",
       "       '기획', 'UnReal', '인공지능'], dtype=object)"
      ]
     },
     "execution_count": 14,
     "metadata": {},
     "output_type": "execute_result"
    }
   ],
   "source": [
    "df1['대분류'].unique()"
   ]
  },
  {
   "cell_type": "markdown",
   "id": "b34010ed",
   "metadata": {},
   "source": [
    "### 대분류에 따른 이용자 수"
   ]
  },
  {
   "cell_type": "code",
   "execution_count": 36,
   "id": "bb52d7f4",
   "metadata": {},
   "outputs": [],
   "source": [
    "p1 = df1.pivot_table(index='대분류', values='이용자수', aggfunc='sum')\n",
    "\n",
    "p1_sorted = p1.sort_values(by='이용자수', ascending=False)\n",
    "\n",
    "total_users = p1_sorted['이용자수'].sum()\n",
    "p1_sorted['이용자비율(%)'] = (p1_sorted['이용자수'] / total_users * 100).round(1)"
   ]
  },
  {
   "cell_type": "code",
   "execution_count": 37,
   "id": "d77e93a0",
   "metadata": {},
   "outputs": [
    {
     "data": {
      "text/html": [
       "<div>\n",
       "<style scoped>\n",
       "    .dataframe tbody tr th:only-of-type {\n",
       "        vertical-align: middle;\n",
       "    }\n",
       "\n",
       "    .dataframe tbody tr th {\n",
       "        vertical-align: top;\n",
       "    }\n",
       "\n",
       "    .dataframe thead th {\n",
       "        text-align: right;\n",
       "    }\n",
       "</style>\n",
       "<table border=\"1\" class=\"dataframe\">\n",
       "  <thead>\n",
       "    <tr style=\"text-align: right;\">\n",
       "      <th></th>\n",
       "      <th>이용자수</th>\n",
       "      <th>이용자비율(%)</th>\n",
       "    </tr>\n",
       "    <tr>\n",
       "      <th>대분류</th>\n",
       "      <th></th>\n",
       "      <th></th>\n",
       "    </tr>\n",
       "  </thead>\n",
       "  <tbody>\n",
       "    <tr>\n",
       "      <th>홈페이지</th>\n",
       "      <td>6642939.0</td>\n",
       "      <td>35.2</td>\n",
       "    </tr>\n",
       "    <tr>\n",
       "      <th>데이터</th>\n",
       "      <td>4392481.0</td>\n",
       "      <td>23.3</td>\n",
       "    </tr>\n",
       "    <tr>\n",
       "      <th>커머스</th>\n",
       "      <td>2511550.0</td>\n",
       "      <td>13.3</td>\n",
       "    </tr>\n",
       "    <tr>\n",
       "      <th>기타</th>\n",
       "      <td>2187002.0</td>\n",
       "      <td>11.6</td>\n",
       "    </tr>\n",
       "    <tr>\n",
       "      <th>프로그래밍</th>\n",
       "      <td>1263975.0</td>\n",
       "      <td>6.7</td>\n",
       "    </tr>\n",
       "    <tr>\n",
       "      <th>프로그램</th>\n",
       "      <td>1036353.0</td>\n",
       "      <td>5.5</td>\n",
       "    </tr>\n",
       "    <tr>\n",
       "      <th>모바일</th>\n",
       "      <td>331362.0</td>\n",
       "      <td>1.8</td>\n",
       "    </tr>\n",
       "    <tr>\n",
       "      <th>게임</th>\n",
       "      <td>204224.0</td>\n",
       "      <td>1.1</td>\n",
       "    </tr>\n",
       "    <tr>\n",
       "      <th>디자인</th>\n",
       "      <td>150736.0</td>\n",
       "      <td>0.8</td>\n",
       "    </tr>\n",
       "    <tr>\n",
       "      <th>기획</th>\n",
       "      <td>113063.0</td>\n",
       "      <td>0.6</td>\n",
       "    </tr>\n",
       "    <tr>\n",
       "      <th>인공지능</th>\n",
       "      <td>17922.0</td>\n",
       "      <td>0.1</td>\n",
       "    </tr>\n",
       "    <tr>\n",
       "      <th>UnReal</th>\n",
       "      <td>14327.0</td>\n",
       "      <td>0.1</td>\n",
       "    </tr>\n",
       "  </tbody>\n",
       "</table>\n",
       "</div>"
      ],
      "text/plain": [
       "             이용자수  이용자비율(%)\n",
       "대분류                        \n",
       "홈페이지    6642939.0      35.2\n",
       "데이터     4392481.0      23.3\n",
       "커머스     2511550.0      13.3\n",
       "기타      2187002.0      11.6\n",
       "프로그래밍   1263975.0       6.7\n",
       "프로그램    1036353.0       5.5\n",
       "모바일      331362.0       1.8\n",
       "게임       204224.0       1.1\n",
       "디자인      150736.0       0.8\n",
       "기획       113063.0       0.6\n",
       "인공지능      17922.0       0.1\n",
       "UnReal    14327.0       0.1"
      ]
     },
     "execution_count": 37,
     "metadata": {},
     "output_type": "execute_result"
    }
   ],
   "source": [
    "p1_sorted\n",
    "# 1. 홈페이지, 2. 데이터, 3. 커머스 -> 의 이용자수가 가장 많음"
   ]
  },
  {
   "cell_type": "code",
   "execution_count": 73,
   "id": "50feaabc",
   "metadata": {
    "collapsed": true
   },
   "outputs": [
    {
     "data": {
      "image/png": "[encoded data removed]",
      "text/plain": [
       "<Figure size 1000x600 with 1 Axes>"
      ]
     },
     "metadata": {},
     "output_type": "display_data"
    }
   ],
   "source": [
    "pivot_table = df1.pivot_table(index='대분류', columns='거래월', values='이용자수', aggfunc='sum')\n",
    "total_users = pivot_table.sum(axis=1)\n",
    "\n",
    "# 대분류별 총 이용자 수의 추이를 시각화\n",
    "plt.figure(figsize=(10, 6))\n",
    "plt.bar(total_users.index, total_users)\n",
    "plt.title('대분류별 총 이용자 수')\n",
    "plt.xlabel('대분류')\n",
    "plt.ylabel('총 이용자 수')\n",
    "plt.xticks(rotation=45)  # x축 눈금 라벨을 45도 회전하여 가독성 향상\n",
    "plt.grid(axis='y')  # y축에만 그리드 표시\n",
    "plt.show()"
   ]
  },
  {
   "cell_type": "markdown",
   "id": "20d05d2d",
   "metadata": {},
   "source": [
    "### 대분류에 따른 서비스가격, 판매금액"
   ]
  },
  {
   "cell_type": "code",
   "execution_count": 30,
   "id": "60be0df1",
   "metadata": {},
   "outputs": [
    {
     "data": {
      "text/html": [
       "<div>\n",
       "<style scoped>\n",
       "    .dataframe tbody tr th:only-of-type {\n",
       "        vertical-align: middle;\n",
       "    }\n",
       "\n",
       "    .dataframe tbody tr th {\n",
       "        vertical-align: top;\n",
       "    }\n",
       "\n",
       "    .dataframe thead th {\n",
       "        text-align: right;\n",
       "    }\n",
       "</style>\n",
       "<table border=\"1\" class=\"dataframe\">\n",
       "  <thead>\n",
       "    <tr style=\"text-align: right;\">\n",
       "      <th></th>\n",
       "      <th>서비스가격</th>\n",
       "      <th>판매금액</th>\n",
       "    </tr>\n",
       "    <tr>\n",
       "      <th>대분류</th>\n",
       "      <th></th>\n",
       "      <th></th>\n",
       "    </tr>\n",
       "  </thead>\n",
       "  <tbody>\n",
       "    <tr>\n",
       "      <th>UnReal</th>\n",
       "      <td>383838.709677</td>\n",
       "      <td>385743.085554</td>\n",
       "    </tr>\n",
       "    <tr>\n",
       "      <th>모바일</th>\n",
       "      <td>180814.738292</td>\n",
       "      <td>181294.928625</td>\n",
       "    </tr>\n",
       "    <tr>\n",
       "      <th>기획</th>\n",
       "      <td>107620.865140</td>\n",
       "      <td>109545.213740</td>\n",
       "    </tr>\n",
       "    <tr>\n",
       "      <th>인공지능</th>\n",
       "      <td>89664.305949</td>\n",
       "      <td>90217.485836</td>\n",
       "    </tr>\n",
       "    <tr>\n",
       "      <th>프로그래밍</th>\n",
       "      <td>81461.887173</td>\n",
       "      <td>83690.821784</td>\n",
       "    </tr>\n",
       "    <tr>\n",
       "      <th>프로그램</th>\n",
       "      <td>78970.848516</td>\n",
       "      <td>80285.982861</td>\n",
       "    </tr>\n",
       "    <tr>\n",
       "      <th>디자인</th>\n",
       "      <td>75735.301063</td>\n",
       "      <td>77150.309327</td>\n",
       "    </tr>\n",
       "    <tr>\n",
       "      <th>게임</th>\n",
       "      <td>67191.672174</td>\n",
       "      <td>69992.828817</td>\n",
       "    </tr>\n",
       "    <tr>\n",
       "      <th>홈페이지</th>\n",
       "      <td>56592.547195</td>\n",
       "      <td>59346.211988</td>\n",
       "    </tr>\n",
       "    <tr>\n",
       "      <th>기타</th>\n",
       "      <td>43487.569524</td>\n",
       "      <td>46730.544127</td>\n",
       "    </tr>\n",
       "    <tr>\n",
       "      <th>데이터</th>\n",
       "      <td>34243.044747</td>\n",
       "      <td>37393.205253</td>\n",
       "    </tr>\n",
       "    <tr>\n",
       "      <th>커머스</th>\n",
       "      <td>31262.032684</td>\n",
       "      <td>34153.838893</td>\n",
       "    </tr>\n",
       "  </tbody>\n",
       "</table>\n",
       "</div>"
      ],
      "text/plain": [
       "                서비스가격           판매금액\n",
       "대분류                                 \n",
       "UnReal  383838.709677  385743.085554\n",
       "모바일     180814.738292  181294.928625\n",
       "기획      107620.865140  109545.213740\n",
       "인공지능     89664.305949   90217.485836\n",
       "프로그래밍    81461.887173   83690.821784\n",
       "프로그램     78970.848516   80285.982861\n",
       "디자인      75735.301063   77150.309327\n",
       "게임       67191.672174   69992.828817\n",
       "홈페이지     56592.547195   59346.211988\n",
       "기타       43487.569524   46730.544127\n",
       "데이터      34243.044747   37393.205253\n",
       "커머스      31262.032684   34153.838893"
      ]
     },
     "execution_count": 30,
     "metadata": {},
     "output_type": "execute_result"
    }
   ],
   "source": [
    "df1.pivot_table(index='대분류', values=['서비스가격', '판매금액'],\n",
    "               aggfunc='mean').sort_values(by=['서비스가격', '판매금액'], ascending=False)\n",
    "\n",
    "# UnReal : 게임 개발 및 시뮬레이션용 게임 엔진\n",
    "# 비디오 게임, 가상 현실 (VR), 증강 현실 (AR), 영화 제작, 시뮬레이션 및 시각화 분야에서 널리 사용\n",
    "# 높은 품질 요구 -> 비싼 가격"
   ]
  },
  {
   "cell_type": "code",
   "execution_count": 31,
   "id": "e4d41416",
   "metadata": {},
   "outputs": [
    {
     "data": {
      "text/plain": [
       "Index(['거래일자', '수수료율', '고객ID', '프로그램수정횟수', '추가결제금액', '거래취소여부', '거래취소일자',\n",
       "       '서비스명', '판매자', '판매금액', '서비스가격', '평점', '이용자수', '대분류', '서비스번호', '환불여부',\n",
       "       '판매금액2', '환불금액', '거래일자_dt', '거래월', '거래분기', '수수료'],\n",
       "      dtype='object')"
      ]
     },
     "execution_count": 31,
     "metadata": {},
     "output_type": "execute_result"
    }
   ],
   "source": [
    "df1.columns"
   ]
  },
  {
   "cell_type": "markdown",
   "id": "8b40a0eb",
   "metadata": {},
   "source": [
    "### 대분류에 따른 평점"
   ]
  },
  {
   "cell_type": "code",
   "execution_count": 33,
   "id": "208d480d",
   "metadata": {
    "collapsed": true
   },
   "outputs": [
    {
     "data": {
      "text/html": [
       "<div>\n",
       "<style scoped>\n",
       "    .dataframe tbody tr th:only-of-type {\n",
       "        vertical-align: middle;\n",
       "    }\n",
       "\n",
       "    .dataframe tbody tr th {\n",
       "        vertical-align: top;\n",
       "    }\n",
       "\n",
       "    .dataframe thead th {\n",
       "        text-align: right;\n",
       "    }\n",
       "</style>\n",
       "<table border=\"1\" class=\"dataframe\">\n",
       "  <thead>\n",
       "    <tr style=\"text-align: right;\">\n",
       "      <th></th>\n",
       "      <th>평점</th>\n",
       "    </tr>\n",
       "    <tr>\n",
       "      <th>대분류</th>\n",
       "      <th></th>\n",
       "    </tr>\n",
       "  </thead>\n",
       "  <tbody>\n",
       "    <tr>\n",
       "      <th>UnReal</th>\n",
       "      <td>4.116410</td>\n",
       "    </tr>\n",
       "    <tr>\n",
       "      <th>디자인</th>\n",
       "      <td>4.225100</td>\n",
       "    </tr>\n",
       "    <tr>\n",
       "      <th>게임</th>\n",
       "      <td>4.619233</td>\n",
       "    </tr>\n",
       "    <tr>\n",
       "      <th>기획</th>\n",
       "      <td>4.667481</td>\n",
       "    </tr>\n",
       "    <tr>\n",
       "      <th>데이터</th>\n",
       "      <td>4.757946</td>\n",
       "    </tr>\n",
       "    <tr>\n",
       "      <th>프로그램</th>\n",
       "      <td>4.797541</td>\n",
       "    </tr>\n",
       "    <tr>\n",
       "      <th>모바일</th>\n",
       "      <td>4.810406</td>\n",
       "    </tr>\n",
       "    <tr>\n",
       "      <th>프로그래밍</th>\n",
       "      <td>4.864311</td>\n",
       "    </tr>\n",
       "    <tr>\n",
       "      <th>기타</th>\n",
       "      <td>4.864449</td>\n",
       "    </tr>\n",
       "    <tr>\n",
       "      <th>홈페이지</th>\n",
       "      <td>4.874239</td>\n",
       "    </tr>\n",
       "    <tr>\n",
       "      <th>커머스</th>\n",
       "      <td>4.918999</td>\n",
       "    </tr>\n",
       "    <tr>\n",
       "      <th>인공지능</th>\n",
       "      <td>4.922025</td>\n",
       "    </tr>\n",
       "  </tbody>\n",
       "</table>\n",
       "</div>"
      ],
      "text/plain": [
       "              평점\n",
       "대분류             \n",
       "UnReal  4.116410\n",
       "디자인     4.225100\n",
       "게임      4.619233\n",
       "기획      4.667481\n",
       "데이터     4.757946\n",
       "프로그램    4.797541\n",
       "모바일     4.810406\n",
       "프로그래밍   4.864311\n",
       "기타      4.864449\n",
       "홈페이지    4.874239\n",
       "커머스     4.918999\n",
       "인공지능    4.922025"
      ]
     },
     "execution_count": 33,
     "metadata": {},
     "output_type": "execute_result"
    }
   ],
   "source": [
    "df1.pivot_table(index='대분류', values='평점',\n",
    "                aggfunc='mean').sort_values(by='평점', ascending=True)"
   ]
  },
  {
   "cell_type": "code",
   "execution_count": 81,
   "id": "75e8f12c",
   "metadata": {},
   "outputs": [],
   "source": [
    "df4 = df1[df1['평점'] != 0]"
   ]
  },
  {
   "cell_type": "code",
   "execution_count": 82,
   "id": "52ee85d5",
   "metadata": {
    "collapsed": true
   },
   "outputs": [
    {
     "data": {
      "text/html": [
       "<div>\n",
       "<style scoped>\n",
       "    .dataframe tbody tr th:only-of-type {\n",
       "        vertical-align: middle;\n",
       "    }\n",
       "\n",
       "    .dataframe tbody tr th {\n",
       "        vertical-align: top;\n",
       "    }\n",
       "\n",
       "    .dataframe thead th {\n",
       "        text-align: right;\n",
       "    }\n",
       "</style>\n",
       "<table border=\"1\" class=\"dataframe\">\n",
       "  <thead>\n",
       "    <tr style=\"text-align: right;\">\n",
       "      <th></th>\n",
       "      <th>평점</th>\n",
       "    </tr>\n",
       "    <tr>\n",
       "      <th>대분류</th>\n",
       "      <th></th>\n",
       "    </tr>\n",
       "  </thead>\n",
       "  <tbody>\n",
       "    <tr>\n",
       "      <th>기획</th>\n",
       "      <td>4.745977</td>\n",
       "    </tr>\n",
       "    <tr>\n",
       "      <th>프로그램</th>\n",
       "      <td>4.887969</td>\n",
       "    </tr>\n",
       "    <tr>\n",
       "      <th>디자인</th>\n",
       "      <td>4.938808</td>\n",
       "    </tr>\n",
       "    <tr>\n",
       "      <th>모바일</th>\n",
       "      <td>4.955931</td>\n",
       "    </tr>\n",
       "    <tr>\n",
       "      <th>데이터</th>\n",
       "      <td>4.965317</td>\n",
       "    </tr>\n",
       "    <tr>\n",
       "      <th>프로그래밍</th>\n",
       "      <td>4.971766</td>\n",
       "    </tr>\n",
       "    <tr>\n",
       "      <th>홈페이지</th>\n",
       "      <td>4.976205</td>\n",
       "    </tr>\n",
       "    <tr>\n",
       "      <th>기타</th>\n",
       "      <td>4.979228</td>\n",
       "    </tr>\n",
       "    <tr>\n",
       "      <th>커머스</th>\n",
       "      <td>4.980883</td>\n",
       "    </tr>\n",
       "    <tr>\n",
       "      <th>인공지능</th>\n",
       "      <td>4.996334</td>\n",
       "    </tr>\n",
       "    <tr>\n",
       "      <th>게임</th>\n",
       "      <td>4.999213</td>\n",
       "    </tr>\n",
       "    <tr>\n",
       "      <th>UnReal</th>\n",
       "      <td>5.000000</td>\n",
       "    </tr>\n",
       "  </tbody>\n",
       "</table>\n",
       "</div>"
      ],
      "text/plain": [
       "              평점\n",
       "대분류             \n",
       "기획      4.745977\n",
       "프로그램    4.887969\n",
       "디자인     4.938808\n",
       "모바일     4.955931\n",
       "데이터     4.965317\n",
       "프로그래밍   4.971766\n",
       "홈페이지    4.976205\n",
       "기타      4.979228\n",
       "커머스     4.980883\n",
       "인공지능    4.996334\n",
       "게임      4.999213\n",
       "UnReal  5.000000"
      ]
     },
     "execution_count": 82,
     "metadata": {},
     "output_type": "execute_result"
    }
   ],
   "source": [
    "df4.pivot_table(index='대분류', values='평점',\n",
    "                aggfunc='mean').sort_values(by='평점', ascending=True)"
   ]
  },
  {
   "cell_type": "markdown",
   "id": "a0b0c32b",
   "metadata": {},
   "source": [
    "### 대분류에 따른 환불여부"
   ]
  },
  {
   "cell_type": "code",
   "execution_count": 46,
   "id": "5d6f78d5",
   "metadata": {
    "collapsed": true
   },
   "outputs": [
    {
     "data": {
      "text/html": [
       "<div>\n",
       "<style scoped>\n",
       "    .dataframe tbody tr th:only-of-type {\n",
       "        vertical-align: middle;\n",
       "    }\n",
       "\n",
       "    .dataframe tbody tr th {\n",
       "        vertical-align: top;\n",
       "    }\n",
       "\n",
       "    .dataframe thead th {\n",
       "        text-align: right;\n",
       "    }\n",
       "</style>\n",
       "<table border=\"1\" class=\"dataframe\">\n",
       "  <thead>\n",
       "    <tr style=\"text-align: right;\">\n",
       "      <th>환불여부</th>\n",
       "      <th>0</th>\n",
       "      <th>1</th>\n",
       "      <th>환불비율</th>\n",
       "    </tr>\n",
       "    <tr>\n",
       "      <th>대분류</th>\n",
       "      <th></th>\n",
       "      <th></th>\n",
       "      <th></th>\n",
       "    </tr>\n",
       "  </thead>\n",
       "  <tbody>\n",
       "    <tr>\n",
       "      <th>디자인</th>\n",
       "      <td>4055</td>\n",
       "      <td>180</td>\n",
       "      <td>4.3</td>\n",
       "    </tr>\n",
       "    <tr>\n",
       "      <th>프로그램</th>\n",
       "      <td>24182</td>\n",
       "      <td>791</td>\n",
       "      <td>3.2</td>\n",
       "    </tr>\n",
       "    <tr>\n",
       "      <th>인공지능</th>\n",
       "      <td>1370</td>\n",
       "      <td>42</td>\n",
       "      <td>3.0</td>\n",
       "    </tr>\n",
       "    <tr>\n",
       "      <th>UnReal</th>\n",
       "      <td>695</td>\n",
       "      <td>18</td>\n",
       "      <td>2.5</td>\n",
       "    </tr>\n",
       "    <tr>\n",
       "      <th>홈페이지</th>\n",
       "      <td>121085</td>\n",
       "      <td>2922</td>\n",
       "      <td>2.4</td>\n",
       "    </tr>\n",
       "    <tr>\n",
       "      <th>데이터</th>\n",
       "      <td>60319</td>\n",
       "      <td>1361</td>\n",
       "      <td>2.2</td>\n",
       "    </tr>\n",
       "    <tr>\n",
       "      <th>프로그래밍</th>\n",
       "      <td>32032</td>\n",
       "      <td>726</td>\n",
       "      <td>2.2</td>\n",
       "    </tr>\n",
       "    <tr>\n",
       "      <th>기획</th>\n",
       "      <td>3846</td>\n",
       "      <td>84</td>\n",
       "      <td>2.1</td>\n",
       "    </tr>\n",
       "    <tr>\n",
       "      <th>모바일</th>\n",
       "      <td>15636</td>\n",
       "      <td>336</td>\n",
       "      <td>2.1</td>\n",
       "    </tr>\n",
       "    <tr>\n",
       "      <th>커머스</th>\n",
       "      <td>26311</td>\n",
       "      <td>491</td>\n",
       "      <td>1.8</td>\n",
       "    </tr>\n",
       "    <tr>\n",
       "      <th>기타</th>\n",
       "      <td>44008</td>\n",
       "      <td>761</td>\n",
       "      <td>1.7</td>\n",
       "    </tr>\n",
       "    <tr>\n",
       "      <th>게임</th>\n",
       "      <td>2995</td>\n",
       "      <td>31</td>\n",
       "      <td>1.0</td>\n",
       "    </tr>\n",
       "  </tbody>\n",
       "</table>\n",
       "</div>"
      ],
      "text/plain": [
       "환불여부         0     1  환불비율\n",
       "대분류                       \n",
       "디자인       4055   180   4.3\n",
       "프로그램     24182   791   3.2\n",
       "인공지능      1370    42   3.0\n",
       "UnReal     695    18   2.5\n",
       "홈페이지    121085  2922   2.4\n",
       "데이터      60319  1361   2.2\n",
       "프로그래밍    32032   726   2.2\n",
       "기획        3846    84   2.1\n",
       "모바일      15636   336   2.1\n",
       "커머스      26311   491   1.8\n",
       "기타       44008   761   1.7\n",
       "게임        2995    31   1.0"
      ]
     },
     "execution_count": 46,
     "metadata": {},
     "output_type": "execute_result"
    }
   ],
   "source": [
    "cross_table = df1.pivot_table(index='대분류', columns='환불여부', aggfunc='size')\n",
    "\n",
    "cross_table['환불비율'] = cross_table[1] / (cross_table[0] + cross_table[1]) * 100\n",
    "cross_table['환불비율'] = cross_table['환불비율'].round(1)  # 소수 첫째자리까지 반올림\n",
    "\n",
    "cross_table.sort_values(by='환불비율', ascending=False)"
   ]
  },
  {
   "cell_type": "markdown",
   "id": "14810521",
   "metadata": {},
   "source": [
    "### 대분류에 따른 판매자 수"
   ]
  },
  {
   "cell_type": "code",
   "execution_count": 75,
   "id": "af2f6c1f",
   "metadata": {
    "collapsed": true
   },
   "outputs": [
    {
     "data": {
      "text/html": [
       "<div>\n",
       "<style scoped>\n",
       "    .dataframe tbody tr th:only-of-type {\n",
       "        vertical-align: middle;\n",
       "    }\n",
       "\n",
       "    .dataframe tbody tr th {\n",
       "        vertical-align: top;\n",
       "    }\n",
       "\n",
       "    .dataframe thead th {\n",
       "        text-align: right;\n",
       "    }\n",
       "</style>\n",
       "<table border=\"1\" class=\"dataframe\">\n",
       "  <thead>\n",
       "    <tr style=\"text-align: right;\">\n",
       "      <th></th>\n",
       "      <th>판매자</th>\n",
       "    </tr>\n",
       "    <tr>\n",
       "      <th>대분류</th>\n",
       "      <th></th>\n",
       "    </tr>\n",
       "  </thead>\n",
       "  <tbody>\n",
       "    <tr>\n",
       "      <th>홈페이지</th>\n",
       "      <td>124007</td>\n",
       "    </tr>\n",
       "    <tr>\n",
       "      <th>프로그램</th>\n",
       "      <td>24973</td>\n",
       "    </tr>\n",
       "    <tr>\n",
       "      <th>프로그래밍</th>\n",
       "      <td>32758</td>\n",
       "    </tr>\n",
       "    <tr>\n",
       "      <th>커머스</th>\n",
       "      <td>26802</td>\n",
       "    </tr>\n",
       "    <tr>\n",
       "      <th>인공지능</th>\n",
       "      <td>1412</td>\n",
       "    </tr>\n",
       "    <tr>\n",
       "      <th>모바일</th>\n",
       "      <td>15972</td>\n",
       "    </tr>\n",
       "    <tr>\n",
       "      <th>디자인</th>\n",
       "      <td>4235</td>\n",
       "    </tr>\n",
       "    <tr>\n",
       "      <th>데이터</th>\n",
       "      <td>61680</td>\n",
       "    </tr>\n",
       "    <tr>\n",
       "      <th>기획</th>\n",
       "      <td>3930</td>\n",
       "    </tr>\n",
       "    <tr>\n",
       "      <th>기타</th>\n",
       "      <td>44769</td>\n",
       "    </tr>\n",
       "    <tr>\n",
       "      <th>게임</th>\n",
       "      <td>3026</td>\n",
       "    </tr>\n",
       "    <tr>\n",
       "      <th>UnReal</th>\n",
       "      <td>713</td>\n",
       "    </tr>\n",
       "  </tbody>\n",
       "</table>\n",
       "</div>"
      ],
      "text/plain": [
       "           판매자\n",
       "대분류           \n",
       "홈페이지    124007\n",
       "프로그램     24973\n",
       "프로그래밍    32758\n",
       "커머스      26802\n",
       "인공지능      1412\n",
       "모바일      15972\n",
       "디자인       4235\n",
       "데이터      61680\n",
       "기획        3930\n",
       "기타       44769\n",
       "게임        3026\n",
       "UnReal     713"
      ]
     },
     "execution_count": 75,
     "metadata": {},
     "output_type": "execute_result"
    }
   ],
   "source": [
    "df1.pivot_table(index='대분류', values='판매자',\n",
    "                aggfunc='count').sort_values(by='대분류', ascending=False)"
   ]
  },
  {
   "cell_type": "code",
   "execution_count": 49,
   "id": "e2bb1631",
   "metadata": {},
   "outputs": [
    {
     "data": {
      "text/plain": [
       "Index(['거래일자', '수수료율', '고객ID', '프로그램수정횟수', '추가결제금액', '거래취소여부', '거래취소일자',\n",
       "       '서비스명', '판매자', '판매금액', '서비스가격', '평점', '이용자수', '대분류', '서비스번호', '환불여부',\n",
       "       '판매금액2', '환불금액', '거래일자_dt', '거래월', '거래분기', '수수료'],\n",
       "      dtype='object')"
      ]
     },
     "execution_count": 49,
     "metadata": {},
     "output_type": "execute_result"
    }
   ],
   "source": [
    "df1.columns"
   ]
  },
  {
   "cell_type": "markdown",
   "id": "9b943d7d",
   "metadata": {},
   "source": [
    "### 환불을 하지 않은 사람들 중 대분류별 프로그램 수정횟수"
   ]
  },
  {
   "cell_type": "code",
   "execution_count": 76,
   "id": "3f94b4c2",
   "metadata": {},
   "outputs": [],
   "source": [
    "df2 = df1[df1['환불여부']==0]\n",
    "df3 = df1[df1['환불여부']==1]"
   ]
  },
  {
   "cell_type": "code",
   "execution_count": 59,
   "id": "d17b19ac",
   "metadata": {
    "collapsed": true
   },
   "outputs": [
    {
     "data": {
      "text/html": [
       "<div>\n",
       "<style scoped>\n",
       "    .dataframe tbody tr th:only-of-type {\n",
       "        vertical-align: middle;\n",
       "    }\n",
       "\n",
       "    .dataframe tbody tr th {\n",
       "        vertical-align: top;\n",
       "    }\n",
       "\n",
       "    .dataframe thead th {\n",
       "        text-align: right;\n",
       "    }\n",
       "</style>\n",
       "<table border=\"1\" class=\"dataframe\">\n",
       "  <thead>\n",
       "    <tr style=\"text-align: right;\">\n",
       "      <th></th>\n",
       "      <th>프로그램수정횟수</th>\n",
       "    </tr>\n",
       "    <tr>\n",
       "      <th>대분류</th>\n",
       "      <th></th>\n",
       "    </tr>\n",
       "  </thead>\n",
       "  <tbody>\n",
       "    <tr>\n",
       "      <th>UnReal</th>\n",
       "      <td>0.280576</td>\n",
       "    </tr>\n",
       "    <tr>\n",
       "      <th>프로그램</th>\n",
       "      <td>0.215813</td>\n",
       "    </tr>\n",
       "    <tr>\n",
       "      <th>홈페이지</th>\n",
       "      <td>0.206815</td>\n",
       "    </tr>\n",
       "    <tr>\n",
       "      <th>기타</th>\n",
       "      <td>0.203118</td>\n",
       "    </tr>\n",
       "    <tr>\n",
       "      <th>프로그래밍</th>\n",
       "      <td>0.200331</td>\n",
       "    </tr>\n",
       "    <tr>\n",
       "      <th>커머스</th>\n",
       "      <td>0.193600</td>\n",
       "    </tr>\n",
       "    <tr>\n",
       "      <th>데이터</th>\n",
       "      <td>0.193501</td>\n",
       "    </tr>\n",
       "    <tr>\n",
       "      <th>모바일</th>\n",
       "      <td>0.188034</td>\n",
       "    </tr>\n",
       "    <tr>\n",
       "      <th>디자인</th>\n",
       "      <td>0.167941</td>\n",
       "    </tr>\n",
       "    <tr>\n",
       "      <th>인공지능</th>\n",
       "      <td>0.164964</td>\n",
       "    </tr>\n",
       "    <tr>\n",
       "      <th>기획</th>\n",
       "      <td>0.163547</td>\n",
       "    </tr>\n",
       "    <tr>\n",
       "      <th>게임</th>\n",
       "      <td>0.148581</td>\n",
       "    </tr>\n",
       "  </tbody>\n",
       "</table>\n",
       "</div>"
      ],
      "text/plain": [
       "        프로그램수정횟수\n",
       "대분류             \n",
       "UnReal  0.280576\n",
       "프로그램    0.215813\n",
       "홈페이지    0.206815\n",
       "기타      0.203118\n",
       "프로그래밍   0.200331\n",
       "커머스     0.193600\n",
       "데이터     0.193501\n",
       "모바일     0.188034\n",
       "디자인     0.167941\n",
       "인공지능    0.164964\n",
       "기획      0.163547\n",
       "게임      0.148581"
      ]
     },
     "execution_count": 59,
     "metadata": {},
     "output_type": "execute_result"
    }
   ],
   "source": [
    "df2.pivot_table(index='대분류', values='프로그램수정횟수',\n",
    "                aggfunc='mean').sort_values(by='프로그램수정횟수', ascending=False)"
   ]
  },
  {
   "cell_type": "code",
   "execution_count": 78,
   "id": "c6293952",
   "metadata": {},
   "outputs": [],
   "source": [
    "### 환불을 한 사람들 중 대분류별 프로그램 수정횟수"
   ]
  },
  {
   "cell_type": "code",
   "execution_count": 77,
   "id": "d5839757",
   "metadata": {},
   "outputs": [
    {
     "data": {
      "text/html": [
       "<div>\n",
       "<style scoped>\n",
       "    .dataframe tbody tr th:only-of-type {\n",
       "        vertical-align: middle;\n",
       "    }\n",
       "\n",
       "    .dataframe tbody tr th {\n",
       "        vertical-align: top;\n",
       "    }\n",
       "\n",
       "    .dataframe thead th {\n",
       "        text-align: right;\n",
       "    }\n",
       "</style>\n",
       "<table border=\"1\" class=\"dataframe\">\n",
       "  <thead>\n",
       "    <tr style=\"text-align: right;\">\n",
       "      <th></th>\n",
       "      <th>프로그램수정횟수</th>\n",
       "    </tr>\n",
       "    <tr>\n",
       "      <th>대분류</th>\n",
       "      <th></th>\n",
       "    </tr>\n",
       "  </thead>\n",
       "  <tbody>\n",
       "    <tr>\n",
       "      <th>커머스</th>\n",
       "      <td>-0.995927</td>\n",
       "    </tr>\n",
       "    <tr>\n",
       "      <th>프로그래밍</th>\n",
       "      <td>-0.998623</td>\n",
       "    </tr>\n",
       "    <tr>\n",
       "      <th>홈페이지</th>\n",
       "      <td>-0.998631</td>\n",
       "    </tr>\n",
       "    <tr>\n",
       "      <th>데이터</th>\n",
       "      <td>-0.999265</td>\n",
       "    </tr>\n",
       "    <tr>\n",
       "      <th>UnReal</th>\n",
       "      <td>-1.000000</td>\n",
       "    </tr>\n",
       "    <tr>\n",
       "      <th>게임</th>\n",
       "      <td>-1.000000</td>\n",
       "    </tr>\n",
       "    <tr>\n",
       "      <th>기타</th>\n",
       "      <td>-1.000000</td>\n",
       "    </tr>\n",
       "    <tr>\n",
       "      <th>기획</th>\n",
       "      <td>-1.000000</td>\n",
       "    </tr>\n",
       "    <tr>\n",
       "      <th>디자인</th>\n",
       "      <td>-1.000000</td>\n",
       "    </tr>\n",
       "    <tr>\n",
       "      <th>모바일</th>\n",
       "      <td>-1.000000</td>\n",
       "    </tr>\n",
       "    <tr>\n",
       "      <th>인공지능</th>\n",
       "      <td>-1.000000</td>\n",
       "    </tr>\n",
       "    <tr>\n",
       "      <th>프로그램</th>\n",
       "      <td>-1.000000</td>\n",
       "    </tr>\n",
       "  </tbody>\n",
       "</table>\n",
       "</div>"
      ],
      "text/plain": [
       "        프로그램수정횟수\n",
       "대분류             \n",
       "커머스    -0.995927\n",
       "프로그래밍  -0.998623\n",
       "홈페이지   -0.998631\n",
       "데이터    -0.999265\n",
       "UnReal -1.000000\n",
       "게임     -1.000000\n",
       "기타     -1.000000\n",
       "기획     -1.000000\n",
       "디자인    -1.000000\n",
       "모바일    -1.000000\n",
       "인공지능   -1.000000\n",
       "프로그램   -1.000000"
      ]
     },
     "execution_count": 77,
     "metadata": {},
     "output_type": "execute_result"
    }
   ],
   "source": [
    "df3.pivot_table(index='대분류', values='프로그램수정횟수',\n",
    "                aggfunc='mean').sort_values(by='프로그램수정횟수', ascending=False)"
   ]
  },
  {
   "cell_type": "markdown",
   "id": "46439fc9",
   "metadata": {},
   "source": [
    "### 대분류 별 이용자 수 추세(거래월)"
   ]
  },
  {
   "cell_type": "code",
   "execution_count": null,
   "id": "2d09acf9",
   "metadata": {},
   "outputs": [],
   "source": [
    "df1.pivot_table(index='대분류', columns='거래월', values='이용자수', aggfunc='sum')"
   ]
  },
  {
   "cell_type": "code",
   "execution_count": 72,
   "id": "8924cad7",
   "metadata": {
    "collapsed": true
   },
   "outputs": [
    {
     "data": {
      "image/png": "[encoded data removed]",
      "text/plain": [
       "<Figure size 1200x800 with 1 Axes>"
      ]
     },
     "metadata": {},
     "output_type": "display_data"
    }
   ],
   "source": [
    "# 대분류별 거래월별 이용자 수 피벗 테이블 생성\n",
    "pivot_table = df1.pivot_table(index='거래월', columns='대분류', values='이용자수', aggfunc='sum')\n",
    "\n",
    "# 대분류별로 꺾은선 그래프를 그립니다.\n",
    "plt.figure(figsize=(12, 8))\n",
    "for category in pivot_table.columns:\n",
    "    plt.plot(pivot_table.index, pivot_table[category], marker='o', label=category)\n",
    "\n",
    "plt.title('월별 대분류 이용자 수 추이')\n",
    "plt.xlabel('월')\n",
    "plt.ylabel('이용자 수')\n",
    "plt.xticks(pivot_table.index)  # x축 눈금 설정\n",
    "plt.legend(loc='upper right', bbox_to_anchor=(1.2, 1))\n",
    "plt.grid(True)\n",
    "plt.show()"
   ]
  },
  {
   "cell_type": "markdown",
   "id": "caf82d7e",
   "metadata": {},
   "source": [
    "## 군집분석"
   ]
  },
  {
   "cell_type": "code",
   "execution_count": 8,
   "id": "d6b94ec8",
   "metadata": {},
   "outputs": [
    {
     "data": {
      "text/plain": [
       "Index(['거래일자', '수수료율', '고객ID', '프로그램수정횟수', '추가결제금액', '거래취소여부', '거래취소일자',\n",
       "       '서비스명', '판매자', '판매금액', '서비스가격', '평점', '이용자수', '대분류', '서비스번호', '환불여부',\n",
       "       '판매금액2', '환불금액', '거래일자_dt', '거래월', '거래분기', '수수료'],\n",
       "      dtype='object')"
      ]
     },
     "execution_count": 8,
     "metadata": {},
     "output_type": "execute_result"
    }
   ],
   "source": [
    "df1.columns"
   ]
  },
  {
   "cell_type": "code",
   "execution_count": 2,
   "id": "86a06dc4",
   "metadata": {},
   "outputs": [],
   "source": [
    "from sklearn.cluster import KMeans\n",
    "from sklearn.metrics import silhouette_score\n",
    "from sklearn.cluster import AgglomerativeClustering # 병렬형 계층 군집분석"
   ]
  },
  {
   "cell_type": "code",
   "execution_count": 9,
   "id": "98e3eddc",
   "metadata": {},
   "outputs": [],
   "source": [
    "col_list = ['프로그램수정횟수','추가결제금액','판매금액','이용자수','환불여부','수수료율']"
   ]
  },
  {
   "cell_type": "code",
   "execution_count": 33,
   "id": "6b629836",
   "metadata": {},
   "outputs": [],
   "source": [
    "df1 = df1.drop(columns='C1')"
   ]
  },
  {
   "cell_type": "code",
   "execution_count": 34,
   "id": "03795b0d",
   "metadata": {
    "collapsed": true
   },
   "outputs": [
    {
     "data": {
      "text/plain": [
       "0         0\n",
       "1         0\n",
       "2         0\n",
       "3         0\n",
       "4         0\n",
       "         ..\n",
       "344272    0\n",
       "344273    0\n",
       "344274    0\n",
       "344275    0\n",
       "344276    0\n",
       "Name: C1, Length: 344277, dtype: object"
      ]
     },
     "execution_count": 34,
     "metadata": {},
     "output_type": "execute_result"
    }
   ],
   "source": [
    "cluster3 = KMeans(n_clusters=5, max_iter=100)\n",
    "df1['C1'] = cluster3.fit_predict(df1[col_list]).astype(str)\n",
    "df1['C1']"
   ]
  },
  {
   "cell_type": "code",
   "execution_count": 35,
   "id": "4250905b",
   "metadata": {},
   "outputs": [
    {
     "data": {
      "text/plain": [
       "C1\n",
       "0    329020\n",
       "2     14290\n",
       "4       880\n",
       "1        85\n",
       "3         2\n",
       "Name: count, dtype: int64"
      ]
     },
     "execution_count": 35,
     "metadata": {},
     "output_type": "execute_result"
    }
   ],
   "source": [
    "df1['C1'].value_counts()"
   ]
  },
  {
   "cell_type": "code",
   "execution_count": null,
   "id": "5c6b27c2",
   "metadata": {},
   "outputs": [],
   "source": [
    "df1.pivot_table(index='C1', \n",
    "                values=['프로그램수정횟수','추가결제금액','판매금액','이용자수','수수료율'],\n",
    "               aggfunc='mean')"
   ]
  },
  {
   "cell_type": "code",
   "execution_count": 16,
   "id": "2b9c93cc",
   "metadata": {},
   "outputs": [
    {
     "data": {
      "text/html": [
       "<div>\n",
       "<style scoped>\n",
       "    .dataframe tbody tr th:only-of-type {\n",
       "        vertical-align: middle;\n",
       "    }\n",
       "\n",
       "    .dataframe tbody tr th {\n",
       "        vertical-align: top;\n",
       "    }\n",
       "\n",
       "    .dataframe thead th {\n",
       "        text-align: right;\n",
       "    }\n",
       "</style>\n",
       "<table border=\"1\" class=\"dataframe\">\n",
       "  <thead>\n",
       "    <tr style=\"text-align: right;\">\n",
       "      <th>환불여부</th>\n",
       "      <th>0</th>\n",
       "      <th>1</th>\n",
       "    </tr>\n",
       "    <tr>\n",
       "      <th>C1</th>\n",
       "      <th></th>\n",
       "      <th></th>\n",
       "    </tr>\n",
       "  </thead>\n",
       "  <tbody>\n",
       "    <tr>\n",
       "      <th>0</th>\n",
       "      <td>334227.0</td>\n",
       "      <td>7743.0</td>\n",
       "    </tr>\n",
       "    <tr>\n",
       "      <th>1</th>\n",
       "      <td>56.0</td>\n",
       "      <td>NaN</td>\n",
       "    </tr>\n",
       "    <tr>\n",
       "      <th>2</th>\n",
       "      <td>2251.0</td>\n",
       "      <td>NaN</td>\n",
       "    </tr>\n",
       "  </tbody>\n",
       "</table>\n",
       "</div>"
      ],
      "text/plain": [
       "환불여부         0       1\n",
       "C1                    \n",
       "0     334227.0  7743.0\n",
       "1         56.0     NaN\n",
       "2       2251.0     NaN"
      ]
     },
     "execution_count": 16,
     "metadata": {},
     "output_type": "execute_result"
    }
   ],
   "source": [
    "df1.pivot_table(index='C1', columns='환불여부', aggfunc='size')"
   ]
  },
  {
   "cell_type": "code",
   "execution_count": 144,
   "id": "75c55ad1",
   "metadata": {},
   "outputs": [
    {
     "data": {
      "text/plain": [
       "Index(['거래일자', '수수료율', '고객ID', '프로그램수정횟수', '추가결제금액', '거래취소여부', '거래취소일자',\n",
       "       '서비스명', '판매자', '판매금액', '서비스가격', '평점', '이용자수', '대분류', '서비스번호', '환불여부',\n",
       "       '판매금액2', '환불금액', '거래일자_dt', '거래월', '거래분기', '수수료'],\n",
       "      dtype='object')"
      ]
     },
     "execution_count": 144,
     "metadata": {},
     "output_type": "execute_result"
    }
   ],
   "source": [
    "df1.columns"
   ]
  },
  {
   "cell_type": "markdown",
   "id": "14d99595",
   "metadata": {},
   "source": [
    "## 다변량분석"
   ]
  },
  {
   "cell_type": "code",
   "execution_count": 74,
   "id": "e27a469f",
   "metadata": {},
   "outputs": [],
   "source": [
    "import pandas as pd\n",
    "import statsmodels.api as sm"
   ]
  },
  {
   "cell_type": "code",
   "execution_count": 186,
   "id": "15e95c57",
   "metadata": {
    "collapsed": true
   },
   "outputs": [
    {
     "data": {
      "text/plain": [
       "0        2021-02-01\n",
       "1        2021-02-01\n",
       "2        2021-02-01\n",
       "3        2021-02-01\n",
       "4        2021-02-01\n",
       "            ...    \n",
       "344272   2021-06-30\n",
       "344273   2021-06-30\n",
       "344274   2021-06-30\n",
       "344275   2021-06-30\n",
       "344276   2021-06-30\n",
       "Name: 거래일자, Length: 344277, dtype: datetime64[ns]"
      ]
     },
     "execution_count": 186,
     "metadata": {},
     "output_type": "execute_result"
    }
   ],
   "source": [
    "df1['거래일자']"
   ]
  },
  {
   "cell_type": "code",
   "execution_count": 166,
   "id": "2183a520",
   "metadata": {},
   "outputs": [],
   "source": [
    "df_new = df1"
   ]
  },
  {
   "cell_type": "code",
   "execution_count": 155,
   "id": "1502d0ce",
   "metadata": {
    "collapsed": true
   },
   "outputs": [
    {
     "data": {
      "text/plain": [
       "array(['카페24,고도몰,메이크샵등 쇼핑몰 수정,코딩,유지보수', '엑셀 VBA, 매크로, ERP 프로그램 개발해 드립니다.',\n",
       "       '엑셀을 이용 서식과 집계, 분석 및 VBA 프로그래밍', ...,\n",
       "       '대화형 이러닝 동영상 강의 플레이어를 설치해 드립니다.', '워드프레스 엘리멘토 프로를 꼼꼼히 설치해 드립니다.',\n",
       "       '홈페이지 간단하면서도 \"느낌있게\" 제작 해드립니다'], dtype=object)"
      ]
     },
     "execution_count": 155,
     "metadata": {},
     "output_type": "execute_result"
    }
   ],
   "source": [
    "df1['서비스명'].unique()"
   ]
  },
  {
   "cell_type": "code",
   "execution_count": 167,
   "id": "8b6769e9",
   "metadata": {},
   "outputs": [],
   "source": [
    "# 거래일자 컬럼을 datetime 형식으로 변환\n",
    "#df_new['거래일자'] = pd.to_datetime(df_new['거래일자'], format='%Y%m%d')\n",
    "\n",
    "df_new = pd.get_dummies(df_new, columns=['대분류'], drop_first=False)"
   ]
  },
  {
   "cell_type": "code",
   "execution_count": 175,
   "id": "9ab0cc9e",
   "metadata": {},
   "outputs": [],
   "source": [
    "for col in ['대분류_게임', '대분류_기타', '대분류_기획', '대분류_데이터', '대분류_디자인', \n",
    "            '대분류_모바일', '대분류_인공지능', '대분류_커머스', '대분류_프로그래밍', '대분류_프로그램', '대분류_홈페이지']:\n",
    "    df_new[col] = df_new[col].astype(int)"
   ]
  },
  {
   "cell_type": "code",
   "execution_count": 177,
   "id": "2259a440",
   "metadata": {
    "collapsed": true
   },
   "outputs": [
    {
     "name": "stdout",
     "output_type": "stream",
     "text": [
      "<class 'pandas.core.frame.DataFrame'>\n",
      "RangeIndex: 344277 entries, 0 to 344276\n",
      "Data columns (total 33 columns):\n",
      " #   Column      Non-Null Count   Dtype         \n",
      "---  ------      --------------   -----         \n",
      " 0   거래일자        344277 non-null  datetime64[ns]\n",
      " 1   수수료율        344277 non-null  float64       \n",
      " 2   고객ID        344277 non-null  int64         \n",
      " 3   프로그램수정횟수    344277 non-null  float64       \n",
      " 4   추가결제금액      344277 non-null  int64         \n",
      " 5   거래취소여부      344277 non-null  float64       \n",
      " 6   거래취소일자      4597 non-null    float64       \n",
      " 7   서비스명        344277 non-null  object        \n",
      " 8   판매자         344277 non-null  object        \n",
      " 9   판매금액        344277 non-null  float64       \n",
      " 10  서비스가격       344277 non-null  float64       \n",
      " 11  평점          344277 non-null  float64       \n",
      " 12  이용자수        344277 non-null  float64       \n",
      " 13  서비스번호       344277 non-null  float64       \n",
      " 14  환불여부        344277 non-null  int64         \n",
      " 15  판매금액2       344277 non-null  float64       \n",
      " 16  환불금액        344277 non-null  int64         \n",
      " 17  거래일자_dt     344277 non-null  object        \n",
      " 18  거래월         344277 non-null  int64         \n",
      " 19  거래분기        344277 non-null  float64       \n",
      " 20  수수료         344277 non-null  float64       \n",
      " 21  대분류_UnReal  344277 non-null  bool          \n",
      " 22  대분류_게임      344277 non-null  int64         \n",
      " 23  대분류_기타      344277 non-null  int64         \n",
      " 24  대분류_기획      344277 non-null  int64         \n",
      " 25  대분류_데이터     344277 non-null  int64         \n",
      " 26  대분류_디자인     344277 non-null  int64         \n",
      " 27  대분류_모바일     344277 non-null  int64         \n",
      " 28  대분류_인공지능    344277 non-null  int64         \n",
      " 29  대분류_커머스     344277 non-null  int64         \n",
      " 30  대분류_프로그래밍   344277 non-null  int64         \n",
      " 31  대분류_프로그램    344277 non-null  int64         \n",
      " 32  대분류_홈페이지    344277 non-null  int64         \n",
      "dtypes: bool(1), datetime64[ns](1), float64(12), int64(16), object(3)\n",
      "memory usage: 84.4+ MB\n"
     ]
    }
   ],
   "source": [
    "df_new.info()"
   ]
  },
  {
   "cell_type": "code",
   "execution_count": 187,
   "id": "e77eaae3",
   "metadata": {},
   "outputs": [],
   "source": [
    "# 거래일자 컬럼을 독립 변수로 선택\n",
    "X = df_new[['거래월','프로그램수정횟수', '추가결제금액', '평점','판매금액',\n",
    "            '서비스가격', '이용자수','환불여부', '대분류_게임', '대분류_기타', '대분류_기획',\n",
    "            '대분류_데이터', '대분류_디자인', '대분류_모바일', '대분류_인공지능', '대분류_커머스', '대분류_프로그래밍',\n",
    "            '대분류_프로그램', '대분류_홈페이지']]\n",
    "\n",
    "# 종속 변수 선택\n",
    "y = df_new['수수료율']"
   ]
  },
  {
   "cell_type": "code",
   "execution_count": 188,
   "id": "83a10af5",
   "metadata": {},
   "outputs": [],
   "source": [
    "# 상수항 추가\n",
    "X = sm.add_constant(X)"
   ]
  },
  {
   "cell_type": "code",
   "execution_count": 189,
   "id": "9027cbd5",
   "metadata": {},
   "outputs": [],
   "source": [
    "model = sm.OLS(y, X).fit()"
   ]
  },
  {
   "cell_type": "code",
   "execution_count": 191,
   "id": "f80db7c8",
   "metadata": {
    "collapsed": true
   },
   "outputs": [
    {
     "name": "stdout",
     "output_type": "stream",
     "text": [
      "                            OLS Regression Results                            \n",
      "==============================================================================\n",
      "Dep. Variable:                   수수료율   R-squared:                       0.000\n",
      "Model:                            OLS   Adj. R-squared:                 -0.000\n",
      "Method:                 Least Squares   F-statistic:                    0.8710\n",
      "Date:                Thu, 21 Mar 2024   Prob (F-statistic):              0.620\n",
      "Time:                        10:26:35   Log-Likelihood:            -4.0691e+05\n",
      "No. Observations:              344277   AIC:                         8.139e+05\n",
      "Df Residuals:                  344257   BIC:                         8.141e+05\n",
      "Df Model:                          19                                         \n",
      "Covariance Type:            nonrobust                                         \n",
      "==============================================================================\n",
      "                 coef    std err          t      P>|t|      [0.025      0.975]\n",
      "------------------------------------------------------------------------------\n",
      "const          6.9495      0.031    226.093      0.000       6.889       7.010\n",
      "거래월            0.0012      0.001      1.485      0.138      -0.000       0.003\n",
      "프로그램수정횟수       0.0021      0.002      1.088      0.276      -0.002       0.006\n",
      "추가결제금액     -4.795e-08   1.62e-07     -0.296      0.767   -3.65e-07    2.69e-07\n",
      "평점             0.0014      0.002      0.843      0.400      -0.002       0.005\n",
      "판매금액        5.556e-08   5.67e-08      0.980      0.327   -5.55e-08    1.67e-07\n",
      "서비스가격      -5.675e-08   5.65e-08     -1.005      0.315   -1.67e-07     5.4e-08\n",
      "이용자수         1.94e-05   1.52e-05      1.273      0.203   -1.05e-05    4.93e-05\n",
      "환불여부          -0.0035      0.010     -0.350      0.727      -0.023       0.016\n",
      "대분류_게임         0.0088      0.033      0.268      0.788      -0.056       0.073\n",
      "대분류_기타        -0.0086      0.030     -0.288      0.773      -0.067       0.050\n",
      "대분류_기획        -0.0077      0.032     -0.240      0.811      -0.071       0.055\n",
      "대분류_데이터       -0.0139      0.030     -0.467      0.640      -0.072       0.044\n",
      "대분류_디자인       -0.0290      0.032     -0.908      0.364      -0.092       0.034\n",
      "대분류_모바일       -0.0052      0.030     -0.172      0.863      -0.064       0.054\n",
      "대분류_인공지능       0.0051      0.036      0.140      0.889      -0.066       0.076\n",
      "대분류_커머스       -0.0104      0.030     -0.345      0.730      -0.069       0.048\n",
      "대분류_프로그래밍     -0.0114      0.030     -0.382      0.702      -0.070       0.047\n",
      "대분류_프로그램      -0.0151      0.030     -0.504      0.614      -0.074       0.044\n",
      "대분류_홈페이지      -0.0130      0.030     -0.439      0.661      -0.071       0.045\n",
      "==============================================================================\n",
      "Omnibus:                    96261.885   Durbin-Watson:                   1.997\n",
      "Prob(Omnibus):                  0.000   Jarque-Bera (JB):           204645.629\n",
      "Skew:                           1.692   Prob(JB):                         0.00\n",
      "Kurtosis:                       4.679   Cond. No.                     2.86e+07\n",
      "==============================================================================\n",
      "\n",
      "Notes:\n",
      "[1] Standard Errors assume that the covariance matrix of the errors is correctly specified.\n",
      "[2] The condition number is large, 2.86e+07. This might indicate that there are\n",
      "strong multicollinearity or other numerical problems.\n"
     ]
    }
   ],
   "source": [
    "print(model.summary())"
   ]
  },
  {
   "cell_type": "code",
   "execution_count": 192,
   "id": "96983fbf",
   "metadata": {},
   "outputs": [
    {
     "data": {
      "text/plain": [
       "array(['커머스', '데이터', '홈페이지', '기타', '프로그램', '프로그래밍', '모바일', '디자인', '게임',\n",
       "       '기획', 'UnReal', '인공지능'], dtype=object)"
      ]
     },
     "execution_count": 192,
     "metadata": {},
     "output_type": "execute_result"
    }
   ],
   "source": [
    "df1['대분류'].unique()"
   ]
  },
  {
   "cell_type": "code",
   "execution_count": 195,
   "id": "2dc3d25d",
   "metadata": {},
   "outputs": [
    {
     "data": {
      "text/plain": [
       "array([  9800,      0,   9200, ..., 167200,  26620,  11410])"
      ]
     },
     "execution_count": 195,
     "metadata": {},
     "output_type": "execute_result"
    }
   ],
   "source": [
    "df1['추가결제금액'].unique()"
   ]
  },
  {
   "cell_type": "code",
   "execution_count": 198,
   "id": "09a58f6c",
   "metadata": {},
   "outputs": [
    {
     "data": {
      "text/plain": [
       "Index(['고객ID', '사용기기', '사용OS', '유입경로', '회원상태', '거주지', '연령', '성별', '서비스총구매수',\n",
       "       '총구매금액', '총수정요청수', '총추가결제금액'],\n",
       "      dtype='object')"
      ]
     },
     "execution_count": 198,
     "metadata": {},
     "output_type": "execute_result"
    }
   ],
   "source": [
    "df_custom.columns"
   ]
  },
  {
   "cell_type": "code",
   "execution_count": 200,
   "id": "2db4400b",
   "metadata": {},
   "outputs": [
    {
     "data": {
      "text/plain": [
       "회원상태\n",
       "정상회원     132505\n",
       "탈퇴         4803\n",
       "탈퇴처리중       218\n",
       "Name: count, dtype: int64"
      ]
     },
     "execution_count": 200,
     "metadata": {},
     "output_type": "execute_result"
    }
   ],
   "source": [
    "df_custom['회원상태'].value_counts()"
   ]
  },
  {
   "cell_type": "code",
   "execution_count": 202,
   "id": "3e57e811",
   "metadata": {},
   "outputs": [
    {
     "data": {
      "text/plain": [
       "3.6509460029376264"
      ]
     },
     "execution_count": 202,
     "metadata": {},
     "output_type": "execute_result"
    }
   ],
   "source": [
    "(4803+218)/(132505+4803+218)*100"
   ]
  },
  {
   "cell_type": "code",
   "execution_count": 205,
   "id": "3da9290f",
   "metadata": {},
   "outputs": [],
   "source": [
    "custom = df_custom[df_custom['회원상태']=='정상회원']\n",
    "out_custom = df_custom[df_custom['회원상태']!='정상회원']"
   ]
  },
  {
   "cell_type": "code",
   "execution_count": 218,
   "id": "0e936c5a",
   "metadata": {
    "collapsed": true
   },
   "outputs": [
    {
     "data": {
      "text/plain": [
       "총수정요청수\n",
       " 0.0      97415\n",
       " 1.0      18041\n",
       " 2.0       5311\n",
       "-1.0       4763\n",
       " 3.0       2485\n",
       " 4.0       1411\n",
       " 5.0        825\n",
       " 6.0        489\n",
       "-2.0        343\n",
       " 7.0        337\n",
       " 8.0        195\n",
       " 9.0        190\n",
       " 10.0       119\n",
       " 11.0        85\n",
       "-3.0         82\n",
       " 12.0        71\n",
       " 13.0        37\n",
       " 14.0        36\n",
       "-4.0         22\n",
       " 15.0        22\n",
       " 16.0        22\n",
       " 17.0        19\n",
       " 19.0        19\n",
       " 22.0        15\n",
       " 20.0        15\n",
       " 26.0        14\n",
       " 24.0        11\n",
       " 21.0        11\n",
       " 18.0        11\n",
       " 30.0        10\n",
       " 25.0         8\n",
       " 23.0         8\n",
       " 29.0         8\n",
       " 0.5          6\n",
       " 27.0         5\n",
       "-5.0          5\n",
       " 28.0         5\n",
       " 31.0         4\n",
       " 40.0         3\n",
       " 37.0         3\n",
       " 0.1          2\n",
       " 36.0         2\n",
       " 32.0         2\n",
       " 0.2          2\n",
       " 38.0         2\n",
       " 0.8          1\n",
       "-6.0          1\n",
       " 3.1          1\n",
       " 0.3          1\n",
       " 4.2          1\n",
       " 120.0        1\n",
       " 2.8          1\n",
       " 3.5          1\n",
       " 1.6          1\n",
       " 33.0         1\n",
       " 1.5          1\n",
       " 46.0         1\n",
       " 35.0         1\n",
       " 44.0         1\n",
       "Name: count, dtype: int64"
      ]
     },
     "execution_count": 218,
     "metadata": {},
     "output_type": "execute_result"
    }
   ],
   "source": [
    "custom['총수정요청수'].value_counts()"
   ]
  },
  {
   "cell_type": "code",
   "execution_count": 219,
   "id": "e3359c2e",
   "metadata": {
    "collapsed": true
   },
   "outputs": [
    {
     "data": {
      "text/plain": [
       "총수정요청수\n",
       " 0.0     3687\n",
       " 1.0      687\n",
       " 2.0      214\n",
       "-1.0      192\n",
       " 3.0       90\n",
       " 4.0       52\n",
       " 5.0       25\n",
       " 6.0       13\n",
       "-2.0       12\n",
       " 7.0       11\n",
       " 8.0       10\n",
       " 10.0       6\n",
       "-3.0        4\n",
       " 11.0       3\n",
       " 20.0       2\n",
       " 13.0       2\n",
       " 9.0        2\n",
       " 27.0       1\n",
       " 21.0       1\n",
       "-0.9        1\n",
       " 18.0       1\n",
       " 16.0       1\n",
       " 19.0       1\n",
       " 12.0       1\n",
       " 28.0       1\n",
       " 14.0       1\n",
       "Name: count, dtype: int64"
      ]
     },
     "execution_count": 219,
     "metadata": {},
     "output_type": "execute_result"
    }
   ],
   "source": [
    "out_custom['총수정요청수'].value_counts()"
   ]
  },
  {
   "cell_type": "code",
   "execution_count": 220,
   "id": "17a4d2b4",
   "metadata": {
    "collapsed": true
   },
   "outputs": [
    {
     "data": {
      "text/html": [
       "<div>\n",
       "<style scoped>\n",
       "    .dataframe tbody tr th:only-of-type {\n",
       "        vertical-align: middle;\n",
       "    }\n",
       "\n",
       "    .dataframe tbody tr th {\n",
       "        vertical-align: top;\n",
       "    }\n",
       "\n",
       "    .dataframe thead th {\n",
       "        text-align: right;\n",
       "    }\n",
       "</style>\n",
       "<table border=\"1\" class=\"dataframe\">\n",
       "  <thead>\n",
       "    <tr style=\"text-align: right;\">\n",
       "      <th></th>\n",
       "      <th>판매자ID</th>\n",
       "      <th>판매자</th>\n",
       "      <th>판매 서비스 수</th>\n",
       "      <th>총 판매 금액</th>\n",
       "      <th>프리미엄 서비스 가입여부</th>\n",
       "      <th>신속 알람 서비스 사용여부</th>\n",
       "    </tr>\n",
       "  </thead>\n",
       "  <tbody>\n",
       "    <tr>\n",
       "      <th>0</th>\n",
       "      <td>V2_0</td>\n",
       "      <td>김러그</td>\n",
       "      <td>326</td>\n",
       "      <td>147927420</td>\n",
       "      <td>가입</td>\n",
       "      <td>미사용</td>\n",
       "    </tr>\n",
       "    <tr>\n",
       "      <th>1</th>\n",
       "      <td>V2_1</td>\n",
       "      <td>디프라이</td>\n",
       "      <td>43</td>\n",
       "      <td>146832200</td>\n",
       "      <td>가입</td>\n",
       "      <td>미사용</td>\n",
       "    </tr>\n",
       "    <tr>\n",
       "      <th>2</th>\n",
       "      <td>V2_2</td>\n",
       "      <td>Sailorkr</td>\n",
       "      <td>14</td>\n",
       "      <td>140029000</td>\n",
       "      <td>가입</td>\n",
       "      <td>미사용</td>\n",
       "    </tr>\n",
       "    <tr>\n",
       "      <th>3</th>\n",
       "      <td>V2_3</td>\n",
       "      <td>신뢰할만한지식인65</td>\n",
       "      <td>16</td>\n",
       "      <td>130713200</td>\n",
       "      <td>가입</td>\n",
       "      <td>미사용</td>\n",
       "    </tr>\n",
       "    <tr>\n",
       "      <th>4</th>\n",
       "      <td>V2_4</td>\n",
       "      <td>에픽핫</td>\n",
       "      <td>18</td>\n",
       "      <td>126229400</td>\n",
       "      <td>가입</td>\n",
       "      <td>미사용</td>\n",
       "    </tr>\n",
       "    <tr>\n",
       "      <th>...</th>\n",
       "      <td>...</td>\n",
       "      <td>...</td>\n",
       "      <td>...</td>\n",
       "      <td>...</td>\n",
       "      <td>...</td>\n",
       "      <td>...</td>\n",
       "    </tr>\n",
       "    <tr>\n",
       "      <th>2061</th>\n",
       "      <td>V2_2061</td>\n",
       "      <td>web3expert</td>\n",
       "      <td>1</td>\n",
       "      <td>7800</td>\n",
       "      <td>미가입</td>\n",
       "      <td>미사용</td>\n",
       "    </tr>\n",
       "    <tr>\n",
       "      <th>2062</th>\n",
       "      <td>V2_2062</td>\n",
       "      <td>enos</td>\n",
       "      <td>2</td>\n",
       "      <td>6950</td>\n",
       "      <td>미가입</td>\n",
       "      <td>미사용</td>\n",
       "    </tr>\n",
       "    <tr>\n",
       "      <th>2063</th>\n",
       "      <td>V2_2063</td>\n",
       "      <td>K9027456501</td>\n",
       "      <td>1</td>\n",
       "      <td>5000</td>\n",
       "      <td>미가입</td>\n",
       "      <td>미사용</td>\n",
       "    </tr>\n",
       "    <tr>\n",
       "      <th>2064</th>\n",
       "      <td>V2_2064</td>\n",
       "      <td>승쿠딩</td>\n",
       "      <td>1</td>\n",
       "      <td>5000</td>\n",
       "      <td>가입</td>\n",
       "      <td>미사용</td>\n",
       "    </tr>\n",
       "    <tr>\n",
       "      <th>2065</th>\n",
       "      <td>V2_2065</td>\n",
       "      <td>저돌적인미니</td>\n",
       "      <td>1</td>\n",
       "      <td>5000</td>\n",
       "      <td>가입</td>\n",
       "      <td>미사용</td>\n",
       "    </tr>\n",
       "  </tbody>\n",
       "</table>\n",
       "<p>2066 rows × 6 columns</p>\n",
       "</div>"
      ],
      "text/plain": [
       "        판매자ID          판매자  판매 서비스 수    총 판매 금액 프리미엄 서비스 가입여부 신속 알람 서비스 사용여부\n",
       "0        V2_0          김러그       326  147927420            가입            미사용\n",
       "1        V2_1         디프라이        43  146832200            가입            미사용\n",
       "2        V2_2     Sailorkr        14  140029000            가입            미사용\n",
       "3        V2_3   신뢰할만한지식인65        16  130713200            가입            미사용\n",
       "4        V2_4          에픽핫        18  126229400            가입            미사용\n",
       "...       ...          ...       ...        ...           ...            ...\n",
       "2061  V2_2061   web3expert         1       7800           미가입            미사용\n",
       "2062  V2_2062         enos         2       6950           미가입            미사용\n",
       "2063  V2_2063  K9027456501         1       5000           미가입            미사용\n",
       "2064  V2_2064          승쿠딩         1       5000            가입            미사용\n",
       "2065  V2_2065       저돌적인미니         1       5000            가입            미사용\n",
       "\n",
       "[2066 rows x 6 columns]"
      ]
     },
     "execution_count": 220,
     "metadata": {},
     "output_type": "execute_result"
    }
   ],
   "source": [
    "df_expert"
   ]
  },
  {
   "cell_type": "code",
   "execution_count": 13,
   "id": "683a8eb5",
   "metadata": {},
   "outputs": [
    {
     "data": {
      "text/plain": [
       "array(['카페24,고도몰,메이크샵등 쇼핑몰 수정,코딩,유지보수', '엑셀 VBA, 매크로, ERP 프로그램 개발해 드립니다.',\n",
       "       '엑셀을 이용 서식과 집계, 분석 및 VBA 프로그래밍', '카페24 쇼핑몰 수정 유지보수 제작 기능개선 오류개선',\n",
       "       '카페24 쇼핑몰 수정 및 개선작업 해 드립니다.', '리눅스 서버 기술지원 서버이전 SSL 장애처리',\n",
       "       '워드프레스 홈페이지 수정, 오류 해결, 기능 추가', '쎈스있는 카페24 수정유지보수 리뉴얼 코딩 해드립니다.',\n",
       "       '고도몰5 전문 튜닝 친절한 상담과 깔끔한 작업 진행해 드립니다.',\n",
       "       '알고리즘 자료구조 등 프로그램 제작해 드립니다.', '웹사이트에 기능추가, 기능수정, 오류수정 해드립니다.',\n",
       "       '주말작업가능 24시상담 쇼핑몰 상품등록,배너제작 해 드립니다.',\n",
       "       '퍼블리싱 작업 html, css, jquery 작업해 드립니다.', '워드프레스 홈페이지 개선해 드립니다.',\n",
       "       '카페24cafe24 꼼꼼하게 리뉴얼 유지보수 수정해 드립니다.',\n",
       "       '홈페이지 퍼블리싱 html css 웹표준 맞춰 작업해 드립니다.',\n",
       "       '크롤링 , 크롤러 , 파싱 , 파싱기 맞춤 제작해 드립니다.',\n",
       "       'PHP, 그누보드, 영카트, 고도몰, 카페24 등 개발, 코딩해 드립니다.',\n",
       "       'R을 활용한 데이터 분석 도와 드립니다.', '웹사이트 기능추가, 오류수정 개발 작업해 드립니다.',\n",
       "       'HTML, PHP 홈페이지 수정해 드립니다.', '카페24,메이크샵,고도몰,기타홈페이지 수정,코딩해 드립니다.',\n",
       "       'PHP 개발 및 그누보드 셋팅 및 수정 도와 드립니다.', '간단한 아두이노 장치 제작해 드립니다.',\n",
       "       '프로그램 그까이꺼 원하는 대로 만들어 드립니다.', '홈페이지 유지 보수 해 드립니다.',\n",
       "       '안드로이드 앱 개발해 드립니다.', '이미지를 디자인파일 ai 벡터로 제작해 드립니다.',\n",
       "       'PHP 웹 사이트 유지보수 도와 드립니다.', '페이스북 픽셀 설치 도와 드립니다.',\n",
       "       '워드프레스 테마플러그인 수정 및 오류 해결해 드립니다.', '엑셀 수식, VBA 매크로 해결해 드립니다.',\n",
       "       '그누보드, 영카트 웹 사이트 수정 및 유지보수 해드려요', '웹사이트의 페이지, 기능을 수정 및 추가해 드립니다.',\n",
       "       '카페24 유지보수 수정 기능 추가해 드립니다.', '고퀄리티 반응형 홈페이지를 드립니다.',\n",
       "       '자료구조 및 알고리즘 구현 제작하고 설명해 드립니다.', '크롤링, 데이터 수집, 각종 프로그램 제작해 드립니다.',\n",
       "       'php 홈페이지 기능추가 및 수정작업해 드립니다.', '구글 GA 구글 애널리틱스 설치 도와 드립니다.',\n",
       "       '각종 프로그램 개발 해 드립니다.', '숨은 데이터까지 크롤링해 드립니다.',\n",
       "       '엑셀관련 업무용 프로그램을 맞춤형으로 개발', '카페24 메이크샵 유지보수 및 수정 메뉴얼 제공해 드립니다.',\n",
       "       'Linux 기술지원 해 드립니다.', '웹사이트 매크로 자동화 프로그램 제작해 드립니다.',\n",
       "       'Android iOS 하이브리드앱 패키징', '사람 일을 대신하는 메크로 프로그램 개발해 드립니다.',\n",
       "       '퍼블리싱 반응형 빠르고 정확한 제작 해 드립니다.', '디자인 파일을 주시면 퍼블리싱해 드립니다.',\n",
       "       '높은 눈높이에 맞춰 고퀄리티 홈페이지 제작해드립니다', 'PHP Codeigniter 웹사이트 수정해 드립니다.',\n",
       "       '퍼블리싱 HTML, CSS, JS, jQuery 코딩해 드립니다.',\n",
       "       'PHP JSP 웹사이트 기능개선 및 수정해드립니다',\n",
       "       'MS오피스 엑셀기반 엑세스 DB 연동 솔루션 제작하여 드립니다.',\n",
       "       '데이터분석 및 ML/DL 모델링 도와 드립니다.', 'Python으로 업무효율화 프로그램 제작해 드립니다.',\n",
       "       '아임웹 하단에 위로 바로 올라가는 버튼 만들어 드립니다.', '1일이내 작업가능 웹퍼블리싱 작업해 드립니다.',\n",
       "       '윅스WIX 빠르고 깔끔하게 만들어 드립니다.', '컴퓨터 윈도우 오류 원격 해결 및 수리',\n",
       "       '홈페이지 유지보수 해 드립니다.', 'PHP 웹사이트 수정해 드립니다.',\n",
       "       '올바르게 워드프레스 웹사이트를 옮겨 드립니다.', 'PHP/HTML 기반 사이트 유지보수 작업해 드립니다.',\n",
       "       '픽셀,퍼포먼스 마케터가 진단하고 풀스택 개발자가 설치해 드립니다.',\n",
       "       '카페24쇼핑몰 수정, 추가, 소셜로그인, 기능추가', '빠르고 완성도 있는 웹퍼블리싱 만들어 드립니다.',\n",
       "       '홈페이지끝판왕 카페24 cafe24 디자인수정 기능개선', '카페24,고도몰,메이크샵,모든쇼핑몰 수정,오류,문제해결',\n",
       "       '아마존 웹 서비스 AWS 에 관련된 모든것을 도와 드립니다.', '엑셀, 워드, 문서작업 도와 드립니다.',\n",
       "       '카페24 쇼핑몰 웹 퍼블리싱 및 JS 프론트앤드 개발',\n",
       "       '생산,재고,급여,데이터 엑셀화로 업무의 효율을 높여 드립니다.',\n",
       "       '웹상의 정보를 수집해 드리거나 수집 프로그램 제작 드립니다.', 'VBA 프로그램 , 엑셀 매크로 제작해 드립니다.',\n",
       "       '카페24,그누보드,영카트 홈페이지 제작 수정 유지보수해 드립니다.',\n",
       "       '퀄리티 높은 modoo 모두 홈페이지 제작해 드립니다.',\n",
       "       'HTML CSS 저렴한 가격으로 홈페이지 수정해 드립니다.', '카페24 쇼핑몰 수정 및 작업 서비스',\n",
       "       '어떤 웹페이지든 고쳐 드립니다.', '17년경력 VBA 이용하여 매크로 레포트 등 만들어 드립니다.',\n",
       "       '구글애널리틱스 ga 이론부터 8가지 분석법까지 드립니다.', '깔끔하고 맛있는 코딩 홈페이지 웹퍼블리싱해 드립니다.',\n",
       "       'JSP,PHP,HTML 간단한 소스코드 수정, 제작해 드립니다.',\n",
       "       '트레이딩뷰 파인스크립트 보조지표 제작해 드립니다.', '반응형퍼블리싱 전문가 최적의 작업물을 약속드립니다.',\n",
       "       '바른 워드프레스 설치와 함께 입문을 도와 드립니다.', '페이스북 픽셀 설치해 드립니다.',\n",
       "       '홈페이지 및 쇼핑몰 수정해 드립니다.', '웹모바일 웹반응형 퍼블리싱해 드립니다.',\n",
       "       '웹크롤링 자동화 크롤러 프로그램 시원하게 만들어 드립니다.',\n",
       "       '포털 사이트 키워드 검색량 일별로 추출 및 분석해 드립니다.', '카페24 쇼핑몰 수정해 드립니다.',\n",
       "       '눈에 보이는 웹 데이터 크롤러 제작해 드립니다.', '웹 페이지의 모든 업무를 매크로로 제작해 드립니다',\n",
       "       '하이브리드 앱, 앱 패키징 작업해 드립니다.', '뜯어보면서 공부할 수 있는 게임 기능을 만들어드립니다.',\n",
       "       '인터넷 데이터를 수집해드립니다. 웹데이터 크롤링', '프로그램 빠르게 개발해 드립니다.'], dtype=object)"
      ]
     },
     "execution_count": 13,
     "metadata": {},
     "output_type": "execute_result"
    }
   ],
   "source": [
    "df1['서비스명'].unique()[:100]"
   ]
  },
  {
   "cell_type": "markdown",
   "id": "0268ccec",
   "metadata": {},
   "source": [
    "# 3/25"
   ]
  },
  {
   "cell_type": "markdown",
   "id": "f0a27b1d",
   "metadata": {},
   "source": [
    "- 자사 대분류 별로 서비스 가격/ 건수 / 판매금액 다른지? 가설검정\n",
    "    - 대분류별 서비스 가격 - 평균, 분산 비교 / 거래수 비교 "
   ]
  },
  {
   "cell_type": "code",
   "execution_count": 21,
   "id": "7017f488",
   "metadata": {},
   "outputs": [],
   "source": [
    "df = pd.read_csv('log_refund.csv')"
   ]
  },
  {
   "cell_type": "code",
   "execution_count": 5,
   "id": "172fcd1c",
   "metadata": {
    "collapsed": true
   },
   "outputs": [
    {
     "data": {
      "text/plain": [
       "Index(['Unnamed: 0', '거래일자', '수수료율', '고객ID', '프로그램수정횟수', '추가결제금액', '거래취소여부',\n",
       "       '거래취소일자', '서비스명', '판매자', '판매금액', '서비스가격', '평점', '이용자수', '대분류', '서비스번호',\n",
       "       '환불유무'],\n",
       "      dtype='object')"
      ]
     },
     "execution_count": 5,
     "metadata": {},
     "output_type": "execute_result"
    }
   ],
   "source": [
    "df.columns"
   ]
  },
  {
   "cell_type": "code",
   "execution_count": 22,
   "id": "16e4ee08",
   "metadata": {},
   "outputs": [],
   "source": [
    "df1 = df[(df['환불유무']==0)]"
   ]
  },
  {
   "cell_type": "markdown",
   "id": "53aeb71e",
   "metadata": {},
   "source": [
    "- 대분류별로 서비스 가격에 차이가 있는가\n",
    "    - (1) 평균에 차이가 있는가\n",
    "    - (2) 분산에 차이가 있는가"
   ]
  },
  {
   "cell_type": "code",
   "execution_count": 11,
   "id": "e8b8f109",
   "metadata": {
    "collapsed": true
   },
   "outputs": [
    {
     "data": {
      "text/plain": [
       "Index(['Unnamed: 0', '거래일자', '수수료율', '고객ID', '프로그램수정횟수', '추가결제금액', '거래취소여부',\n",
       "       '거래취소일자', '서비스명', '판매자', '판매금액', '서비스가격', '평점', '이용자수', '대분류', '서비스번호',\n",
       "       '환불유무'],\n",
       "      dtype='object')"
      ]
     },
     "execution_count": 11,
     "metadata": {},
     "output_type": "execute_result"
    }
   ],
   "source": [
    "df1.columns"
   ]
  },
  {
   "cell_type": "markdown",
   "id": "8c462197",
   "metadata": {},
   "source": [
    "대분류에 따른 서비스 가격의 평균의 차이가 있는가"
   ]
  },
  {
   "cell_type": "code",
   "execution_count": 23,
   "id": "fe2cbff6",
   "metadata": {},
   "outputs": [
    {
     "data": {
      "text/plain": [
       "array(['커머스', '데이터', '홈페이지', '기타', '프로그램', '프로그래밍', '모바일', '디자인', '게임',\n",
       "       '기획', 'UnReal', '인공지능', nan], dtype=object)"
      ]
     },
     "execution_count": 23,
     "metadata": {},
     "output_type": "execute_result"
    }
   ],
   "source": [
    "df1['대분류'].unique()"
   ]
  },
  {
   "cell_type": "code",
   "execution_count": 24,
   "id": "0390c8b4",
   "metadata": {},
   "outputs": [],
   "source": [
    "df1 = df1.dropna(subset=['대분류'])"
   ]
  },
  {
   "cell_type": "code",
   "execution_count": 27,
   "id": "564ea158",
   "metadata": {},
   "outputs": [
    {
     "data": {
      "text/plain": [
       "0"
      ]
     },
     "execution_count": 27,
     "metadata": {},
     "output_type": "execute_result"
    }
   ],
   "source": [
    "# 대분류가 결측값인 행 21개 제거\n",
    "df1['대분류'].isnull().sum()"
   ]
  },
  {
   "cell_type": "code",
   "execution_count": 35,
   "id": "dd03fa21",
   "metadata": {},
   "outputs": [],
   "source": [
    "import scipy.stats as stats"
   ]
  },
  {
   "cell_type": "code",
   "execution_count": 28,
   "id": "d5ab971d",
   "metadata": {},
   "outputs": [],
   "source": [
    "df1_1 = df1[df1['대분류']=='커머스']\n",
    "df1_2 = df1[df1['대분류']=='데이터']\n",
    "df1_3= df1[df1['대분류']=='홈페이지']\n",
    "df1_4= df1[df1['대분류']=='기타']\n",
    "df1_5= df1[df1['대분류']=='프로그램']\n",
    "df1_6= df1[df1['대분류']=='프로그래밍']\n",
    "df1_7= df1[df1['대분류']=='모바일']\n",
    "df1_8= df1[df1['대분류']=='디자인']\n",
    "df1_9= df1[df1['대분류']=='게임']\n",
    "df1_10= df1[df1['대분류']=='기획']\n",
    "df1_11= df1[df1['대분류']=='UnReal']\n",
    "df1_12= df1[df1['대분류']=='인공지능']"
   ]
  },
  {
   "cell_type": "code",
   "execution_count": 37,
   "id": "b7226aec",
   "metadata": {},
   "outputs": [
    {
     "name": "stdout",
     "output_type": "stream",
     "text": [
      "NormaltestResult(statistic=35449.14277673313, pvalue=0.0)\n",
      "NormaltestResult(statistic=191126.58968681225, pvalue=0.0)\n",
      "NormaltestResult(statistic=247320.88944120827, pvalue=0.0)\n",
      "NormaltestResult(statistic=101296.03392496236, pvalue=0.0)\n",
      "NormaltestResult(statistic=53341.80828076968, pvalue=0.0)\n",
      "NormaltestResult(statistic=100190.94054298756, pvalue=0.0)\n",
      "NormaltestResult(statistic=29132.277113517324, pvalue=0.0)\n",
      "NormaltestResult(statistic=5776.350867895801, pvalue=0.0)\n",
      "NormaltestResult(statistic=4532.90416993894, pvalue=0.0)\n",
      "NormaltestResult(statistic=4548.189683456983, pvalue=0.0)\n",
      "NormaltestResult(statistic=566.6765638809154, pvalue=8.866406555150602e-124)\n",
      "NormaltestResult(statistic=620.441171918606, pvalue=1.8746117942009836e-135)\n"
     ]
    }
   ],
   "source": [
    "# 정규분포를 따르는가?\n",
    "# 귀무 : 정규성을 따른다\n",
    "# 대립 : 정규성을 따르지 않는다 \n",
    "print(stats.normaltest(df1_1['서비스가격']))\n",
    "print(stats.normaltest(df1_2['서비스가격']))\n",
    "print(stats.normaltest(df1_3['서비스가격']))\n",
    "print(stats.normaltest(df1_4['서비스가격']))\n",
    "print(stats.normaltest(df1_5['서비스가격']))\n",
    "print(stats.normaltest(df1_6['서비스가격']))\n",
    "print(stats.normaltest(df1_7['서비스가격']))\n",
    "print(stats.normaltest(df1_8['서비스가격']))\n",
    "print(stats.normaltest(df1_9['서비스가격']))\n",
    "print(stats.normaltest(df1_10['서비스가격']))\n",
    "print(stats.normaltest(df1_11['서비스가격']))\n",
    "print(stats.normaltest(df1_12['서비스가격']))\n",
    "\n",
    "# 정규분포를 따르지 않는다"
   ]
  },
  {
   "cell_type": "code",
   "execution_count": 38,
   "id": "bbb8069c",
   "metadata": {},
   "outputs": [],
   "source": [
    "from scipy.stats import kruskal"
   ]
  },
  {
   "cell_type": "code",
   "execution_count": 42,
   "id": "34ae7c81",
   "metadata": {},
   "outputs": [
    {
     "data": {
      "text/plain": [
       "KruskalResult(statistic=46649.09759770287, pvalue=0.0)"
      ]
     },
     "execution_count": 42,
     "metadata": {},
     "output_type": "execute_result"
    }
   ],
   "source": [
    "# 귀무가설 : 대분류에 따른 서비스 가격의 평균은 차이가 없다\n",
    "# 대립가설 : 대분류에 따른 서비스 가격의 평균은 차이가 있다\n",
    "dfs_by_category = [df1_1, df1_2, df1_3, df1_4, df1_5, df1_6, df1_7, df1_8, df1_9, df1_10, df1_11, df1_12]\n",
    "kruskal(*[df['서비스가격'] for df in dfs_by_category])\n",
    "# 대립가설 : 대분류에 따른 서비스 가격의 평균은 차이가 있다"
   ]
  },
  {
   "cell_type": "markdown",
   "id": "15aaa891",
   "metadata": {},
   "source": [
    "분산에 차이가 있는가"
   ]
  },
  {
   "cell_type": "code",
   "execution_count": 43,
   "id": "7b658e25",
   "metadata": {},
   "outputs": [],
   "source": [
    "from scipy.stats import levene"
   ]
  },
  {
   "cell_type": "code",
   "execution_count": 44,
   "id": "8cf6180a",
   "metadata": {},
   "outputs": [
    {
     "data": {
      "text/plain": [
       "LeveneResult(statistic=406.13697176651596, pvalue=0.0)"
      ]
     },
     "execution_count": 44,
     "metadata": {},
     "output_type": "execute_result"
    }
   ],
   "source": [
    "levene(*[df['서비스가격'] for df in dfs_by_category])\n",
    "# 분산에 차이 있음"
   ]
  },
  {
   "cell_type": "markdown",
   "id": "bf9c003d",
   "metadata": {},
   "source": [
    "대분류에 따른 건수에 차이가 있는가"
   ]
  },
  {
   "cell_type": "code",
   "execution_count": 46,
   "id": "7014ddec",
   "metadata": {},
   "outputs": [],
   "source": [
    "from scipy.stats import chi2_contingency"
   ]
  },
  {
   "cell_type": "code",
   "execution_count": 50,
   "id": "de58e436",
   "metadata": {
    "collapsed": true
   },
   "outputs": [
    {
     "data": {
      "text/html": [
       "<div>\n",
       "<style scoped>\n",
       "    .dataframe tbody tr th:only-of-type {\n",
       "        vertical-align: middle;\n",
       "    }\n",
       "\n",
       "    .dataframe tbody tr th {\n",
       "        vertical-align: top;\n",
       "    }\n",
       "\n",
       "    .dataframe thead th {\n",
       "        text-align: right;\n",
       "    }\n",
       "</style>\n",
       "<table border=\"1\" class=\"dataframe\">\n",
       "  <thead>\n",
       "    <tr style=\"text-align: right;\">\n",
       "      <th></th>\n",
       "      <th>대분류</th>\n",
       "      <th>count</th>\n",
       "    </tr>\n",
       "  </thead>\n",
       "  <tbody>\n",
       "    <tr>\n",
       "      <th>0</th>\n",
       "      <td>UnReal</td>\n",
       "      <td>695</td>\n",
       "    </tr>\n",
       "    <tr>\n",
       "      <th>1</th>\n",
       "      <td>게임</td>\n",
       "      <td>2995</td>\n",
       "    </tr>\n",
       "    <tr>\n",
       "      <th>2</th>\n",
       "      <td>기타</td>\n",
       "      <td>44008</td>\n",
       "    </tr>\n",
       "    <tr>\n",
       "      <th>3</th>\n",
       "      <td>기획</td>\n",
       "      <td>3846</td>\n",
       "    </tr>\n",
       "    <tr>\n",
       "      <th>4</th>\n",
       "      <td>데이터</td>\n",
       "      <td>60319</td>\n",
       "    </tr>\n",
       "    <tr>\n",
       "      <th>5</th>\n",
       "      <td>디자인</td>\n",
       "      <td>4055</td>\n",
       "    </tr>\n",
       "    <tr>\n",
       "      <th>6</th>\n",
       "      <td>모바일</td>\n",
       "      <td>15636</td>\n",
       "    </tr>\n",
       "    <tr>\n",
       "      <th>7</th>\n",
       "      <td>인공지능</td>\n",
       "      <td>1370</td>\n",
       "    </tr>\n",
       "    <tr>\n",
       "      <th>8</th>\n",
       "      <td>커머스</td>\n",
       "      <td>26311</td>\n",
       "    </tr>\n",
       "    <tr>\n",
       "      <th>9</th>\n",
       "      <td>프로그래밍</td>\n",
       "      <td>32032</td>\n",
       "    </tr>\n",
       "    <tr>\n",
       "      <th>10</th>\n",
       "      <td>프로그램</td>\n",
       "      <td>24182</td>\n",
       "    </tr>\n",
       "    <tr>\n",
       "      <th>11</th>\n",
       "      <td>홈페이지</td>\n",
       "      <td>121085</td>\n",
       "    </tr>\n",
       "  </tbody>\n",
       "</table>\n",
       "</div>"
      ],
      "text/plain": [
       "       대분류   count\n",
       "0   UnReal     695\n",
       "1       게임    2995\n",
       "2       기타   44008\n",
       "3       기획    3846\n",
       "4      데이터   60319\n",
       "5      디자인    4055\n",
       "6      모바일   15636\n",
       "7     인공지능    1370\n",
       "8      커머스   26311\n",
       "9    프로그래밍   32032\n",
       "10    프로그램   24182\n",
       "11    홈페이지  121085"
      ]
     },
     "execution_count": 50,
     "metadata": {},
     "output_type": "execute_result"
    }
   ],
   "source": [
    "pivot_table = df1.groupby('대분류').size().reset_index(name='count')\n",
    "# 대분류별 거래 건수 카운트\n",
    "pivot_table"
   ]
  },
  {
   "cell_type": "code",
   "execution_count": 47,
   "id": "058e327c",
   "metadata": {
    "collapsed": true
   },
   "outputs": [
    {
     "data": {
      "text/plain": [
       "Chi2ContingencyResult(statistic=0.0, pvalue=1.0, dof=0, expected_freq=array([[   695.],\n",
       "       [  2995.],\n",
       "       [ 44008.],\n",
       "       [  3846.],\n",
       "       [ 60319.],\n",
       "       [  4055.],\n",
       "       [ 15636.],\n",
       "       [  1370.],\n",
       "       [ 26311.],\n",
       "       [ 32032.],\n",
       "       [ 24182.],\n",
       "       [121085.]]))"
      ]
     },
     "execution_count": 47,
     "metadata": {},
     "output_type": "execute_result"
    }
   ],
   "source": [
    "chi2_contingency(pivot_table['count'].values.reshape(-1, 1))\n",
    "# 건수에는 차이 x"
   ]
  },
  {
   "cell_type": "markdown",
   "id": "ef22a533",
   "metadata": {},
   "source": [
    "판매금액에 차이가 있는가"
   ]
  },
  {
   "cell_type": "code",
   "execution_count": 48,
   "id": "da677136",
   "metadata": {
    "collapsed": true
   },
   "outputs": [
    {
     "name": "stdout",
     "output_type": "stream",
     "text": [
      "NormaltestResult(statistic=35350.26189117559, pvalue=0.0)\n",
      "NormaltestResult(statistic=190641.53401586437, pvalue=0.0)\n",
      "NormaltestResult(statistic=246859.3615164061, pvalue=0.0)\n",
      "NormaltestResult(statistic=101101.85513992024, pvalue=0.0)\n",
      "NormaltestResult(statistic=53258.18239410926, pvalue=0.0)\n",
      "NormaltestResult(statistic=100155.62635878232, pvalue=0.0)\n",
      "NormaltestResult(statistic=29133.735757707072, pvalue=0.0)\n",
      "NormaltestResult(statistic=5777.183719411509, pvalue=0.0)\n",
      "NormaltestResult(statistic=4529.3369393818, pvalue=0.0)\n",
      "NormaltestResult(statistic=4538.8969401331315, pvalue=0.0)\n",
      "NormaltestResult(statistic=566.2532469878136, pvalue=1.0956446860025131e-123)\n",
      "NormaltestResult(statistic=611.4186086909815, pvalue=1.7066169561740491e-133)\n"
     ]
    }
   ],
   "source": [
    "# 정규분포를 따르는가?\n",
    "# 귀무 : 정규성을 따른다\n",
    "# 대립 : 정규성을 따르지 않는다 \n",
    "print(stats.normaltest(df1_1['판매금액']))\n",
    "print(stats.normaltest(df1_2['판매금액']))\n",
    "print(stats.normaltest(df1_3['판매금액']))\n",
    "print(stats.normaltest(df1_4['판매금액']))\n",
    "print(stats.normaltest(df1_5['판매금액']))\n",
    "print(stats.normaltest(df1_6['판매금액']))\n",
    "print(stats.normaltest(df1_7['판매금액']))\n",
    "print(stats.normaltest(df1_8['판매금액']))\n",
    "print(stats.normaltest(df1_9['판매금액']))\n",
    "print(stats.normaltest(df1_10['판매금액']))\n",
    "print(stats.normaltest(df1_11['판매금액']))\n",
    "print(stats.normaltest(df1_12['판매금액']))\n",
    "\n",
    "# 정규분포를 따르지 않는다"
   ]
  },
  {
   "cell_type": "code",
   "execution_count": 49,
   "id": "00d814fe",
   "metadata": {},
   "outputs": [
    {
     "data": {
      "text/plain": [
       "KruskalResult(statistic=41395.08676456532, pvalue=0.0)"
      ]
     },
     "execution_count": 49,
     "metadata": {},
     "output_type": "execute_result"
    }
   ],
   "source": [
    "dfs_by_category = [df1_1, df1_2, df1_3, df1_4, df1_5, df1_6, df1_7, df1_8, df1_9, df1_10, df1_11, df1_12]\n",
    "kruskal(*[df['판매금액'] for df in dfs_by_category])\n",
    "# 대립가설 : 대분류에 따른 판매금액은 차이가 있다"
   ]
  },
  {
   "cell_type": "code",
   "execution_count": 54,
   "id": "265b1cc8",
   "metadata": {},
   "outputs": [
    {
     "data": {
      "text/plain": [
       "0         커머스\n",
       "1         커머스\n",
       "2         데이터\n",
       "3         데이터\n",
       "4         데이터\n",
       "         ... \n",
       "344294    데이터\n",
       "344295    데이터\n",
       "344296    데이터\n",
       "344297    데이터\n",
       "344298    데이터\n",
       "Name: 대분류, Length: 336534, dtype: object"
      ]
     },
     "execution_count": 54,
     "metadata": {},
     "output_type": "execute_result"
    }
   ],
   "source": [
    "df1['대분류']"
   ]
  },
  {
   "cell_type": "code",
   "execution_count": 57,
   "id": "bbbad06e",
   "metadata": {},
   "outputs": [
    {
     "data": {
      "text/plain": [
       "396"
      ]
     },
     "execution_count": 57,
     "metadata": {},
     "output_type": "execute_result"
    }
   ],
   "source": [
    "len(df1[df1['서비스번호']==2102])"
   ]
  },
  {
   "cell_type": "code",
   "execution_count": 58,
   "id": "8632c309",
   "metadata": {},
   "outputs": [
    {
     "data": {
      "text/html": [
       "<div>\n",
       "<style scoped>\n",
       "    .dataframe tbody tr th:only-of-type {\n",
       "        vertical-align: middle;\n",
       "    }\n",
       "\n",
       "    .dataframe tbody tr th {\n",
       "        vertical-align: top;\n",
       "    }\n",
       "\n",
       "    .dataframe thead th {\n",
       "        text-align: right;\n",
       "    }\n",
       "</style>\n",
       "<table border=\"1\" class=\"dataframe\">\n",
       "  <thead>\n",
       "    <tr style=\"text-align: right;\">\n",
       "      <th></th>\n",
       "      <th>Unnamed: 0</th>\n",
       "      <th>거래일자</th>\n",
       "      <th>수수료율</th>\n",
       "      <th>고객ID</th>\n",
       "      <th>프로그램수정횟수</th>\n",
       "      <th>추가결제금액</th>\n",
       "      <th>거래취소여부</th>\n",
       "      <th>거래취소일자</th>\n",
       "      <th>서비스명</th>\n",
       "      <th>판매자</th>\n",
       "      <th>판매금액</th>\n",
       "      <th>서비스가격</th>\n",
       "      <th>평점</th>\n",
       "      <th>이용자수</th>\n",
       "      <th>대분류</th>\n",
       "      <th>서비스번호</th>\n",
       "      <th>환불유무</th>\n",
       "    </tr>\n",
       "  </thead>\n",
       "  <tbody>\n",
       "    <tr>\n",
       "      <th>0</th>\n",
       "      <td>0</td>\n",
       "      <td>20210201</td>\n",
       "      <td>6.5</td>\n",
       "      <td>5030100140</td>\n",
       "      <td>0.0</td>\n",
       "      <td>9800</td>\n",
       "      <td>NaN</td>\n",
       "      <td>NaN</td>\n",
       "      <td>카페24,고도몰,메이크샵등 쇼핑몰 수정,코딩,유지보수</td>\n",
       "      <td>logf1</td>\n",
       "      <td>14800.0</td>\n",
       "      <td>5000.0</td>\n",
       "      <td>5.0</td>\n",
       "      <td>584.0</td>\n",
       "      <td>커머스</td>\n",
       "      <td>2102.0</td>\n",
       "      <td>0</td>\n",
       "    </tr>\n",
       "    <tr>\n",
       "      <th>1</th>\n",
       "      <td>1</td>\n",
       "      <td>20210201</td>\n",
       "      <td>6.5</td>\n",
       "      <td>8020105385</td>\n",
       "      <td>0.0</td>\n",
       "      <td>0</td>\n",
       "      <td>NaN</td>\n",
       "      <td>NaN</td>\n",
       "      <td>카페24,고도몰,메이크샵등 쇼핑몰 수정,코딩,유지보수</td>\n",
       "      <td>logf1</td>\n",
       "      <td>5000.0</td>\n",
       "      <td>5000.0</td>\n",
       "      <td>5.0</td>\n",
       "      <td>584.0</td>\n",
       "      <td>커머스</td>\n",
       "      <td>2102.0</td>\n",
       "      <td>0</td>\n",
       "    </tr>\n",
       "    <tr>\n",
       "      <th>1905</th>\n",
       "      <td>1905</td>\n",
       "      <td>20210202</td>\n",
       "      <td>7.5</td>\n",
       "      <td>5019822311</td>\n",
       "      <td>0.0</td>\n",
       "      <td>0</td>\n",
       "      <td>NaN</td>\n",
       "      <td>NaN</td>\n",
       "      <td>카페24,고도몰,메이크샵등 쇼핑몰 수정,코딩,유지보수</td>\n",
       "      <td>logf1</td>\n",
       "      <td>5000.0</td>\n",
       "      <td>5000.0</td>\n",
       "      <td>5.0</td>\n",
       "      <td>584.0</td>\n",
       "      <td>커머스</td>\n",
       "      <td>2102.0</td>\n",
       "      <td>0</td>\n",
       "    </tr>\n",
       "    <tr>\n",
       "      <th>1906</th>\n",
       "      <td>1906</td>\n",
       "      <td>20210202</td>\n",
       "      <td>7.5</td>\n",
       "      <td>5030300449</td>\n",
       "      <td>0.0</td>\n",
       "      <td>0</td>\n",
       "      <td>NaN</td>\n",
       "      <td>NaN</td>\n",
       "      <td>카페24,고도몰,메이크샵등 쇼핑몰 수정,코딩,유지보수</td>\n",
       "      <td>logf1</td>\n",
       "      <td>5000.0</td>\n",
       "      <td>5000.0</td>\n",
       "      <td>5.0</td>\n",
       "      <td>584.0</td>\n",
       "      <td>커머스</td>\n",
       "      <td>2102.0</td>\n",
       "      <td>0</td>\n",
       "    </tr>\n",
       "    <tr>\n",
       "      <th>1907</th>\n",
       "      <td>1907</td>\n",
       "      <td>20210202</td>\n",
       "      <td>9.0</td>\n",
       "      <td>5070500573</td>\n",
       "      <td>0.0</td>\n",
       "      <td>0</td>\n",
       "      <td>NaN</td>\n",
       "      <td>NaN</td>\n",
       "      <td>카페24,고도몰,메이크샵등 쇼핑몰 수정,코딩,유지보수</td>\n",
       "      <td>logf1</td>\n",
       "      <td>5000.0</td>\n",
       "      <td>5000.0</td>\n",
       "      <td>5.0</td>\n",
       "      <td>584.0</td>\n",
       "      <td>커머스</td>\n",
       "      <td>2102.0</td>\n",
       "      <td>0</td>\n",
       "    </tr>\n",
       "    <tr>\n",
       "      <th>...</th>\n",
       "      <td>...</td>\n",
       "      <td>...</td>\n",
       "      <td>...</td>\n",
       "      <td>...</td>\n",
       "      <td>...</td>\n",
       "      <td>...</td>\n",
       "      <td>...</td>\n",
       "      <td>...</td>\n",
       "      <td>...</td>\n",
       "      <td>...</td>\n",
       "      <td>...</td>\n",
       "      <td>...</td>\n",
       "      <td>...</td>\n",
       "      <td>...</td>\n",
       "      <td>...</td>\n",
       "      <td>...</td>\n",
       "      <td>...</td>\n",
       "    </tr>\n",
       "    <tr>\n",
       "      <th>338200</th>\n",
       "      <td>338200</td>\n",
       "      <td>20210628</td>\n",
       "      <td>6.5</td>\n",
       "      <td>5030601524</td>\n",
       "      <td>0.0</td>\n",
       "      <td>15600</td>\n",
       "      <td>NaN</td>\n",
       "      <td>NaN</td>\n",
       "      <td>카페24,고도몰,메이크샵등 쇼핑몰 수정,코딩,유지보수</td>\n",
       "      <td>logf1</td>\n",
       "      <td>20600.0</td>\n",
       "      <td>5000.0</td>\n",
       "      <td>5.0</td>\n",
       "      <td>584.0</td>\n",
       "      <td>커머스</td>\n",
       "      <td>2102.0</td>\n",
       "      <td>0</td>\n",
       "    </tr>\n",
       "    <tr>\n",
       "      <th>338201</th>\n",
       "      <td>338201</td>\n",
       "      <td>20210628</td>\n",
       "      <td>6.5</td>\n",
       "      <td>50508005146</td>\n",
       "      <td>0.0</td>\n",
       "      <td>0</td>\n",
       "      <td>NaN</td>\n",
       "      <td>NaN</td>\n",
       "      <td>카페24,고도몰,메이크샵등 쇼핑몰 수정,코딩,유지보수</td>\n",
       "      <td>logf1</td>\n",
       "      <td>5000.0</td>\n",
       "      <td>5000.0</td>\n",
       "      <td>5.0</td>\n",
       "      <td>584.0</td>\n",
       "      <td>커머스</td>\n",
       "      <td>2102.0</td>\n",
       "      <td>0</td>\n",
       "    </tr>\n",
       "    <tr>\n",
       "      <th>338202</th>\n",
       "      <td>338202</td>\n",
       "      <td>20210628</td>\n",
       "      <td>6.5</td>\n",
       "      <td>60402319108</td>\n",
       "      <td>0.0</td>\n",
       "      <td>1800</td>\n",
       "      <td>NaN</td>\n",
       "      <td>NaN</td>\n",
       "      <td>카페24,고도몰,메이크샵등 쇼핑몰 수정,코딩,유지보수</td>\n",
       "      <td>logf1</td>\n",
       "      <td>6800.0</td>\n",
       "      <td>5000.0</td>\n",
       "      <td>5.0</td>\n",
       "      <td>584.0</td>\n",
       "      <td>커머스</td>\n",
       "      <td>2102.0</td>\n",
       "      <td>0</td>\n",
       "    </tr>\n",
       "    <tr>\n",
       "      <th>338203</th>\n",
       "      <td>338203</td>\n",
       "      <td>20210628</td>\n",
       "      <td>6.5</td>\n",
       "      <td>80201053103</td>\n",
       "      <td>0.0</td>\n",
       "      <td>0</td>\n",
       "      <td>NaN</td>\n",
       "      <td>NaN</td>\n",
       "      <td>카페24,고도몰,메이크샵등 쇼핑몰 수정,코딩,유지보수</td>\n",
       "      <td>logf1</td>\n",
       "      <td>5000.0</td>\n",
       "      <td>5000.0</td>\n",
       "      <td>5.0</td>\n",
       "      <td>584.0</td>\n",
       "      <td>커머스</td>\n",
       "      <td>2102.0</td>\n",
       "      <td>0</td>\n",
       "    </tr>\n",
       "    <tr>\n",
       "      <th>338204</th>\n",
       "      <td>338204</td>\n",
       "      <td>20210628</td>\n",
       "      <td>7.5</td>\n",
       "      <td>130705035108</td>\n",
       "      <td>0.0</td>\n",
       "      <td>10000</td>\n",
       "      <td>NaN</td>\n",
       "      <td>NaN</td>\n",
       "      <td>카페24,고도몰,메이크샵등 쇼핑몰 수정,코딩,유지보수</td>\n",
       "      <td>logf1</td>\n",
       "      <td>15000.0</td>\n",
       "      <td>5000.0</td>\n",
       "      <td>5.0</td>\n",
       "      <td>584.0</td>\n",
       "      <td>커머스</td>\n",
       "      <td>2102.0</td>\n",
       "      <td>0</td>\n",
       "    </tr>\n",
       "  </tbody>\n",
       "</table>\n",
       "<p>396 rows × 17 columns</p>\n",
       "</div>"
      ],
      "text/plain": [
       "        Unnamed: 0      거래일자  수수료율          고객ID  프로그램수정횟수  추가결제금액  거래취소여부  \\\n",
       "0                0  20210201   6.5    5030100140       0.0    9800     NaN   \n",
       "1                1  20210201   6.5    8020105385       0.0       0     NaN   \n",
       "1905          1905  20210202   7.5    5019822311       0.0       0     NaN   \n",
       "1906          1906  20210202   7.5    5030300449       0.0       0     NaN   \n",
       "1907          1907  20210202   9.0    5070500573       0.0       0     NaN   \n",
       "...            ...       ...   ...           ...       ...     ...     ...   \n",
       "338200      338200  20210628   6.5    5030601524       0.0   15600     NaN   \n",
       "338201      338201  20210628   6.5   50508005146       0.0       0     NaN   \n",
       "338202      338202  20210628   6.5   60402319108       0.0    1800     NaN   \n",
       "338203      338203  20210628   6.5   80201053103       0.0       0     NaN   \n",
       "338204      338204  20210628   7.5  130705035108       0.0   10000     NaN   \n",
       "\n",
       "        거래취소일자                           서비스명    판매자     판매금액   서비스가격   평점  \\\n",
       "0          NaN  카페24,고도몰,메이크샵등 쇼핑몰 수정,코딩,유지보수  logf1  14800.0  5000.0  5.0   \n",
       "1          NaN  카페24,고도몰,메이크샵등 쇼핑몰 수정,코딩,유지보수  logf1   5000.0  5000.0  5.0   \n",
       "1905       NaN  카페24,고도몰,메이크샵등 쇼핑몰 수정,코딩,유지보수  logf1   5000.0  5000.0  5.0   \n",
       "1906       NaN  카페24,고도몰,메이크샵등 쇼핑몰 수정,코딩,유지보수  logf1   5000.0  5000.0  5.0   \n",
       "1907       NaN  카페24,고도몰,메이크샵등 쇼핑몰 수정,코딩,유지보수  logf1   5000.0  5000.0  5.0   \n",
       "...        ...                            ...    ...      ...     ...  ...   \n",
       "338200     NaN  카페24,고도몰,메이크샵등 쇼핑몰 수정,코딩,유지보수  logf1  20600.0  5000.0  5.0   \n",
       "338201     NaN  카페24,고도몰,메이크샵등 쇼핑몰 수정,코딩,유지보수  logf1   5000.0  5000.0  5.0   \n",
       "338202     NaN  카페24,고도몰,메이크샵등 쇼핑몰 수정,코딩,유지보수  logf1   6800.0  5000.0  5.0   \n",
       "338203     NaN  카페24,고도몰,메이크샵등 쇼핑몰 수정,코딩,유지보수  logf1   5000.0  5000.0  5.0   \n",
       "338204     NaN  카페24,고도몰,메이크샵등 쇼핑몰 수정,코딩,유지보수  logf1  15000.0  5000.0  5.0   \n",
       "\n",
       "         이용자수  대분류   서비스번호  환불유무  \n",
       "0       584.0  커머스  2102.0     0  \n",
       "1       584.0  커머스  2102.0     0  \n",
       "1905    584.0  커머스  2102.0     0  \n",
       "1906    584.0  커머스  2102.0     0  \n",
       "1907    584.0  커머스  2102.0     0  \n",
       "...       ...  ...     ...   ...  \n",
       "338200  584.0  커머스  2102.0     0  \n",
       "338201  584.0  커머스  2102.0     0  \n",
       "338202  584.0  커머스  2102.0     0  \n",
       "338203  584.0  커머스  2102.0     0  \n",
       "338204  584.0  커머스  2102.0     0  \n",
       "\n",
       "[396 rows x 17 columns]"
      ]
     },
     "execution_count": 58,
     "metadata": {},
     "output_type": "execute_result"
    }
   ],
   "source": [
    "df1[df1['서비스번호']==2102]"
   ]
  },
  {
   "cell_type": "code",
   "execution_count": null,
   "id": "943fb412",
   "metadata": {},
   "outputs": [],
   "source": []
  }
 ],
 "metadata": {
  "kernelspec": {
   "display_name": "Python 3 (ipykernel)",
   "language": "python",
   "name": "python3"
  },
  "language_info": {
   "codemirror_mode": {
    "name": "ipython",
    "version": 3
   },
   "file_extension": ".py",
   "mimetype": "text/x-python",
   "name": "python",
   "nbconvert_exporter": "python",
   "pygments_lexer": "ipython3",
   "version": "3.11.5"
  },
  "toc": {
   "base_numbering": 1,
   "nav_menu": {},
   "number_sections": true,
   "sideBar": true,
   "skip_h1_title": false,
   "title_cell": "Table of Contents",
   "title_sidebar": "Contents",
   "toc_cell": false,
   "toc_position": {
    "height": "calc(100% - 180px)",
    "left": "10px",
    "top": "150px",
    "width": "342px"
   },
   "toc_section_display": true,
   "toc_window_display": false
  }
 },
 "nbformat": 4,
 "nbformat_minor": 5
}
